{
 "cells": [
  {
   "cell_type": "code",
   "execution_count": 1,
   "id": "c340ffca-237a-414f-a5d1-6d26853a4848",
   "metadata": {
    "execution": {
     "iopub.execute_input": "2025-05-30T15:19:05.918779Z",
     "iopub.status.busy": "2025-05-30T15:19:05.918396Z",
     "iopub.status.idle": "2025-05-30T15:36:28.311800Z",
     "shell.execute_reply": "2025-05-30T15:36:28.310638Z"
    },
    "papermill": {
     "duration": 1042.402607,
     "end_time": "2025-05-30T15:36:28.314491",
     "exception": false,
     "start_time": "2025-05-30T15:19:05.911884",
     "status": "completed"
    },
    "tags": []
   },
   "outputs": [
    {
     "name": "stderr",
     "output_type": "stream",
     "text": [
      "/home/ubuntu/miniconda3/envs/gnn_project/lib/python3.10/site-packages/tqdm/auto.py:21: TqdmWarning: IProgress not found. Please update jupyter and ipywidgets. See https://ipywidgets.readthedocs.io/en/stable/user_install.html\n",
      "  from .autonotebook import tqdm as notebook_tqdm\n"
     ]
    },
    {
     "name": "stdout",
     "output_type": "stream",
     "text": [
      "Train: 2407,Val: 811,Test: 864,Val + Train combined: 3218\n",
      "\n",
      "Data loading completed\n",
      "\n"
     ]
    },
    {
     "name": "stdout",
     "output_type": "stream",
     "text": [
      "Hyperparameter optimization...\n",
      "\n"
     ]
    },
    {
     "name": "stderr",
     "output_type": "stream",
     "text": [
      "[I 2025-05-30 15:19:12,716] A new study created in memory with name: no-name-5d5079a3-8010-48a3-bf06-50ff884a85cd\n"
     ]
    },
    {
     "name": "stderr",
     "output_type": "stream",
     "text": [
      "[I 2025-05-30 15:19:52,367] Trial 0 finished with value: 0.7037235051393509 and parameters: {'hidden_dim': 174, 'dropout_rate': 0.47570714885887566, 'aggregator_type': 'gcn', 'lr': 6.025215736203862e-06, 'batch_size': 256, 'n_hidden_layers': 4, 'lr_scheduler': 'None', 'activation': 'RELU'}. Best is trial 0 with value: 0.7037235051393509.\n"
     ]
    },
    {
     "name": "stderr",
     "output_type": "stream",
     "text": [
      "[I 2025-05-30 15:20:36,035] Trial 1 finished with value: 0.6985835880041122 and parameters: {'hidden_dim': 153, 'dropout_rate': 0.2527292404900592, 'aggregator_type': 'lstm', 'lr': 0.00014445251022763054, 'batch_size': 256, 'n_hidden_layers': 1, 'lr_scheduler': 'StepLR', 'activation': 'LeakyRELU', 'step_size': 3, 'gamma_step': 0.7591279871399473}. Best is trial 1 with value: 0.6985835880041122.\n"
     ]
    },
    {
     "name": "stderr",
     "output_type": "stream",
     "text": [
      "[I 2025-05-30 15:21:45,382] Trial 2 finished with value: 0.8829054321561541 and parameters: {'hidden_dim': 203, 'dropout_rate': 0.21347061968879935, 'aggregator_type': 'gcn', 'lr': 0.055517216852447225, 'batch_size': 128, 'n_hidden_layers': 2, 'lr_scheduler': 'StepLR', 'activation': 'RELU', 'step_size': 4, 'gamma_step': 0.6199726711234134}. Best is trial 1 with value: 0.6985835880041122.\n"
     ]
    },
    {
     "name": "stderr",
     "output_type": "stream",
     "text": [
      "[I 2025-05-30 15:22:23,558] Trial 3 finished with value: 0.9512414634227753 and parameters: {'hidden_dim': 245, 'dropout_rate': 0.27504619466400493, 'aggregator_type': 'gcn', 'lr': 0.0005414413211338525, 'batch_size': 256, 'n_hidden_layers': 4, 'lr_scheduler': 'None', 'activation': 'LeakyRELU'}. Best is trial 1 with value: 0.6985835880041122.\n"
     ]
    },
    {
     "name": "stderr",
     "output_type": "stream",
     "text": [
      "[I 2025-05-30 15:24:24,997] Trial 4 finished with value: 0.7412407398223877 and parameters: {'hidden_dim': 136, 'dropout_rate': 0.2568350301015521, 'aggregator_type': 'lstm', 'lr': 2.2737628102536852e-05, 'batch_size': 128, 'n_hidden_layers': 2, 'lr_scheduler': 'None', 'activation': 'RELU'}. Best is trial 1 with value: 0.6985835880041122.\n"
     ]
    },
    {
     "name": "stderr",
     "output_type": "stream",
     "text": [
      "[I 2025-05-30 15:24:25,568] Trial 5 pruned. \n"
     ]
    },
    {
     "name": "stderr",
     "output_type": "stream",
     "text": [
      "[I 2025-05-30 15:24:26,420] Trial 6 pruned. \n"
     ]
    },
    {
     "name": "stderr",
     "output_type": "stream",
     "text": [
      "[I 2025-05-30 15:26:06,144] Trial 7 finished with value: 0.6961656659841537 and parameters: {'hidden_dim': 181, 'dropout_rate': 0.20737154675578762, 'aggregator_type': 'lstm', 'lr': 3.730610475453592e-05, 'batch_size': 256, 'n_hidden_layers': 2, 'lr_scheduler': 'StepLR', 'activation': 'RELU', 'step_size': 4, 'gamma_step': 0.6567541733036613}. Best is trial 7 with value: 0.6961656659841537.\n"
     ]
    },
    {
     "name": "stderr",
     "output_type": "stream",
     "text": [
      "[I 2025-05-30 15:26:07,677] Trial 8 pruned. \n"
     ]
    },
    {
     "name": "stderr",
     "output_type": "stream",
     "text": [
      "[I 2025-05-30 15:27:16,784] Trial 9 finished with value: 0.7991657257080078 and parameters: {'hidden_dim': 181, 'dropout_rate': 0.437224282117523, 'aggregator_type': 'gcn', 'lr': 0.0001221954445633545, 'batch_size': 128, 'n_hidden_layers': 2, 'lr_scheduler': 'None', 'activation': 'LeakyRELU'}. Best is trial 7 with value: 0.6961656659841537.\n"
     ]
    },
    {
     "name": "stderr",
     "output_type": "stream",
     "text": [
      "[I 2025-05-30 15:27:17,403] Trial 10 pruned. \n"
     ]
    },
    {
     "name": "stderr",
     "output_type": "stream",
     "text": [
      "[I 2025-05-30 15:27:18,143] Trial 11 pruned. \n"
     ]
    },
    {
     "name": "stderr",
     "output_type": "stream",
     "text": [
      "[I 2025-05-30 15:27:19,689] Trial 12 pruned. \n"
     ]
    },
    {
     "name": "stderr",
     "output_type": "stream",
     "text": [
      "[I 2025-05-30 15:27:21,044] Trial 13 pruned. \n"
     ]
    },
    {
     "name": "stderr",
     "output_type": "stream",
     "text": [
      "[I 2025-05-30 15:27:21,675] Trial 14 pruned. \n"
     ]
    },
    {
     "name": "stderr",
     "output_type": "stream",
     "text": [
      "[I 2025-05-30 15:27:23,504] Trial 15 pruned. \n"
     ]
    },
    {
     "name": "stderr",
     "output_type": "stream",
     "text": [
      "[I 2025-05-30 15:28:01,549] Trial 16 finished with value: 0.6916545331478119 and parameters: {'hidden_dim': 125, 'dropout_rate': 0.2382982371648163, 'aggregator_type': 'pool', 'lr': 1.501848672697926e-06, 'batch_size': 256, 'n_hidden_layers': 2, 'lr_scheduler': 'StepLR', 'activation': 'LeakyRELU', 'step_size': 5, 'gamma_step': 0.6827634594803749}. Best is trial 16 with value: 0.6916545331478119.\n"
     ]
    },
    {
     "name": "stderr",
     "output_type": "stream",
     "text": [
      "[I 2025-05-30 15:28:02,169] Trial 17 pruned. \n"
     ]
    },
    {
     "name": "stderr",
     "output_type": "stream",
     "text": [
      "[I 2025-05-30 15:28:02,954] Trial 18 pruned. \n"
     ]
    },
    {
     "name": "stderr",
     "output_type": "stream",
     "text": [
      "[I 2025-05-30 15:28:03,567] Trial 19 pruned. \n"
     ]
    },
    {
     "name": "stderr",
     "output_type": "stream",
     "text": [
      "[I 2025-05-30 15:28:41,769] Trial 20 finished with value: 0.6833554655313492 and parameters: {'hidden_dim': 221, 'dropout_rate': 0.2343002092037042, 'aggregator_type': 'pool', 'lr': 2.943235110811487e-06, 'batch_size': 256, 'n_hidden_layers': 2, 'lr_scheduler': 'StepLR', 'activation': 'LeakyRELU', 'step_size': 5, 'gamma_step': 0.7049128728506044}. Best is trial 20 with value: 0.6833554655313492.\n"
     ]
    },
    {
     "name": "stderr",
     "output_type": "stream",
     "text": [
      "[I 2025-05-30 15:29:20,159] Trial 21 finished with value: 0.682741641998291 and parameters: {'hidden_dim': 210, 'dropout_rate': 0.23147404412571473, 'aggregator_type': 'pool', 'lr': 2.5472279576088033e-06, 'batch_size': 256, 'n_hidden_layers': 2, 'lr_scheduler': 'StepLR', 'activation': 'LeakyRELU', 'step_size': 5, 'gamma_step': 0.707893716387414}. Best is trial 21 with value: 0.682741641998291.\n"
     ]
    },
    {
     "name": "stderr",
     "output_type": "stream",
     "text": [
      "[I 2025-05-30 15:29:20,689] Trial 22 pruned. \n"
     ]
    },
    {
     "name": "stderr",
     "output_type": "stream",
     "text": [
      "[I 2025-05-30 15:29:21,244] Trial 23 pruned. \n"
     ]
    },
    {
     "name": "stderr",
     "output_type": "stream",
     "text": [
      "[I 2025-05-30 15:29:21,906] Trial 24 pruned. \n"
     ]
    },
    {
     "name": "stderr",
     "output_type": "stream",
     "text": [
      "[I 2025-05-30 15:29:22,546] Trial 25 pruned. \n"
     ]
    },
    {
     "name": "stderr",
     "output_type": "stream",
     "text": [
      "[I 2025-05-30 15:29:23,449] Trial 26 pruned. \n"
     ]
    },
    {
     "name": "stderr",
     "output_type": "stream",
     "text": [
      "[I 2025-05-30 15:29:23,978] Trial 27 pruned. \n"
     ]
    },
    {
     "name": "stderr",
     "output_type": "stream",
     "text": [
      "[I 2025-05-30 15:29:24,494] Trial 28 pruned. \n"
     ]
    },
    {
     "name": "stderr",
     "output_type": "stream",
     "text": [
      "[I 2025-05-30 15:30:25,413] Trial 29 finished with value: 0.6865323036909103 and parameters: {'hidden_dim': 236, 'dropout_rate': 0.2647584663058854, 'aggregator_type': 'pool', 'lr': 2.802395656796307e-06, 'batch_size': 256, 'n_hidden_layers': 5, 'lr_scheduler': 'None', 'activation': 'LeakyRELU'}. Best is trial 21 with value: 0.682741641998291.\n"
     ]
    },
    {
     "name": "stderr",
     "output_type": "stream",
     "text": [
      "[I 2025-05-30 15:30:25,934] Trial 30 pruned. \n"
     ]
    },
    {
     "name": "stderr",
     "output_type": "stream",
     "text": [
      "[I 2025-05-30 15:30:26,674] Trial 31 pruned. \n"
     ]
    },
    {
     "name": "stderr",
     "output_type": "stream",
     "text": [
      "[I 2025-05-30 15:30:27,555] Trial 32 pruned. \n"
     ]
    },
    {
     "name": "stderr",
     "output_type": "stream",
     "text": [
      "[I 2025-05-30 15:30:28,329] Trial 33 pruned. \n"
     ]
    },
    {
     "name": "stderr",
     "output_type": "stream",
     "text": [
      "[I 2025-05-30 15:31:04,420] Trial 34 finished with value: 0.698610857129097 and parameters: {'hidden_dim': 233, 'dropout_rate': 0.20212095906163086, 'aggregator_type': 'pool', 'lr': 1.3710535580160392e-05, 'batch_size': 256, 'n_hidden_layers': 1, 'lr_scheduler': 'None', 'activation': 'LeakyRELU'}. Best is trial 21 with value: 0.682741641998291.\n"
     ]
    },
    {
     "name": "stderr",
     "output_type": "stream",
     "text": [
      "[I 2025-05-30 15:31:40,777] Trial 35 finished with value: 0.6909666210412979 and parameters: {'hidden_dim': 207, 'dropout_rate': 0.29076418031788626, 'aggregator_type': 'gcn', 'lr': 4.512179756270558e-06, 'batch_size': 256, 'n_hidden_layers': 3, 'lr_scheduler': 'None', 'activation': 'LeakyRELU'}. Best is trial 21 with value: 0.682741641998291.\n"
     ]
    },
    {
     "name": "stderr",
     "output_type": "stream",
     "text": [
      "[I 2025-05-30 15:31:41,747] Trial 36 pruned. \n"
     ]
    },
    {
     "name": "stderr",
     "output_type": "stream",
     "text": [
      "[I 2025-05-30 15:32:19,608] Trial 37 finished with value: 0.700380727648735 and parameters: {'hidden_dim': 197, 'dropout_rate': 0.31720179162583795, 'aggregator_type': 'gcn', 'lr': 5.588109192517078e-06, 'batch_size': 256, 'n_hidden_layers': 4, 'lr_scheduler': 'None', 'activation': 'LeakyRELU'}. Best is trial 21 with value: 0.682741641998291.\n"
     ]
    },
    {
     "name": "stderr",
     "output_type": "stream",
     "text": [
      "[I 2025-05-30 15:32:20,517] Trial 38 pruned. \n"
     ]
    },
    {
     "name": "stderr",
     "output_type": "stream",
     "text": [
      "[I 2025-05-30 15:32:21,004] Trial 39 pruned. \n"
     ]
    },
    {
     "name": "stderr",
     "output_type": "stream",
     "text": [
      "[I 2025-05-30 15:32:21,453] Trial 40 pruned. \n"
     ]
    },
    {
     "name": "stderr",
     "output_type": "stream",
     "text": [
      "[I 2025-05-30 15:32:21,946] Trial 41 pruned. \n"
     ]
    },
    {
     "name": "stderr",
     "output_type": "stream",
     "text": [
      "[I 2025-05-30 15:32:22,423] Trial 42 pruned. \n"
     ]
    },
    {
     "name": "stderr",
     "output_type": "stream",
     "text": [
      "[I 2025-05-30 15:32:23,003] Trial 43 pruned. \n"
     ]
    },
    {
     "name": "stderr",
     "output_type": "stream",
     "text": [
      "[I 2025-05-30 15:32:23,431] Trial 44 pruned. \n"
     ]
    },
    {
     "name": "stderr",
     "output_type": "stream",
     "text": [
      "[I 2025-05-30 15:32:24,510] Trial 45 pruned. \n"
     ]
    },
    {
     "name": "stderr",
     "output_type": "stream",
     "text": [
      "[I 2025-05-30 15:32:25,029] Trial 46 pruned. \n"
     ]
    },
    {
     "name": "stderr",
     "output_type": "stream",
     "text": [
      "[I 2025-05-30 15:32:59,295] Trial 47 finished with value: 0.6920849084854126 and parameters: {'hidden_dim': 177, 'dropout_rate': 0.2549569281733597, 'aggregator_type': 'gcn', 'lr': 3.0347202226130124e-06, 'batch_size': 256, 'n_hidden_layers': 1, 'lr_scheduler': 'StepLR', 'activation': 'LeakyRELU', 'step_size': 4, 'gamma_step': 0.7415236390546146}. Best is trial 21 with value: 0.682741641998291.\n"
     ]
    },
    {
     "name": "stderr",
     "output_type": "stream",
     "text": [
      "[I 2025-05-30 15:32:59,906] Trial 48 pruned. \n"
     ]
    },
    {
     "name": "stderr",
     "output_type": "stream",
     "text": [
      "[I 2025-05-30 15:33:00,856] Trial 49 pruned. \n"
     ]
    },
    {
     "name": "stderr",
     "output_type": "stream",
     "text": [
      "[I 2025-05-30 15:33:01,358] Trial 50 pruned. \n"
     ]
    },
    {
     "name": "stderr",
     "output_type": "stream",
     "text": [
      "[I 2025-05-30 15:33:01,812] Trial 51 pruned. \n"
     ]
    },
    {
     "name": "stderr",
     "output_type": "stream",
     "text": [
      "[I 2025-05-30 15:33:02,369] Trial 52 pruned. \n"
     ]
    },
    {
     "name": "stderr",
     "output_type": "stream",
     "text": [
      "[I 2025-05-30 15:33:02,877] Trial 53 pruned. \n"
     ]
    },
    {
     "name": "stderr",
     "output_type": "stream",
     "text": [
      "[I 2025-05-30 15:33:03,297] Trial 54 pruned. \n"
     ]
    },
    {
     "name": "stderr",
     "output_type": "stream",
     "text": [
      "[I 2025-05-30 15:33:04,665] Trial 55 pruned. \n"
     ]
    },
    {
     "name": "stderr",
     "output_type": "stream",
     "text": [
      "[I 2025-05-30 15:33:05,221] Trial 56 pruned. \n"
     ]
    },
    {
     "name": "stderr",
     "output_type": "stream",
     "text": [
      "[I 2025-05-30 15:33:05,816] Trial 57 pruned. \n"
     ]
    },
    {
     "name": "stderr",
     "output_type": "stream",
     "text": [
      "[I 2025-05-30 15:33:06,298] Trial 58 pruned. \n"
     ]
    },
    {
     "name": "stderr",
     "output_type": "stream",
     "text": [
      "[I 2025-05-30 15:33:07,021] Trial 59 pruned. \n"
     ]
    },
    {
     "name": "stderr",
     "output_type": "stream",
     "text": [
      "[I 2025-05-30 15:33:07,743] Trial 60 pruned. \n"
     ]
    },
    {
     "name": "stderr",
     "output_type": "stream",
     "text": [
      "[I 2025-05-30 15:33:09,222] Trial 61 pruned. \n"
     ]
    },
    {
     "name": "stderr",
     "output_type": "stream",
     "text": [
      "[I 2025-05-30 15:33:10,527] Trial 62 pruned. \n"
     ]
    },
    {
     "name": "stderr",
     "output_type": "stream",
     "text": [
      "[I 2025-05-30 15:33:12,157] Trial 63 pruned. \n"
     ]
    },
    {
     "name": "stderr",
     "output_type": "stream",
     "text": [
      "[I 2025-05-30 15:33:14,088] Trial 64 pruned. \n"
     ]
    },
    {
     "name": "stderr",
     "output_type": "stream",
     "text": [
      "[I 2025-05-30 15:33:14,696] Trial 65 pruned. \n"
     ]
    },
    {
     "name": "stderr",
     "output_type": "stream",
     "text": [
      "[I 2025-05-30 15:33:16,531] Trial 66 pruned. \n"
     ]
    },
    {
     "name": "stderr",
     "output_type": "stream",
     "text": [
      "[I 2025-05-30 15:34:02,756] Trial 67 finished with value: 0.8380177617073059 and parameters: {'hidden_dim': 240, 'dropout_rate': 0.23799202278692871, 'aggregator_type': 'pool', 'lr': 0.00020676583053774654, 'batch_size': 256, 'n_hidden_layers': 3, 'lr_scheduler': 'None', 'activation': 'LeakyRELU'}. Best is trial 21 with value: 0.682741641998291.\n"
     ]
    },
    {
     "name": "stderr",
     "output_type": "stream",
     "text": [
      "[I 2025-05-30 15:34:38,100] Trial 68 finished with value: 0.6917981803417206 and parameters: {'hidden_dim': 225, 'dropout_rate': 0.2242085341584586, 'aggregator_type': 'gcn', 'lr': 1.665786083665557e-06, 'batch_size': 256, 'n_hidden_layers': 2, 'lr_scheduler': 'StepLR', 'activation': 'LeakyRELU', 'step_size': 5, 'gamma_step': 0.6836653286255426}. Best is trial 21 with value: 0.682741641998291.\n"
     ]
    },
    {
     "name": "stderr",
     "output_type": "stream",
     "text": [
      "[I 2025-05-30 15:35:14,591] Trial 69 finished with value: 0.6914216876029968 and parameters: {'hidden_dim': 224, 'dropout_rate': 0.29072525612698435, 'aggregator_type': 'gcn', 'lr': 1.6274512382606522e-06, 'batch_size': 256, 'n_hidden_layers': 3, 'lr_scheduler': 'StepLR', 'activation': 'LeakyRELU', 'step_size': 5, 'gamma_step': 0.6297907001673991}. Best is trial 21 with value: 0.682741641998291.\n"
     ]
    },
    {
     "name": "stderr",
     "output_type": "stream",
     "text": [
      "[I 2025-05-30 15:35:15,058] Trial 70 pruned. \n"
     ]
    },
    {
     "name": "stderr",
     "output_type": "stream",
     "text": [
      "[I 2025-05-30 15:35:15,568] Trial 71 pruned. \n"
     ]
    },
    {
     "name": "stderr",
     "output_type": "stream",
     "text": [
      "[I 2025-05-30 15:35:16,085] Trial 72 pruned. \n"
     ]
    },
    {
     "name": "stderr",
     "output_type": "stream",
     "text": [
      "[I 2025-05-30 15:35:16,552] Trial 73 pruned. \n"
     ]
    },
    {
     "name": "stderr",
     "output_type": "stream",
     "text": [
      "[I 2025-05-30 15:35:17,106] Trial 74 pruned. \n"
     ]
    },
    {
     "name": "stderr",
     "output_type": "stream",
     "text": [
      "[I 2025-05-30 15:35:17,544] Trial 75 pruned. \n"
     ]
    },
    {
     "name": "stderr",
     "output_type": "stream",
     "text": [
      "[I 2025-05-30 15:35:18,035] Trial 76 pruned. \n"
     ]
    },
    {
     "name": "stderr",
     "output_type": "stream",
     "text": [
      "[I 2025-05-30 15:35:18,585] Trial 77 pruned. \n"
     ]
    },
    {
     "name": "stderr",
     "output_type": "stream",
     "text": [
      "[I 2025-05-30 15:35:19,491] Trial 78 pruned. \n"
     ]
    },
    {
     "name": "stderr",
     "output_type": "stream",
     "text": [
      "[I 2025-05-30 15:35:20,048] Trial 79 pruned. \n"
     ]
    },
    {
     "name": "stdout",
     "output_type": "stream",
     "text": [
      "Best hyperparameters are {'hidden_dim': 210, 'dropout_rate': 0.23147404412571473, 'aggregator_type': 'pool', 'lr': 2.5472279576088033e-06, 'batch_size': 256, 'n_hidden_layers': 2, 'lr_scheduler': 'StepLR', 'activation': 'LeakyRELU', 'step_size': 5, 'gamma_step': 0.707893716387414}.\n",
      "\n",
      "Trial #1\n",
      "  Value (Objective): 0.682741641998291\n",
      "  Params: {'hidden_dim': 210, 'dropout_rate': 0.23147404412571473, 'aggregator_type': 'pool', 'lr': 2.5472279576088033e-06, 'batch_size': 256, 'n_hidden_layers': 2, 'lr_scheduler': 'StepLR', 'activation': 'LeakyRELU', 'step_size': 5, 'gamma_step': 0.707893716387414}\n",
      "\n",
      "Trial #2\n",
      "  Value (Objective): 0.6833554655313492\n",
      "  Params: {'hidden_dim': 221, 'dropout_rate': 0.2343002092037042, 'aggregator_type': 'pool', 'lr': 2.943235110811487e-06, 'batch_size': 256, 'n_hidden_layers': 2, 'lr_scheduler': 'StepLR', 'activation': 'LeakyRELU', 'step_size': 5, 'gamma_step': 0.7049128728506044}\n",
      "\n",
      "Trial #3\n",
      "  Value (Objective): 0.6865323036909103\n",
      "  Params: {'hidden_dim': 236, 'dropout_rate': 0.2647584663058854, 'aggregator_type': 'pool', 'lr': 2.802395656796307e-06, 'batch_size': 256, 'n_hidden_layers': 5, 'lr_scheduler': 'None', 'activation': 'LeakyRELU'}\n",
      "\n",
      "Trial #4\n",
      "  Value (Objective): 0.6909666210412979\n",
      "  Params: {'hidden_dim': 207, 'dropout_rate': 0.29076418031788626, 'aggregator_type': 'gcn', 'lr': 4.512179756270558e-06, 'batch_size': 256, 'n_hidden_layers': 3, 'lr_scheduler': 'None', 'activation': 'LeakyRELU'}\n",
      "\n",
      "Trial #5\n",
      "  Value (Objective): 0.6914216876029968\n",
      "  Params: {'hidden_dim': 224, 'dropout_rate': 0.29072525612698435, 'aggregator_type': 'gcn', 'lr': 1.6274512382606522e-06, 'batch_size': 256, 'n_hidden_layers': 3, 'lr_scheduler': 'StepLR', 'activation': 'LeakyRELU', 'step_size': 5, 'gamma_step': 0.6297907001673991}\n",
      "\n",
      "Trial #6\n",
      "  Value (Objective): 0.6916545331478119\n",
      "  Params: {'hidden_dim': 125, 'dropout_rate': 0.2382982371648163, 'aggregator_type': 'pool', 'lr': 1.501848672697926e-06, 'batch_size': 256, 'n_hidden_layers': 2, 'lr_scheduler': 'StepLR', 'activation': 'LeakyRELU', 'step_size': 5, 'gamma_step': 0.6827634594803749}\n",
      "\n",
      "Trial #7\n",
      "  Value (Objective): 0.6917981803417206\n",
      "  Params: {'hidden_dim': 225, 'dropout_rate': 0.2242085341584586, 'aggregator_type': 'gcn', 'lr': 1.665786083665557e-06, 'batch_size': 256, 'n_hidden_layers': 2, 'lr_scheduler': 'StepLR', 'activation': 'LeakyRELU', 'step_size': 5, 'gamma_step': 0.6836653286255426}\n",
      "\n",
      "Trial #8\n",
      "  Value (Objective): 0.6920849084854126\n",
      "  Params: {'hidden_dim': 177, 'dropout_rate': 0.2549569281733597, 'aggregator_type': 'gcn', 'lr': 3.0347202226130124e-06, 'batch_size': 256, 'n_hidden_layers': 1, 'lr_scheduler': 'StepLR', 'activation': 'LeakyRELU', 'step_size': 4, 'gamma_step': 0.7415236390546146}\n",
      "\n",
      "Trial #9\n",
      "  Value (Objective): 0.692269042134285\n",
      "  Params: {'hidden_dim': 198, 'dropout_rate': 0.2378557266233933, 'aggregator_type': 'gcn', 'lr': 6.008401081603047e-06, 'batch_size': 256, 'n_hidden_layers': 1, 'lr_scheduler': 'StepLR', 'activation': 'LeakyRELU', 'step_size': 5, 'gamma_step': 0.7452050432524843}\n",
      "\n",
      "Trial #10\n",
      "  Value (Objective): 0.692324161529541\n",
      "  Params: {'hidden_dim': 192, 'dropout_rate': 0.2717707699432977, 'aggregator_type': 'pool', 'lr': 0.004212210627577492, 'batch_size': 256, 'n_hidden_layers': 4, 'lr_scheduler': 'None', 'activation': 'LeakyRELU'}\n",
      "Hyperparameter optimization done.\n"
     ]
    },
    {
     "name": "stderr",
     "output_type": "stream",
     "text": [
      "/tmp/ipykernel_443354/1331812835.py:201: FutureWarning: `torch.cuda.amp.GradScaler(args...)` is deprecated. Please use `torch.amp.GradScaler('cuda', args...)` instead.\n",
      "  scaler = GradScaler()       # initializing the gradient scaler\n",
      "/tmp/ipykernel_443354/1331812835.py:215: FutureWarning: `torch.cuda.amp.autocast(args...)` is deprecated. Please use `torch.amp.autocast('cuda', args...)` instead.\n",
      "  with autocast():    # automatically selects the appropriate floating-point precision (to optimize performance - speeds up training, reduces memory usage)\n",
      "/home/ubuntu/miniconda3/envs/gnn_project/lib/python3.10/site-packages/dgl/backend/pytorch/sparse.py:157: FutureWarning: `torch.cuda.amp.autocast_mode._cast(value, dtype)` is deprecated. Please use `torch.amp.autocast_mode._cast(value, 'cuda', dtype)` instead.\n",
      "  return th.cuda.amp.autocast_mode._cast(\n",
      "/home/ubuntu/miniconda3/envs/gnn_project/lib/python3.10/site-packages/dgl/backend/pytorch/sparse.py:148: FutureWarning: `torch.cuda.amp.autocast(args...)` is deprecated. Please use `torch.amp.autocast('cuda', args...)` instead.\n",
      "  return th.cuda.amp.autocast(enabled=False)\n"
     ]
    },
    {
     "name": "stdout",
     "output_type": "stream",
     "text": [
      "\n",
      "{'hidden_dim': 210, 'dropout_rate': 0.23147404412571473, 'aggregator_type': 'pool', 'lr': 2.5472279576088033e-06, 'batch_size': 256, 'n_hidden_layers': 2, 'lr_scheduler': 'StepLR', 'activation': 'LeakyRELU', 'step_size': 5, 'gamma_step': 0.707893716387414}\n",
      "Dataloaders done.\n",
      "Retraining using best parameters...\n",
      "Number of available node features (in_feats): 74\n"
     ]
    },
    {
     "name": "stderr",
     "output_type": "stream",
     "text": [
      "/tmp/ipykernel_443354/1331812835.py:247: FutureWarning: `torch.cuda.amp.autocast(args...)` is deprecated. Please use `torch.amp.autocast('cuda', args...)` instead.\n",
      "  with autocast():    # automatically selects the appropriate floating-point precision (to optimize performance - speeds up training, reduces memory usage)\n"
     ]
    },
    {
     "name": "stdout",
     "output_type": "stream",
     "text": [
      "Epoch 1/1000Train loss: 0.7221Val loss: 0.7035Val accuracy: 3.70% MCC: 0\n"
     ]
    },
    {
     "name": "stdout",
     "output_type": "stream",
     "text": [
      "Epoch 5/1000Train loss: 0.7177Val loss: 0.7004Val accuracy: 3.70% MCC: 0\n"
     ]
    },
    {
     "name": "stdout",
     "output_type": "stream",
     "text": [
      "Epoch 10/1000Train loss: 0.7148Val loss: 0.6983Val accuracy: 3.70% MCC: 0\n"
     ]
    },
    {
     "name": "stdout",
     "output_type": "stream",
     "text": [
      "Epoch 15/1000Train loss: 0.7042Val loss: 0.6970Val accuracy: 3.70% MCC: 0\n"
     ]
    },
    {
     "name": "stdout",
     "output_type": "stream",
     "text": [
      "Epoch 20/1000Train loss: 0.7029Val loss: 0.6963Val accuracy: 3.70% MCC: 0\n"
     ]
    },
    {
     "name": "stdout",
     "output_type": "stream",
     "text": [
      "Epoch 25/1000Train loss: 0.6989Val loss: 0.6958Val accuracy: 3.70% MCC: 0\n"
     ]
    },
    {
     "name": "stdout",
     "output_type": "stream",
     "text": [
      "Epoch 30/1000Train loss: 0.7078Val loss: 0.6956Val accuracy: 3.70% MCC: 0\n"
     ]
    },
    {
     "name": "stdout",
     "output_type": "stream",
     "text": [
      "Epoch 35/1000Train loss: 0.6976Val loss: 0.6953Val accuracy: 3.70% MCC: 0\n"
     ]
    },
    {
     "name": "stdout",
     "output_type": "stream",
     "text": [
      "Epoch 40/1000Train loss: 0.7021Val loss: 0.6952Val accuracy: 3.70% MCC: 0\n"
     ]
    },
    {
     "name": "stdout",
     "output_type": "stream",
     "text": [
      "Epoch 45/1000Train loss: 0.6985Val loss: 0.6951Val accuracy: 3.70% MCC: 0\n"
     ]
    },
    {
     "name": "stdout",
     "output_type": "stream",
     "text": [
      "Epoch 50/1000Train loss: 0.7017Val loss: 0.6950Val accuracy: 3.70% MCC: 0\n"
     ]
    },
    {
     "name": "stdout",
     "output_type": "stream",
     "text": [
      "Epoch 55/1000Train loss: 0.6972Val loss: 0.6950Val accuracy: 3.70% MCC: 0\n"
     ]
    },
    {
     "name": "stdout",
     "output_type": "stream",
     "text": [
      "Epoch 60/1000Train loss: 0.7038Val loss: 0.6950Val accuracy: 3.70% MCC: 0\n"
     ]
    },
    {
     "name": "stdout",
     "output_type": "stream",
     "text": [
      "Epoch 65/1000Train loss: 0.7054Val loss: 0.6949Val accuracy: 3.70% MCC: 0\n"
     ]
    },
    {
     "name": "stdout",
     "output_type": "stream",
     "text": [
      "Epoch 70/1000Train loss: 0.6992Val loss: 0.6949Val accuracy: 3.70% MCC: 0\n"
     ]
    },
    {
     "name": "stdout",
     "output_type": "stream",
     "text": [
      "Epoch 75/1000Train loss: 0.6996Val loss: 0.6949Val accuracy: 3.70% MCC: 0\n"
     ]
    },
    {
     "name": "stdout",
     "output_type": "stream",
     "text": [
      "Epoch 80/1000Train loss: 0.6953Val loss: 0.6949Val accuracy: 3.70% MCC: 0\n"
     ]
    },
    {
     "name": "stdout",
     "output_type": "stream",
     "text": [
      "Epoch 85/1000Train loss: 0.7022Val loss: 0.6949Val accuracy: 3.70% MCC: 0\n"
     ]
    },
    {
     "name": "stdout",
     "output_type": "stream",
     "text": [
      "Epoch 90/1000Train loss: 0.7060Val loss: 0.6949Val accuracy: 3.70% MCC: 0\n"
     ]
    },
    {
     "name": "stdout",
     "output_type": "stream",
     "text": [
      "Epoch 95/1000Train loss: 0.7019Val loss: 0.6949Val accuracy: 3.70% MCC: 0\n"
     ]
    },
    {
     "name": "stdout",
     "output_type": "stream",
     "text": [
      "Epoch 100/1000Train loss: 0.6968Val loss: 0.6949Val accuracy: 3.70% MCC: 0\n"
     ]
    },
    {
     "name": "stdout",
     "output_type": "stream",
     "text": [
      "Epoch 105/1000Train loss: 0.7018Val loss: 0.6949Val accuracy: 3.70% MCC: 0\n"
     ]
    },
    {
     "name": "stdout",
     "output_type": "stream",
     "text": [
      "Early stopping triggered at epoch 110\n",
      "The best epoch was 30\n",
      "Training done.\n",
      "Final training...\n"
     ]
    },
    {
     "name": "stdout",
     "output_type": "stream",
     "text": [
      "Training done.\n",
      "Evaluating on test_dataset\n"
     ]
    },
    {
     "name": "stderr",
     "output_type": "stream",
     "text": [
      "/home/ubuntu/miniconda3/envs/gnn_project/lib/python3.10/site-packages/sklearn/metrics/_classification.py:1565: UndefinedMetricWarning: Precision is ill-defined and being set to 0.0 due to no predicted samples. Use `zero_division` parameter to control this behavior.\n",
      "  _warn_prf(average, modifier, f\"{metric.capitalize()} is\", len(result))\n"
     ]
    },
    {
     "data": {
      "image/png": "[encoded data removed]",
      "text/plain": [
       "<Figure size 800x600 with 1 Axes>"
      ]
     },
     "metadata": {},
     "output_type": "display_data"
    },
    {
     "name": "stdout",
     "output_type": "stream",
     "text": [
      "Test Loss: 0.7097458839416504\n",
      "Accuracy: 0.034722222222222224, Precision: 0.0, Recall: 0.0, F1-Score: 0.0, MCC: 0.0, ROC-AUC: 0.5880095923261391\n",
      "Evaluation done.\n"
     ]
    },
    {
     "data": {
      "text/plain": [
       "<Figure size 640x480 with 0 Axes>"
      ]
     },
     "metadata": {},
     "output_type": "display_data"
    },
    {
     "data": {
      "image/png": "[encoded data removed]",
      "text/plain": [
       "<Figure size 640x480 with 2 Axes>"
      ]
     },
     "metadata": {},
     "output_type": "display_data"
    }
   ],
   "source": [
    "\n",
    "\n",
    "import math\n",
    "import os\n",
    "os.environ[\"TORCHDYNAMO_DISABLE\"] = \"1\"\n",
    "os.environ[\"PYTORCH_CUDA_ALLOC_CONF\"] = \"expandable_segments:True\"\n",
    "os.environ[\"CUBLAS_WORKSPACE_CONFIG\"] = \":4096:8\"\n",
    "\n",
    "import torch\n",
    "torch.use_deterministic_algorithms(True)\n",
    "torch.cuda.empty_cache()\n",
    "import torch.nn as nn\n",
    "import torch.optim as optim\n",
    "from torch.cuda.amp import GradScaler, autocast\n",
    "import torch.nn.functional as F\n",
    "from torch.optim.lr_scheduler import ExponentialLR, StepLR, ReduceLROnPlateau, CosineAnnealingLR\n",
    "torch._dynamo.config.suppress_errors = True\n",
    "import random\n",
    "\n",
    "import json\n",
    "import sys\n",
    "\n",
    "import dgl\n",
    "from dgl.nn import SAGEConv, GlobalAttentionPooling\n",
    "from dgl.dataloading import GraphDataLoader\n",
    "import numpy as np\n",
    "\n",
    "import matplotlib.pyplot as plt\n",
    "\n",
    "from sklearn.metrics import *\n",
    "from sklearn.model_selection import train_test_split\n",
    "\n",
    "import pandas as pd\n",
    "\n",
    "import optuna\n",
    "from optuna.pruners import MedianPruner\n",
    "# subclass of torch.nn.Module\n",
    "\n",
    "# subclass of torch.nn.Module\n",
    "\n",
    "\n",
    "\n",
    "class SAGE(nn.Module):\n",
    "    def __init__(\n",
    "        self, \n",
    "        in_feats,       # input feature dimensions (anotation size)\n",
    "        out_feats,    # the same thing as hidden_dim - number of dimentions of hi+1\n",
    "        aggregator_type,    # type of aggregation\n",
    "        dropout_rate=0.5, # the dropout rate \n",
    "        n_cls=0.2,\n",
    "        n_hidden_layers=2,\n",
    "        activation='RELU'\n",
    "        ):\n",
    "        super(SAGE, self).__init__()\n",
    "        self.n_hidden_layers = n_hidden_layers\n",
    "        self.dropout = nn.Dropout(dropout_rate) # dropout layer\n",
    "        self.in_feats = in_feats\n",
    "        self.out_feats = out_feats\n",
    "        self.n_cls = n_cls\n",
    "        self.layers = nn.ModuleList()\n",
    "        self.activation = activation\n",
    "        for i in range(n_hidden_layers):\n",
    "            if i == 0:\n",
    "                set_in_feats = self.in_feats\n",
    "            else:\n",
    "                set_in_feats = self.out_feats\n",
    "            layer = SAGEConv(\n",
    "                in_feats=set_in_feats,\n",
    "                out_feats=out_feats,\n",
    "                aggregator_type=aggregator_type,\n",
    "                feat_drop=dropout_rate,\n",
    "            )\n",
    "            self.layers.append(layer)\n",
    "        self.pooling = GlobalAttentionPooling(nn.Linear(self.out_feats, 1))\n",
    "            # --> aggregating the features into a single graph-level representation\n",
    "            # gate mechanism determines the importance of each node\n",
    "        self.output_layer = nn.Linear(self.out_feats, n_cls)\n",
    "        self.loss_fn = nn.CrossEntropyLoss()\n",
    "    def forward(self, graph, labels):\n",
    "        #feat = self.dropout(labels)\n",
    "        if (self.activation == 'RELU'):\n",
    "            h = F.relu(self.layers[0](graph, labels))\n",
    "        elif (self.activation == 'LeakyRELU'):\n",
    "            h = F.leaky_relu(self.layers[0](graph, labels), negative_slope=0.01)\n",
    "        #h = F.relu(self.layers[0](graph, labels))\n",
    "        h = self.dropout(h)\n",
    "        for i in range(self.n_hidden_layers):\n",
    "            # print(f\"SHAPE OF h IS: {graph.ndata['h'].size()}\")\n",
    "            # print(f\"NUM NODES: {graph.num_nodes()} \")\n",
    "            if i == 0:\n",
    "                continue\n",
    "            else:\n",
    "                if (self.activation == 'RELU'):\n",
    "                    h = F.relu(self.layers[i](graph, h))\n",
    "                elif (self.activation == 'LeakyRELU'):\n",
    "                    h = F.leaky_relu(self.layers[i](graph, h), negative_slope=0.01)\n",
    "                if i < self.n_hidden_layers - 1:\n",
    "                    h = self.dropout(h)\n",
    "        h = self.pooling(graph, h)#.squeeze\n",
    "        h = self.output_layer(h)\n",
    "        return h\n",
    "    def reset_parameters(self):\n",
    "        for layer in self.children():\n",
    "            if hasattr(layer, 'reset_parameters'):\n",
    "                layer.reset_parameters()\n",
    "            \n",
    "\n",
    "class EarlyStopping():\n",
    "    # implementing early stopping mechanism, but there is no printing method implemented\n",
    "    \"\"\"Early stops the training if neither validation loss nor validation\n",
    "    accuracy improves after their respective patience levels.\n",
    "\n",
    "    Parameters\n",
    "    ----------\n",
    "    patience_loss : int\n",
    "        How long to wait after last time validation loss improved.\n",
    "    patience_accuracy : int\n",
    "        How long to wait after last time validation accuracy improved.\n",
    "    verbose : bool\n",
    "        If True, prints a message for each validation metric improvement.\n",
    "    delta_loss : float\n",
    "        Minimum change in the validation loss to qualify as an improvement.\n",
    "    delta_accuracy : float\n",
    "        Minimum change in the validation accuracy to qualify as an improvement.\n",
    "    path : str\n",
    "        The file path where the model will be saved.\n",
    "    print_freq : int\n",
    "        The frequency at which to print messages during training.\n",
    "\n",
    "        - taken from Jozef's master's thesis\n",
    "    \"\"\"\n",
    "    def __init__(\n",
    "        self,\n",
    "        patience_loss=10,\n",
    "        patience_mcc=10,\n",
    "        verbose=True,\n",
    "        delta_loss=0.001,\n",
    "        delta_mcc=0.001,\n",
    "    ):\n",
    "        self.patience_loss = patience_loss\n",
    "        self.patience_mcc = patience_mcc\n",
    "        self.verbose = verbose\n",
    "        self.loss_counter = 0\n",
    "        self.mcc_counter = 0\n",
    "        self.best_loss = np.inf\n",
    "        self.best_mcc = -1             # stores best accuracy so far\n",
    "        self.early_stop = False             # bool indicating whether training should stop\n",
    "        self.delta_mcc = 0.001\n",
    "        self.delta_loss = 0.001\n",
    "        self.best_epoch = 0\n",
    "\n",
    "    # in this method, we are monitoring both the validation loss and accuracy\n",
    "    def __call__(self, val_loss, val_acc, val_mcc, model, epoch):   # earlier the method was called '__step__'\n",
    "        improved_loss = False\n",
    "        improved_mcc = False\n",
    "\n",
    "        if val_loss < self.best_loss - self.delta_loss:     # True only if val_loss improves beyond best_loss - delta_loss (treshold)\n",
    "            self.best_loss = val_loss                           # delta_loss is a small treshold, which ought to prevent fluctuations\n",
    "            self.loss_counter = 0                               # in the documentation implementation, there is a strict comparison without taking into account the fluctuations\n",
    "            improved_loss = True\n",
    "        else:\n",
    "            self.loss_counter += 1\n",
    "\n",
    "        if val_mcc > self.best_mcc + self.delta_mcc: # True if val_accuracy improves bexond best_accuracy + delta_accuracy (treshold)\n",
    "            self.best_mcc = val_mcc\n",
    "            self.mcc_counter = 0\n",
    "            improved_mcc = True\n",
    "        else:\n",
    "            self.mcc_counter += 1\n",
    "\n",
    "        if improved_loss or improved_mcc:              # if one of the metrics improves, we save the state as a checkpoint\n",
    "            self.save_checkpoint(model, val_loss, val_mcc, val_acc)\n",
    "            self.best_epoch = epoch\n",
    "\n",
    "        if self.loss_counter >= self.patience_loss and self.mcc_counter >= self.patience_mcc: #\n",
    "            self.early_stop = True\n",
    "            if self.verbose:\n",
    "                print(\"Early stopping triggered\")\n",
    "\n",
    "    def save_checkpoint(self, model, val_loss, val_mcc, val_acc):   # we save the model when either the accuracy or loss improves\n",
    "        torch.save(model.state_dict(), \"sage_checkpoint.pt\")\n",
    "        if self.verbose:\n",
    "            print(f\"Checkpoint saved, mcc: {val_mcc}, loss: {val_loss}, accuracy: {val_acc}\")\n",
    "\n",
    "class Training:\n",
    "    def __init__(self, device):\n",
    "        self.device = device\n",
    "\n",
    "    def train_and_evaluate(\n",
    "        self,\n",
    "        model,\n",
    "        train_loader,\n",
    "        val_loader,\n",
    "        optimizer,\n",
    "        criterion,\n",
    "        early_stopping,\n",
    "        num_epochs,\n",
    "        # plot_curves=False,   for plotting curves\n",
    "        accumulation_steps=2,\n",
    "        scheduler=\"None\"\n",
    "    ):\n",
    "        train_losses, val_losses = [], []\n",
    "        scaler = GradScaler()       # initializing the gradient scaler\n",
    "        for epoch in range(num_epochs):\n",
    "            model.train()\n",
    "            train_loss = 0.0\n",
    "            optimizer.zero_grad     # we initialize the gradients to zero, so that the gradients from the previous batch do not accumulate\n",
    "\n",
    "            for batch_idx, (batched_graph, labels) in enumerate(train_loader):  # train_loader ... data loader probiding batches of data\n",
    "                batched_graph, labels = batched_graph.to(self.device), labels.to(self.device)   # self.device ... typically CPU or GPU\n",
    "                                                                                                # - by moving the data over there we ensure that both the data and the model are on the same device\n",
    "                                                                                                # that ensures no errors and consistency\n",
    "                batched_graph.ndata['h'] = batched_graph.ndata['h'].float().to(self.device) # Move node features to device - by bot TODO TODO TODO\n",
    "\n",
    "\n",
    "\n",
    "                with autocast():    # automatically selects the appropriate floating-point precision (to optimize performance - speeds up training, reduces memory usage)\n",
    "                    logits = model(batched_graph, batched_graph.ndata['h'].float()) # rund the model inside the autocast() context\n",
    "                    loss = criterion(logits, labels) / accumulation_steps   # we are using the gradient accumulation, because the batch size is too big to fit in memory\n",
    "                    # therefore we accumulate gradients over multiple batches before we update the weight --> loss is scaled down by the number of accumulation steps\n",
    "                scaler.scale(loss).backward()   # scaling the loss, preventing very small gradients from becoming zero (common issue in mixed precission training (autocast)\n",
    "                                                # .backward - computing the gradient using backpropagation\n",
    "                train_loss += loss.item() * accumulation_steps  # .item() ... converts loss from tensor to a python float\n",
    "                # we multiply by accumulation_steps to scale it back (we scaled down/divided earlier)\n",
    "                if (batch_idx + 1) % accumulation_steps == 0 or batch_idx == len(train_loader) - 1: # accumulating gradients for multiple batches before updatiing the model\n",
    "                # update does not happen after every batch\n",
    "                    scaler.step(optimizer)  # applying the scaled gradients to update model parameters\n",
    "                    scaler.update()         # ... updates the scaling factor for the next iteration\n",
    "                    # dynamically adjusts the scaling value to mantain stable gradients - if gradients too small, increases the scale and vice versa\n",
    "                    optimizer.zero_grad()   # initializing gradients to zero - clearing the gradients before the next batch\n",
    "\n",
    "            train_loss = train_loss/len(train_loader)   # getting the average loss per batch\n",
    "            train_losses.append(train_loss)\n",
    "\n",
    "            validation_loss = 0.0\n",
    "            validation_accuraccy = 0.0\n",
    "            num_val_correct = 0         # number of correctly predicted samples\n",
    "            num_total = 0               # total number of samples\n",
    "            TP, TN, FP, FN = 0, 0, 0, 0\n",
    "            if val_loader is not None:  # val_loader ... validation dataset, we check, whether it is not null --> then there would be no validation\n",
    "                model.eval()            # we put the model into the evaluation mode - we turn off the dropout layers and disable the batch normalization updates\n",
    "                                        # --> validation results are consistent and unaffected by randomness\n",
    "                with torch.no_grad():   # we prevent pytorch from storing gradients during validation --> saves memory and improves performance\n",
    "                    for batched_graph, labels in val_loader:        # iterates over mini-batches of validation data\n",
    "                        batched_graph, labels = batched_graph.to(self.device), labels.to(self.device)   # we move the input and labels to the correct device (CPU, GPU)\n",
    "\n",
    "                        batched_graph.ndata['h'] = batched_graph.ndata['h'].to(self.device) # TODO TODO TODO - chatova práce\n",
    "\n",
    "                        with autocast():    # automatically selects the appropriate floating-point precision (to optimize performance - speeds up training, reduces memory usage)\n",
    "                            logits = model(batched_graph, batched_graph.ndata['h'].float())\n",
    "                            # graph structure (batched_graph) is passed on to the model, node features (batched_graph.ndata['h']) serve as input data\n",
    "                                # --> The GNN layers aggregate information from neighboring nodes\n",
    "                                # final layer outputs predictions (logits) for node/graph classification\n",
    "                            loss = criterion(logits, labels)    # we compute the loss\n",
    "                        validation_loss += loss             # accumulating loss over all batches\n",
    "                        _, predicted = torch.max(logits.data, 1)    # getting the predicted class (highest probability)\n",
    "                        num_total += labels.size(0)             # updating the total number of samples\n",
    "                        num_val_correct += (predicted == labels).sum().item()   # adds up the number of correct predictions\n",
    "                        TP += ((predicted == 1) & (labels == 1)).sum().item()\n",
    "                        TN += ((predicted == 0) & (labels == 0)).sum().item()\n",
    "                        FP += ((predicted == 1) & (labels == 0)).sum().item()\n",
    "                        FN += ((predicted == 0) & (labels == 1)).sum().item()\n",
    "\n",
    "                    num = TP * TN - FP * FN\n",
    "                    den = math.sqrt((TP + FP) * (TP + FN) * (TN + FP) * (TN + FN))\n",
    "                    validation_mcc = num / den if den > 0 else 0\n",
    "                    validation_loss = validation_loss/len(val_loader)   # we get the average loss\n",
    "                    val_losses.append(validation_loss)\n",
    "                    validation_accuraccy = num_val_correct/num_total    # saving for early stopping\n",
    "                    if early_stopping:  # checking if early stopping is not None\n",
    "                        early_stopping(validation_loss, validation_accuraccy, validation_mcc, model, epoch + 1)\n",
    "                        if early_stopping.early_stop:\n",
    "                            print(f\"Early stopping triggered at epoch {epoch + 1}\")\n",
    "                            break\n",
    "                    if (epoch + 1) % 5 == 0 or epoch == 0:\n",
    "                        print(f'Epoch {epoch + 1}/{num_epochs}'\n",
    "                              f'Train loss: {train_loss:.4f}'\n",
    "                              f'Val loss: {validation_loss:.4f}'\n",
    "                              f'Val accuracy: {100 * validation_accuraccy:.2f}% '\n",
    "                              f'MCC: {validation_mcc}')\n",
    "            if isinstance(scheduler, torch.optim.lr_scheduler.ReduceLROnPlateau):\n",
    "                scheduler.step(validation_loss)\n",
    "            elif scheduler is not None:  # using the scheduler\n",
    "                scheduler.step()\n",
    "                # plotting of curves might be implemented here (TODO)\n",
    "\n",
    "        # there the plot curves method might be implemented (another TODO possibility)\n",
    "\n",
    "    def evaluate_on_test(self, model, test_loader, criterion, run_id=1):\n",
    "        model.eval()    # we put model into the evaluation model (ensuring that gradients won't be computed)\n",
    "        test_loss = 0.0\n",
    "        all_preds = []        # storing all predicted labels\n",
    "        all_labels = []       # storing all labels (true labels)\n",
    "        all_proba = []\n",
    "        with torch.no_grad():       # disabling calculations of gradient\n",
    "            for batched_graph, labels in test_loader:       # iterates over mini-batches of validation data\n",
    "                batched_graph, labels = batched_graph.to(self.device), labels.to(self.device)       # we move the input and labels to the correct device (CPU, GPU)\n",
    "                logits = model(batched_graph, batched_graph.ndata['h'].float())\n",
    "                loss = criterion(logits, labels)\n",
    "                test_loss += loss.item()\n",
    "                preds = torch.argmax(logits, dim=1)\n",
    "                all_preds.extend(preds.cpu().numpy()) # moving predictions and labels to CPU and converting them to NumPy arrays\n",
    "                #all_labels.extend(preds.cpu().numpy()) # (they get stored in all_pred ad all_labels variables)\n",
    "                all_labels.extend(labels.cpu().numpy())\n",
    "                all_proba.extend(torch.softmax(logits, dim=1)[:, 1].cpu().numpy()) \n",
    "                #all_proba\n",
    "        test_loss = test_loss/len(test_loader)  # averages the total loss over all test batches\n",
    "        # calculating evaluation metrics:\n",
    "        accuracy = accuracy_score(all_labels, all_preds)\n",
    "        precision = precision_score(all_labels, all_preds)\n",
    "        recall = recall_score(all_labels, all_preds)\n",
    "        f1 = f1_score(all_labels, all_preds)\n",
    "        roc_auc = roc_auc_score(all_labels, all_preds)\n",
    "        matthews_corr = matthews_corrcoef(all_labels, all_preds)\n",
    "         # Compute ROC curve ---------\n",
    "        fpr, tpr, _ = roc_curve(all_labels, all_proba)\n",
    "        roc_auc = auc(fpr, tpr)\n",
    "        # Plot ROC Curve --------\n",
    "        plt.figure(figsize=(8, 6))\n",
    "        plt.plot(fpr, tpr, color='blue', label=f'ROC Curve (AUC = {roc_auc:.2f})')\n",
    "        plt.plot([0, 1], [0, 1], color='gray', linestyle='--')  # Random classifier\n",
    "        plt.xlabel('False Positive Rate')\n",
    "        plt.ylabel('True Positive Rate')\n",
    "        plt.title('ROC Curve')\n",
    "        plt.legend(loc='lower right')\n",
    "        plt.show()\n",
    "        plt.savefig(\"sage_plot.png\")\n",
    "\n",
    "        # confusion matrix\n",
    "        conf_mat = confusion_matrix(all_labels, all_preds)\n",
    "        disp = ConfusionMatrixDisplay(confusion_matrix=conf_mat)\n",
    "        disp.plot(cmap='Blues')\n",
    "        plt.savefig(\"conf_mat_sage.png\")\n",
    "        # possible to save here (TODO) ?\n",
    "\n",
    "        results_dataFrame = pd.DataFrame({\n",
    "            'Test Loss': [test_loss],\n",
    "            'Accuracy': [accuracy],\n",
    "            'Precision': [precision],\n",
    "            'Recall': [recall],\n",
    "            'F1-Score': [f1],\n",
    "            'MCC': [matthews_corr],\n",
    "            'ROC-AUC': [roc_auc]\n",
    "        })\n",
    "        results_dataFrame.to_csv('test_results_SAGE.csv')  # possible to adjust settings\n",
    "        print(f\"Test Loss: {test_loss}\")\n",
    "        print(f\"Accuracy: {accuracy}, Precision: {precision}, Recall: {recall}, F1-Score: {f1}, MCC: {matthews_corr}, ROC-AUC: {roc_auc}\")\n",
    "\n",
    "def collate(samples):   # converts individual graph samples into a single batch for training\n",
    "                        # input ... samples - a list of tuples, where each tuple contains (graph, label)\n",
    "                        # graph ... dgl graph object, label ... a target label\n",
    "    graphs, labels = map(list, zip(*samples))   # unpacking graphs and labels from the list of tuples and converting them into separate lists\n",
    "    batched_graph = dgl.batch(graphs)           # batching the graphs (sdružování grafů)\n",
    "    labels = torch.tensor(labels, dtype=torch.long) # converting list of labels into a PyTorch tensor\n",
    "    return batched_graph, labels\n",
    "                        # batched graph ... single batched graph combining individual graphs\n",
    "                        # labels ... tensor of labels for the batch\n",
    "\n",
    "class Hyperparameter_optimizer:     # optuna ... library for automatic hyperparameter tuning, selecting the best hyperparameters based on validation loss\n",
    "    def __init__(\n",
    "        self,\n",
    "        device,                     # GPU/CPU\n",
    "        subset_train_graphs,        # training data (graphs + labels)\n",
    "        subset_train_labels,\n",
    "        subset_val_graphs,          # validation data (graphs + labels)\n",
    "        subset_val_labels,\n",
    "        num_trials,                 # number of trials for optimization\n",
    "        num_epochs,                  # number of training epochs per trial\n",
    "        random_state\n",
    "    ):\n",
    "        self.device = device        # setting all of the parameters of the class\n",
    "        self.subset_train_graphs = subset_train_graphs\n",
    "        self.subset_train_labels = subset_train_labels\n",
    "        self.subset_val_graphs = subset_val_graphs\n",
    "        self.subset_val_labels = subset_val_labels\n",
    "        self.num_trials = num_trials\n",
    "        self.num_epochs = num_epochs\n",
    "        self.random_state = random_state\n",
    "    def objective(self, trial):     # sample hyperparameters, optuna is doing a \"smart\" selection of hyperparameters, which are most likely to give the best result\n",
    "        # optuna does not try all the combinations, since that would simply take too long\n",
    "        in_feats = 74\n",
    "        #hidden_dim = trial.suggest_int('hidden_dim', 74, 256)\n",
    "        hidden_dim = trial.suggest_int('hidden_dim', 125, 256)\n",
    "        \n",
    "        #dropout_rate = trial.suggest_float('dropout_rate', 0.05, 0.5)\n",
    "        dropout_rate = trial.suggest_float('dropout_rate', 0.20, 0.49)\n",
    "        \n",
    "        #aggregator_type = trial.suggest_categorical('aggregator_type', ['mean', 'gcn', 'pool', 'lstm'])\n",
    "        aggregator_type = trial.suggest_categorical('aggregator_type', ['gcn', 'pool', 'lstm'])\n",
    "        \n",
    "        lr = trial.suggest_float('lr', 1e-6, 1e-1, log=True)\n",
    "        #lr = trial.suggest_float('lr', 1e-5, 1e-3, log=True)\n",
    "        \n",
    "        #batch_size = trial.suggest_categorical('batch_size', [32, 64, 128, 256])#, 512])\n",
    "        batch_size = trial.suggest_categorical('batch_size', [128, 256])\n",
    "        \n",
    "        #n_hidden_layers = trial.suggest_int('n_hidden_layers', 1, 6)\n",
    "        n_hidden_layers = trial.suggest_int('n_hidden_layers', 1, 5)\n",
    "        \n",
    "        #lr_scheduler = trial.suggest_categorical('lr_scheduler', ['None', 'StepLR', 'ExponentialLR'])\n",
    "        lr_scheduler = trial.suggest_categorical('lr_scheduler', ['None','StepLR'])\n",
    "        \n",
    "        activation = trial.suggest_categorical('activation', ['RELU', 'LeakyRELU'])\n",
    "        #activation = trial.suggest_categorical('activation', ['RELU'])\n",
    "\n",
    "        model = SAGE(              # initializing model with sampled hyperparameters\n",
    "            in_feats=74,\n",
    "            out_feats=hidden_dim,\n",
    "            dropout_rate=dropout_rate,\n",
    "            aggregator_type=aggregator_type,\n",
    "            n_cls=2,\n",
    "            n_hidden_layers=n_hidden_layers,\n",
    "            activation = activation             # set differently?? TODO TODO TODO\n",
    "        #)      TODO TODO TODO - this is where the model is moved to the device (written by bot)\n",
    "        ).to(self.device)\n",
    "        \n",
    "        class_counts = np.bincount(self.subset_train_labels)\n",
    "        class_counts[class_counts == 0] = 1\n",
    "        class_weights = 1.0 / class_counts\n",
    "        class_weights = torch.tensor(class_weights, dtype=torch.float32).to(self.device)\n",
    "        optimizer = optim.Adam(model.parameters(), lr=lr)   # using Adam optimizer\n",
    "        #criterion = nn.CrossEntropyLoss().to(self.device)   # criterion for the classification task\n",
    "        criterion = nn.CrossEntropyLoss(weight=class_weights).to(self.device)   # criterion for the classification task\n",
    "        # creating Dataloaders for training and validation - batches graphs and labels for training & validation\n",
    "            # Dataloaders in dgl ... handles graphs instead of regular tensors, creates mini-batches for efficient training, allows parallel processing, ...\n",
    "                                    # schuffles training data to prevent bias\n",
    "        scheduler_obj = None\n",
    "        if lr_scheduler == 'None':\n",
    "            scheduler_obj = None\n",
    "        elif lr_scheduler == 'StepLR':\n",
    "            step_size = trial.suggest_int('step_size', 3, 6)\n",
    "            #step_size = trial.suggest_int('step_size', 15, 19)\n",
    "            #step_size = trial.suggest_int('step_size', 1, 20)\n",
    "            #gamma_step = trial.suggest_float('gamma_step', 0.5, 0.99)\n",
    "            gamma_step = trial.suggest_float('gamma_step', 0.61, 0.90)\n",
    "            scheduler_obj = optim.lr_scheduler.StepLR(optimizer, step_size=step_size, gamma=gamma_step)\n",
    "        elif lr_scheduler == 'ExponentialLR':\n",
    "            gamma_exp = trial.suggest_float('gamma_exp', 0.1, 0.99)\n",
    "            #gamma_exp = trial.suggest_float('gamma_exp', 0.13, 0.5)\n",
    "            scheduler_obj = optim.lr_scheduler.ExponentialLR(optimizer, gamma=gamma_exp)    \n",
    "            \n",
    "        train_loader = GraphDataLoader(\n",
    "            list(zip(self.subset_train_graphs, self.subset_train_labels)),\n",
    "            batch_size=batch_size,\n",
    "            shuffle=True,\n",
    "            collate_fn=collate,         # custom function for combining graphs into batches\n",
    "            num_workers=0)                            # debugging TODO TODO TODO\n",
    "            #num_workers=8)  # debugging TODO TODO TODO\n",
    "        val_loader = GraphDataLoader(\n",
    "            list(zip(self.subset_val_graphs, self.subset_val_labels)),\n",
    "            batch_size=batch_size,\n",
    "            shuffle=False,              # we do not want to schuffle the data - we want them fixed for consistency\n",
    "            collate_fn=collate,\n",
    "            num_workers=0)\n",
    "            #num_workers=8)\n",
    "\n",
    "                          # we set the model into the training mode, but do not do the training itself --> therefore the following function\n",
    "        for epoch in range(self.num_epochs):    # training the model\n",
    "            model.train() \n",
    "            for batched_graph, labels in train_loader:\n",
    "                batched_graph, labels = batched_graph.to(self.device), labels.to(self.device)   # moving graphs and labels into the device CPU/GPU\n",
    "                batched_graph.ndata['h'] = batched_graph.ndata['h'].to(self.device) # TODO TODO TODO - chatova práce\n",
    "                optimizer.zero_grad()\n",
    "                logits = model(batched_graph, batched_graph.ndata['h'].float())     # this line calls the model's forward pass using two inputs\n",
    "                        # batched graph ... graph structure containing connectivity information\n",
    "                        # second argument ... node features extracted from the graph, converted to floating point numbers\n",
    "                loss = criterion(logits, labels)\n",
    "                loss.backward()     # we calculated loss and we backpropagate the gradients\n",
    "                optimizer.step()\n",
    "\n",
    "            model.eval()\n",
    "            val_loss = 0.0\n",
    "            with torch.no_grad():\n",
    "                for batched_graph, labels in val_loader:\n",
    "                    batched_graph, labels = batched_graph.to(self.device), labels.to(self.device)\n",
    "                    batched_graph.ndata['h'] = batched_graph.ndata['h'].to(self.device) # TODO TODO TODO - chatova práce\n",
    "                    optimizer.zero_grad()\n",
    "                    logits = model(batched_graph, batched_graph.ndata['h'].float())\n",
    "                    loss = criterion(logits, labels)\n",
    "                    val_loss += loss.item()\n",
    "\n",
    "            val_loss = val_loss/len(val_loader)\n",
    "            trial.report(val_loss, epoch)       # we use this line to report the current validation loss at a given epoch for the ongoing trial\n",
    "                                                    # optuna is collecting these intermediates results, optuna can then stop the non-promising trials early\n",
    "            if lr_scheduler != 'None':  # using the scheduler\n",
    "                scheduler_obj.step()\n",
    "            if trial.should_prune():            # asking optuna, if trial should be pruned (\"ended\")\n",
    "                raise optuna.TrialPruned()  # TODO TODO\n",
    "        return val_loss\n",
    "\n",
    "    def optimize(self):     # running the whole hyperparameter optimization using optuna\n",
    "        sampler = optuna.samplers.TPESampler(seed=self.random_state)\n",
    "        study = optuna.create_study(direction='minimize', pruner=MedianPruner(), sampler=sampler)\n",
    "            # Medianpruner ... stops unpromising trials based on the median performance so far\n",
    "        study.optimize(self.objective, n_trials=self.num_trials, n_jobs=1)  # running optimization process, specifies, how many different sets of hyperparameters (different trials) to try\n",
    "        best_hyperparameters = study.best_trial.params\n",
    "        with open(f'sage_best_hyperparams.json', 'w') as f:    # saving the trials into a JSON file\n",
    "            json.dump(best_hyperparameters, f)\n",
    "        print(f\"Best hyperparameters are {best_hyperparameters}.\")  # printing the best hyperparameters\n",
    "        top_trials = sorted(study.trials, key=lambda t: t.value)[:10]\n",
    "\n",
    "        for i, trial in enumerate(top_trials, 1):\n",
    "            print(f\"\\nTrial #{i}\")\n",
    "            print(f\"  Value (Objective): {trial.value}\")\n",
    "            print(f\"  Params: {trial.params}\")\n",
    "\n",
    "\n",
    "\n",
    "\n",
    "\n",
    "def data_loading(address_train, address_val, address_test, RANDOM_STATE, part=1):\n",
    "    train_graphs, train_labels_dictionary = dgl.load_graphs(address_train)\n",
    "    train_labels = train_labels_dictionary['labels']\n",
    "    train_labels = train_labels.squeeze()\n",
    "    train_labels = train_labels.numpy()\n",
    "\n",
    "    val_graphs, val_labels_dictionary = dgl.load_graphs(address_val)\n",
    "    val_labels = val_labels_dictionary['labels']\n",
    "    val_labels = val_labels.squeeze()\n",
    "    val_labels = val_labels.numpy()\n",
    "\n",
    "    test_graphs, test_labels_dictionary = dgl.load_graphs(address_test)\n",
    "    test_labels = test_labels_dictionary['labels']\n",
    "    test_labels = test_labels.squeeze()\n",
    "    test_labels = test_labels.numpy()\n",
    "\n",
    "    subset_train_indices = np.random.choice(\n",
    "        len(train_graphs), size=int(len(train_graphs) * 0.2), replace=False # we choose 20% of the training graphs\n",
    "    )   # replace=False ensures that no index is selected more than once\n",
    "\n",
    "    subset_train_graphs = [train_graphs[i] for i in subset_train_indices] # we store the corresponding graphs\n",
    "    subset_train_labels = train_labels[subset_train_indices]    # we store the corresponding labels\n",
    "\n",
    "    subset_val_indices = np.random.choice(\n",
    "        len(val_graphs), size=int(len(val_graphs) * 0.2), replace=False\n",
    "    )\n",
    "    subset_val_graphs = [train_graphs[i] for i in subset_val_indices]\n",
    "    subset_val_labels = val_labels[subset_val_indices]\n",
    "\n",
    "    combined_train_graphs = train_graphs + val_graphs # + ... list concatenation, two lists are merged into one\n",
    "    combined_train_labels = np.concatenate((train_labels, val_labels))  # two arrays merged into one\n",
    "\n",
    "    graphs = combined_train_graphs + test_graphs\n",
    "    labels_numpy = np.concatenate((combined_train_labels, test_labels))\n",
    "\n",
    "    print(\n",
    "        f'Train: {len(train_graphs)},'\n",
    "        f'Val: {len(val_graphs)},'\n",
    "        f'Test: {len(test_graphs)},'\n",
    "        f'Val + Train combined: {len(combined_train_graphs)}'\n",
    "    )\n",
    "    print(\"\\nData loading completed\\n\")\n",
    "    sys.stdout.flush()\n",
    "    return {\n",
    "        \"graphs\": (graphs, labels_numpy),\n",
    "        \"train\": (train_graphs, train_labels),\n",
    "        \"val\": (val_graphs, val_labels),\n",
    "        \"test\": (test_graphs, test_labels),\n",
    "        \"subset_train\": (subset_train_graphs, subset_train_labels),\n",
    "        \"subset_val\": (subset_val_graphs, subset_val_labels),\n",
    "        \"combined_train\": (combined_train_graphs, combined_train_labels),\n",
    "    }\n",
    "    \n",
    "def main_train_loop(run_number):\n",
    "    device = torch.device(\"cuda\" if torch.cuda.is_available() else \"cpu\") # TODO ?? what is cuda??\n",
    "    RANDOM_STATE = 42\n",
    "    # setting the random state:\n",
    "    random.seed(RANDOM_STATE)\n",
    "    np.random.seed(RANDOM_STATE)\n",
    "    torch.manual_seed(RANDOM_STATE)\n",
    "    torch.cuda.manual_seed_all(RANDOM_STATE)\n",
    "    torch.backends.cudnn.deterministic = True\n",
    "    torch.backends.cudnn.benchmark = False\n",
    "    torch.use_deterministic_algorithms(True)\n",
    "    os.environ[\"PYTHONHASHSEED\"] = str(RANDOM_STATE)\n",
    "\n",
    "    \n",
    "    num_trials = 80\n",
    "    num_epochs = 80\n",
    "    tune_hyperparams = True\n",
    "    split_num = 1 #run_number\n",
    "    \n",
    "    data = data_loading(f\"A2AR_graphs/a2ar_graphs_train{split_num}.bin\", \n",
    "                        f\"A2AR_graphs/a2ar_graphs_val{split_num}.bin\",\n",
    "                        f\"A2AR_graphs/a2ar_graphs_test{split_num}.bin\", RANDOM_STATE, part=1)\n",
    "    graphs,_ = data[\"graphs\"]\n",
    "    train_graphs, train_labels = data[\"train\"]\n",
    "    val_graphs, val_labels = data[\"val\"]\n",
    "    test_graphs, test_labels = data[\"test\"]\n",
    "    subset_train_graphs, subset_train_labels = data[\"subset_train\"]\n",
    "    subset_val_graphs, subset_val_labels = data[\"subset_val\"]\n",
    "    combined_train_graphs, combined_train_labels = data[\"combined_train\"]\n",
    "    \n",
    "\n",
    "    print('Hyperparameter optimization...\\n')\n",
    "    sys.stdout.flush()\n",
    "\n",
    "    if tune_hyperparams:\n",
    "        optimizer = Hyperparameter_optimizer(\n",
    "            device,\n",
    "            subset_train_graphs = train_graphs,\n",
    "            subset_train_labels = train_labels,\n",
    "            subset_val_graphs = val_graphs,\n",
    "            subset_val_labels = val_labels,\n",
    "            #subset_train_graphs = subset_train_graphs,\n",
    "            #subset_train_labels = subset_train_labels,\n",
    "            #subset_val_graphs = subset_val_graphs,\n",
    "            #subset_val_labels = subset_val_labels,\n",
    "            #num_trials=200,\n",
    "            num_trials=num_trials,\n",
    "            #num_epochs=100)   # TODO TODO TODO DEBUGGING\n",
    "            num_epochs=num_epochs,\n",
    "            random_state=RANDOM_STATE)\n",
    "\n",
    "        optimizer.optimize()\n",
    "    \n",
    "        print(\"Hyperparameter optimization done.\")\n",
    "        sys.stdout.flush()\n",
    "        print(\"\")\n",
    "\n",
    "#def retrain_using_best_parameters(train_graphs, val_graphs, test_graphs):\n",
    "    # we load the data using GraphDataLoader\n",
    "    with open(f'sage_best_hyperparams.json', 'r') as f:\n",
    "        best_hyperparameters = json.load(f)     # we load the best hyperparameters\n",
    "    print(best_hyperparameters)\n",
    "    train_loader = GraphDataLoader(\n",
    "        list(zip(train_graphs, train_labels)),\n",
    "        batch_size=best_hyperparameters['batch_size'],\n",
    "        shuffle=True,\n",
    "        collate_fn=collate,\n",
    "        num_workers=0)\n",
    "        #num_workers=8)\n",
    "    val_loader = GraphDataLoader(\n",
    "        list(zip(val_graphs, val_labels)),\n",
    "        batch_size=best_hyperparameters['batch_size'],\n",
    "        shuffle=False,\n",
    "        collate_fn=collate,\n",
    "        num_workers=0)\n",
    "        #num_workers=8)\n",
    "    test_loader = GraphDataLoader(\n",
    "        list(zip(test_graphs, test_labels)),\n",
    "        batch_size=best_hyperparameters['batch_size'],\n",
    "        shuffle=False,\n",
    "        collate_fn=collate,\n",
    "        num_workers=0)\n",
    "        #num_workers=8)\n",
    "    combined_test_val_loader = GraphDataLoader(\n",
    "        list(\n",
    "            zip(\n",
    "                combined_train_graphs, combined_train_labels\n",
    "            )),\n",
    "        batch_size=best_hyperparameters['batch_size'],\n",
    "        shuffle=True,\n",
    "        collate_fn=collate,\n",
    "        num_workers=0)\n",
    "        #num_workers=8)\n",
    "    print(\"Dataloaders done.\")\n",
    "    print(\"Retraining using best parameters...\")\n",
    "    print(f\"Number of available node features (in_feats): {graphs[0].ndata['h'].shape[1]}\")  # Check available node features\n",
    "    model = SAGE(              # initializing model with sampled hyperparameters\n",
    "        in_feats=74,    # adjusting according to the dataset TODO TODO TODO !!!\n",
    "        out_feats=best_hyperparameters['hidden_dim'],\n",
    "        dropout_rate=best_hyperparameters['dropout_rate'],\n",
    "        aggregator_type=best_hyperparameters['aggregator_type'],\n",
    "        n_cls=2,\n",
    "        n_hidden_layers=best_hyperparameters['n_hidden_layers'],\n",
    "        activation = best_hyperparameters['activation']\n",
    "    ).to(device)\n",
    "    model.reset_parameters()    # reseting the parameters of the model before retraining\n",
    "    \n",
    "    class_counts = np.bincount(combined_train_labels)\n",
    "    class_counts[class_counts == 0] = 1\n",
    "    class_weights = 1.0 / class_counts\n",
    "    class_weights = torch.tensor(class_weights, dtype=torch.float32).to(device)\n",
    "\n",
    "    optimizer = optim.Adam(model.parameters(), lr=best_hyperparameters['lr'])\n",
    "    criterion = nn.CrossEntropyLoss(weight=class_weights).to(device)\n",
    "\n",
    "    lr_scheduler = None\n",
    "    if best_hyperparameters['lr_scheduler'] == 'None':\n",
    "        lr_scheduler = None\n",
    "    elif best_hyperparameters['lr_scheduler'] == 'StepLR':\n",
    "        lr_scheduler = optim.lr_scheduler.StepLR(optimizer, best_hyperparameters['step_size'], best_hyperparameters['gamma_step'])\n",
    "    elif best_hyperparameters['lr_scheduler'] == 'ExponentialLR':\n",
    "         lr_scheduler = optim.lr_scheduler.ExponentialLR(optimizer, best_hyperparameters['gamma_exp'])\n",
    "\n",
    "    #early_stopping = EarlyStopping(patience_loss=10, patience_accuracy=10, verbose=False, delta_loss=0.001, delta_accuracy=0.001) - PUVODNI SETTING!\n",
    "    early_stopping = EarlyStopping(patience_loss=80, patience_mcc=80, verbose=False, delta_loss=0.001, delta_mcc=0.001)\n",
    "    training = Training(device)\n",
    "    training.train_and_evaluate(\n",
    "        model,\n",
    "        train_loader,\n",
    "        val_loader,\n",
    "        optimizer,\n",
    "        criterion,\n",
    "        early_stopping,\n",
    "        1000,\n",
    "        #1000,                # Number of epochs TODO TODO TODO ... this one WAS 300, for debugging purposes 5\n",
    "        scheduler=lr_scheduler\n",
    "    )\n",
    "    optimal_epoch = early_stopping.best_epoch\n",
    "    print(f\"The best epoch was {optimal_epoch}\") \n",
    "    model.reset_parameters()    # before we train the model on test + val dataset, we reset all the parameters\n",
    "    print(\"Training done.\")\n",
    "    print(\"Final training...\")\n",
    "    \n",
    "    class_counts = np.bincount(combined_train_labels)\n",
    "    class_counts[class_counts == 0] = 1\n",
    "    class_weights = 1.0 / class_counts\n",
    "    class_weights = torch.tensor(class_weights, dtype=torch.float32).to(device)\n",
    "    optimizer = optim.Adam(model.parameters(), lr=best_hyperparameters['lr'])\n",
    "    criterion = nn.CrossEntropyLoss(weight=class_weights).to(device)\n",
    "    \n",
    "    lr_scheduler = None\n",
    "    if best_hyperparameters['lr_scheduler'] == 'None':\n",
    "        lr_scheduler = None\n",
    "    elif best_hyperparameters['lr_scheduler'] == 'StepLR':\n",
    "        lr_scheduler = optim.lr_scheduler.StepLR(optimizer, best_hyperparameters['step_size'], best_hyperparameters['gamma_step'])\n",
    "    elif best_hyperparameters['lr_scheduler'] == 'ExponentialLR':\n",
    "         lr_scheduler = optim.lr_scheduler.ExponentialLR(optimizer, best_hyperparameters['gamma_exp'])\n",
    "    \n",
    "    \n",
    "    training.train_and_evaluate(\n",
    "        model,\n",
    "        combined_test_val_loader,\n",
    "        None,\n",
    "        optimizer,\n",
    "        criterion,\n",
    "        None,\n",
    "        optimal_epoch,\n",
    "        scheduler=lr_scheduler\n",
    "    )\n",
    "    torch.save(model.state_dict(), f'sage_model.pt')\n",
    "    print(\"Training done.\")\n",
    "    print(\"Evaluating on test_dataset\")\n",
    "    training.evaluate_on_test(model, test_loader, criterion)\n",
    "    print(\"Evaluation done.\")\n",
    "\n",
    "\n",
    "if __name__ == \"__main__\":\n",
    "    # This ensures that multiprocessing works safely when used with PyTorch DataLoader\n",
    "    import multiprocessing\n",
    "    multiprocessing.set_start_method('spawn', force=True)  # Ensure spawn method is used for safe process spawning\n",
    "\n",
    "\n",
    "    # odstranit!\n",
    "    run_number = 1\n",
    "    main_train_loop(run_number)\n",
    "\n",
    "    \n",
    "\n"
   ]
  },
  {
   "cell_type": "code",
   "execution_count": null,
   "id": "2b539f43-48dc-4e53-b493-9531ad127fbb",
   "metadata": {
    "papermill": {
     "duration": 0.014401,
     "end_time": "2025-05-30T15:36:28.344791",
     "exception": false,
     "start_time": "2025-05-30T15:36:28.330390",
     "status": "completed"
    },
    "tags": []
   },
   "outputs": [],
   "source": []
  }
 ],
 "metadata": {
  "kernelspec": {
   "display_name": "Python 3 (ipykernel)",
   "language": "python",
   "name": "python3"
  },
  "language_info": {
   "codemirror_mode": {
    "name": "ipython",
    "version": 3
   },
   "file_extension": ".py",
   "mimetype": "text/x-python",
   "name": "python",
   "nbconvert_exporter": "python",
   "pygments_lexer": "ipython3",
   "version": "3.10.16"
  },
  "papermill": {
   "default_parameters": {},
   "duration": 1046.784576,
   "end_time": "2025-05-30T15:36:31.480069",
   "environment_variables": {},
   "exception": null,
   "input_path": "GraphSAGE_model.ipynb",
   "output_path": "run_out_A2AR/GraphSAGE_tune2_out1.ipynb",
   "parameters": {},
   "start_time": "2025-05-30T15:19:04.695493",
   "version": "2.6.0"
  }
 },
 "nbformat": 4,
 "nbformat_minor": 5
}