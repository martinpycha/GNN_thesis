{
 "cells": [
  {
   "cell_type": "code",
   "execution_count": 1,
   "id": "e4047d34-b433-430b-973f-6a55da4190a9",
   "metadata": {},
   "outputs": [
    {
     "name": "stderr",
     "output_type": "stream",
     "text": [
      "/home/ubuntu/miniconda3/envs/gnn_project/lib/python3.10/site-packages/tqdm/auto.py:21: TqdmWarning: IProgress not found. Please update jupyter and ipywidgets. See https://ipywidgets.readthedocs.io/en/stable/user_install.html\n",
      "  from .autonotebook import tqdm as notebook_tqdm\n"
     ]
    },
    {
     "name": "stdout",
     "output_type": "stream",
     "text": [
      "<class 'pandas.core.frame.DataFrame'>\n",
      "Converting molecules to graphs...\n",
      "Removed invalid SMILES at index 495: Cc1ccc([B-2]2(c3ccc(C)cc3)=NCCO2)cc1\n",
      "Removed invalid SMILES at index 9251: CC1=C2O[AlH3-3]34(OC5=C(C)N(C)C=CC5=[O+]3)(OC3=C(C)N(C)C=CC3=[O+]4)[O+]=C2C=CN1C\n",
      "Removed invalid SMILES at index 16140: CC(c1cccs1)=[N+]1NC(N)=[S+][AlH3-]12[OH+]B(c1ccccc1)[OH+]2\n",
      "Removed invalid SMILES at index 16141: CC(c1ccccn1)=[N+]1NC(N)=[S+][AlH3-]12[OH+]B(c1ccccc1)[OH+]2\n",
      "Removed invalid SMILES at index 18815: c1ccc2c(c1)[SH+][GeH2+]([SH+]c1ccccc1[SH+][GeH2+]1[SH+]c3ccccc3[SH+]1)[SH+]2\n",
      "LENGTH OF LABELS: 21666\n",
      "Graphs done.\n",
      "Saving the graphs and labels\n",
      "Number of graphs: 21666, Number of labels: 1\n"
     ]
    },
    {
     "name": "stderr",
     "output_type": "stream",
     "text": [
      "/tmp/ipykernel_505735/2927522558.py:69: UserWarning: To copy construct from a tensor, it is recommended to use sourceTensor.clone().detach() or sourceTensor.clone().detach().requires_grad_(True), rather than torch.tensor(sourceTensor).\n",
      "  labels_dictionary = {'labels':torch.tensor(labels)} # dgl expects tensors for metadata (we convert labels to a dictionary with tensor)\n",
      "/tmp/ipykernel_505735/2927522558.py:97: UserWarning: To copy construct from a tensor, it is recommended to use sourceTensor.clone().detach() or sourceTensor.clone().detach().requires_grad_(True), rather than torch.tensor(sourceTensor).\n",
      "  labels_dict_int[key] = torch.tensor(item, dtype=torch.int)\n"
     ]
    },
    {
     "name": "stdout",
     "output_type": "stream",
     "text": [
      "Graphs and labels saved.\n",
      "<class 'pandas.core.frame.DataFrame'>\n",
      "Converting molecules to graphs...\n",
      "Removed invalid SMILES at index 2910: Oc1ccc(C2Oc3cc(O)cc4c3C(=[O+][AlH3-3]35(O4)(Oc4cc(O)cc6c4C(=[O+]3)C(O)C(c3ccc(O)cc3O)O6)Oc3cc(O)cc4c3C(=[O+]5)C(O)C(c3ccc(O)cc3O)O4)C2O)c(O)c1\n",
      "LENGTH OF LABELS: 8829\n",
      "Graphs done.\n"
     ]
    },
    {
     "name": "stderr",
     "output_type": "stream",
     "text": [
      "/tmp/ipykernel_505735/2927522558.py:69: UserWarning: To copy construct from a tensor, it is recommended to use sourceTensor.clone().detach() or sourceTensor.clone().detach().requires_grad_(True), rather than torch.tensor(sourceTensor).\n",
      "  labels_dictionary = {'labels':torch.tensor(labels)} # dgl expects tensors for metadata (we convert labels to a dictionary with tensor)\n"
     ]
    },
    {
     "name": "stdout",
     "output_type": "stream",
     "text": [
      "Saving the graphs and labels\n",
      "Number of graphs: 8829, Number of labels: 1\n"
     ]
    },
    {
     "name": "stderr",
     "output_type": "stream",
     "text": [
      "/tmp/ipykernel_505735/2927522558.py:97: UserWarning: To copy construct from a tensor, it is recommended to use sourceTensor.clone().detach() or sourceTensor.clone().detach().requires_grad_(True), rather than torch.tensor(sourceTensor).\n",
      "  labels_dict_int[key] = torch.tensor(item, dtype=torch.int)\n"
     ]
    },
    {
     "name": "stdout",
     "output_type": "stream",
     "text": [
      "Graphs and labels saved.\n",
      "<class 'pandas.core.frame.DataFrame'>\n",
      "Converting molecules to graphs...\n",
      "Removed invalid SMILES at index 30: O=C1O[Al]23(OC1=O)(OC(=O)C(=O)O2)OC(=O)C(=O)O3\n",
      "LENGTH OF LABELS: 10063\n",
      "Graphs done.\n",
      "Saving the graphs and labels\n",
      "Number of graphs: 10063, Number of labels: 1\n"
     ]
    },
    {
     "name": "stderr",
     "output_type": "stream",
     "text": [
      "/tmp/ipykernel_505735/2927522558.py:69: UserWarning: To copy construct from a tensor, it is recommended to use sourceTensor.clone().detach() or sourceTensor.clone().detach().requires_grad_(True), rather than torch.tensor(sourceTensor).\n",
      "  labels_dictionary = {'labels':torch.tensor(labels)} # dgl expects tensors for metadata (we convert labels to a dictionary with tensor)\n",
      "/tmp/ipykernel_505735/2927522558.py:97: UserWarning: To copy construct from a tensor, it is recommended to use sourceTensor.clone().detach() or sourceTensor.clone().detach().requires_grad_(True), rather than torch.tensor(sourceTensor).\n",
      "  labels_dict_int[key] = torch.tensor(item, dtype=torch.int)\n"
     ]
    },
    {
     "name": "stdout",
     "output_type": "stream",
     "text": [
      "Graphs and labels saved.\n",
      "<class 'pandas.core.frame.DataFrame'>\n",
      "Converting molecules to graphs...\n",
      "Removed invalid SMILES at index 57: O=C1O[Al]23(OC1=O)(OC(=O)C(=O)O2)OC(=O)C(=O)O3\n",
      "Removed invalid SMILES at index 6433: Oc1ccc(C2Oc3cc(O)cc4c3C(=[O+][AlH3-3]35(O4)(Oc4cc(O)cc6c4C(=[O+]3)C(O)C(c3ccc(O)cc3O)O6)Oc3cc(O)cc4c3C(=[O+]5)C(O)C(c3ccc(O)cc3O)O4)C2O)c(O)c1\n",
      "Removed invalid SMILES at index 16368: CC(c1cccs1)=[N+]1NC(N)=[S+][AlH3-]12[OH+]B(c1ccccc1)[OH+]2\n",
      "Removed invalid SMILES at index 19163: c1ccc2c(c1)[SH+][GeH2+]([SH+]c1ccccc1[SH+][GeH2+]1[SH+]c3ccccc3[SH+]1)[SH+]2\n",
      "LENGTH OF LABELS: 22123\n",
      "Graphs done.\n",
      "Saving the graphs and labels\n",
      "Number of graphs: 22123, Number of labels: 1\n"
     ]
    },
    {
     "name": "stderr",
     "output_type": "stream",
     "text": [
      "/tmp/ipykernel_505735/2927522558.py:69: UserWarning: To copy construct from a tensor, it is recommended to use sourceTensor.clone().detach() or sourceTensor.clone().detach().requires_grad_(True), rather than torch.tensor(sourceTensor).\n",
      "  labels_dictionary = {'labels':torch.tensor(labels)} # dgl expects tensors for metadata (we convert labels to a dictionary with tensor)\n",
      "/tmp/ipykernel_505735/2927522558.py:97: UserWarning: To copy construct from a tensor, it is recommended to use sourceTensor.clone().detach() or sourceTensor.clone().detach().requires_grad_(True), rather than torch.tensor(sourceTensor).\n",
      "  labels_dict_int[key] = torch.tensor(item, dtype=torch.int)\n"
     ]
    },
    {
     "name": "stdout",
     "output_type": "stream",
     "text": [
      "Graphs and labels saved.\n",
      "<class 'pandas.core.frame.DataFrame'>\n",
      "Converting molecules to graphs...\n",
      "Removed invalid SMILES at index 4009: CC1=C2O[AlH3-3]34(OC5=C(C)N(C)C=CC5=[O+]3)(OC3=C(C)N(C)C=CC3=[O+]4)[O+]=C2C=CN1C\n",
      "LENGTH OF LABELS: 8643\n",
      "Graphs done.\n"
     ]
    },
    {
     "name": "stderr",
     "output_type": "stream",
     "text": [
      "/tmp/ipykernel_505735/2927522558.py:69: UserWarning: To copy construct from a tensor, it is recommended to use sourceTensor.clone().detach() or sourceTensor.clone().detach().requires_grad_(True), rather than torch.tensor(sourceTensor).\n",
      "  labels_dictionary = {'labels':torch.tensor(labels)} # dgl expects tensors for metadata (we convert labels to a dictionary with tensor)\n"
     ]
    },
    {
     "name": "stdout",
     "output_type": "stream",
     "text": [
      "Saving the graphs and labels\n",
      "Number of graphs: 8643, Number of labels: 1\n"
     ]
    },
    {
     "name": "stderr",
     "output_type": "stream",
     "text": [
      "/tmp/ipykernel_505735/2927522558.py:97: UserWarning: To copy construct from a tensor, it is recommended to use sourceTensor.clone().detach() or sourceTensor.clone().detach().requires_grad_(True), rather than torch.tensor(sourceTensor).\n",
      "  labels_dict_int[key] = torch.tensor(item, dtype=torch.int)\n"
     ]
    },
    {
     "name": "stdout",
     "output_type": "stream",
     "text": [
      "Graphs and labels saved.\n",
      "<class 'pandas.core.frame.DataFrame'>\n",
      "Converting molecules to graphs...\n",
      "Removed invalid SMILES at index 265: Cc1ccc([B-2]2(c3ccc(C)cc3)=NCCO2)cc1\n",
      "Removed invalid SMILES at index 7402: CC(c1ccccn1)=[N+]1NC(N)=[S+][AlH3-]12[OH+]B(c1ccccc1)[OH+]2\n",
      "LENGTH OF LABELS: 9792\n",
      "Graphs done.\n"
     ]
    },
    {
     "name": "stderr",
     "output_type": "stream",
     "text": [
      "/tmp/ipykernel_505735/2927522558.py:69: UserWarning: To copy construct from a tensor, it is recommended to use sourceTensor.clone().detach() or sourceTensor.clone().detach().requires_grad_(True), rather than torch.tensor(sourceTensor).\n",
      "  labels_dictionary = {'labels':torch.tensor(labels)} # dgl expects tensors for metadata (we convert labels to a dictionary with tensor)\n"
     ]
    },
    {
     "name": "stdout",
     "output_type": "stream",
     "text": [
      "Saving the graphs and labels\n",
      "Number of graphs: 9792, Number of labels: 1\n"
     ]
    },
    {
     "name": "stderr",
     "output_type": "stream",
     "text": [
      "/tmp/ipykernel_505735/2927522558.py:97: UserWarning: To copy construct from a tensor, it is recommended to use sourceTensor.clone().detach() or sourceTensor.clone().detach().requires_grad_(True), rather than torch.tensor(sourceTensor).\n",
      "  labels_dict_int[key] = torch.tensor(item, dtype=torch.int)\n"
     ]
    },
    {
     "name": "stdout",
     "output_type": "stream",
     "text": [
      "Graphs and labels saved.\n",
      "<class 'pandas.core.frame.DataFrame'>\n",
      "Converting molecules to graphs...\n",
      "Removed invalid SMILES at index 54: O=C1O[Al]23(OC1=O)(OC(=O)C(=O)O2)OC(=O)C(=O)O3\n",
      "Removed invalid SMILES at index 486: Cc1ccc([B-2]2(c3ccc(C)cc3)=NCCO2)cc1\n",
      "Removed invalid SMILES at index 9254: CC1=C2O[AlH3-3]34(OC5=C(C)N(C)C=CC5=[O+]3)(OC3=C(C)N(C)C=CC3=[O+]4)[O+]=C2C=CN1C\n",
      "Removed invalid SMILES at index 19003: c1ccc2c(c1)[SH+][GeH2+]([SH+]c1ccccc1[SH+][GeH2+]1[SH+]c3ccccc3[SH+]1)[SH+]2\n",
      "LENGTH OF LABELS: 21987\n",
      "Graphs done.\n"
     ]
    },
    {
     "name": "stderr",
     "output_type": "stream",
     "text": [
      "/tmp/ipykernel_505735/2927522558.py:69: UserWarning: To copy construct from a tensor, it is recommended to use sourceTensor.clone().detach() or sourceTensor.clone().detach().requires_grad_(True), rather than torch.tensor(sourceTensor).\n",
      "  labels_dictionary = {'labels':torch.tensor(labels)} # dgl expects tensors for metadata (we convert labels to a dictionary with tensor)\n"
     ]
    },
    {
     "name": "stdout",
     "output_type": "stream",
     "text": [
      "Saving the graphs and labels\n",
      "Number of graphs: 21987, Number of labels: 1\n"
     ]
    },
    {
     "name": "stderr",
     "output_type": "stream",
     "text": [
      "/tmp/ipykernel_505735/2927522558.py:97: UserWarning: To copy construct from a tensor, it is recommended to use sourceTensor.clone().detach() or sourceTensor.clone().detach().requires_grad_(True), rather than torch.tensor(sourceTensor).\n",
      "  labels_dict_int[key] = torch.tensor(item, dtype=torch.int)\n"
     ]
    },
    {
     "name": "stdout",
     "output_type": "stream",
     "text": [
      "Graphs and labels saved.\n",
      "<class 'pandas.core.frame.DataFrame'>\n",
      "Converting molecules to graphs...\n",
      "Removed invalid SMILES at index 2917: Oc1ccc(C2Oc3cc(O)cc4c3C(=[O+][AlH3-3]35(O4)(Oc4cc(O)cc6c4C(=[O+]3)C(O)C(c3ccc(O)cc3O)O6)Oc3cc(O)cc4c3C(=[O+]5)C(O)C(c3ccc(O)cc3O)O4)C2O)c(O)c1\n",
      "LENGTH OF LABELS: 8902\n",
      "Graphs done.\n"
     ]
    },
    {
     "name": "stderr",
     "output_type": "stream",
     "text": [
      "/tmp/ipykernel_505735/2927522558.py:69: UserWarning: To copy construct from a tensor, it is recommended to use sourceTensor.clone().detach() or sourceTensor.clone().detach().requires_grad_(True), rather than torch.tensor(sourceTensor).\n",
      "  labels_dictionary = {'labels':torch.tensor(labels)} # dgl expects tensors for metadata (we convert labels to a dictionary with tensor)\n"
     ]
    },
    {
     "name": "stdout",
     "output_type": "stream",
     "text": [
      "Saving the graphs and labels\n",
      "Number of graphs: 8902, Number of labels: 1\n"
     ]
    },
    {
     "name": "stderr",
     "output_type": "stream",
     "text": [
      "/tmp/ipykernel_505735/2927522558.py:97: UserWarning: To copy construct from a tensor, it is recommended to use sourceTensor.clone().detach() or sourceTensor.clone().detach().requires_grad_(True), rather than torch.tensor(sourceTensor).\n",
      "  labels_dict_int[key] = torch.tensor(item, dtype=torch.int)\n"
     ]
    },
    {
     "name": "stdout",
     "output_type": "stream",
     "text": [
      "Graphs and labels saved.\n",
      "<class 'pandas.core.frame.DataFrame'>\n",
      "Converting molecules to graphs...\n",
      "Removed invalid SMILES at index 7240: CC(c1cccs1)=[N+]1NC(N)=[S+][AlH3-]12[OH+]B(c1ccccc1)[OH+]2\n",
      "Removed invalid SMILES at index 7241: CC(c1ccccn1)=[N+]1NC(N)=[S+][AlH3-]12[OH+]B(c1ccccc1)[OH+]2\n",
      "LENGTH OF LABELS: 9669\n",
      "Graphs done.\n"
     ]
    },
    {
     "name": "stderr",
     "output_type": "stream",
     "text": [
      "/tmp/ipykernel_505735/2927522558.py:69: UserWarning: To copy construct from a tensor, it is recommended to use sourceTensor.clone().detach() or sourceTensor.clone().detach().requires_grad_(True), rather than torch.tensor(sourceTensor).\n",
      "  labels_dictionary = {'labels':torch.tensor(labels)} # dgl expects tensors for metadata (we convert labels to a dictionary with tensor)\n"
     ]
    },
    {
     "name": "stdout",
     "output_type": "stream",
     "text": [
      "Saving the graphs and labels\n",
      "Number of graphs: 9669, Number of labels: 1\n"
     ]
    },
    {
     "name": "stderr",
     "output_type": "stream",
     "text": [
      "/tmp/ipykernel_505735/2927522558.py:97: UserWarning: To copy construct from a tensor, it is recommended to use sourceTensor.clone().detach() or sourceTensor.clone().detach().requires_grad_(True), rather than torch.tensor(sourceTensor).\n",
      "  labels_dict_int[key] = torch.tensor(item, dtype=torch.int)\n"
     ]
    },
    {
     "name": "stdout",
     "output_type": "stream",
     "text": [
      "Graphs and labels saved.\n",
      "<class 'pandas.core.frame.DataFrame'>\n",
      "Converting molecules to graphs...\n",
      "Removed invalid SMILES at index 466: Cc1ccc([B-2]2(c3ccc(C)cc3)=NCCO2)cc1\n",
      "Removed invalid SMILES at index 9437: CC1=C2O[AlH3-3]34(OC5=C(C)N(C)C=CC5=[O+]3)(OC3=C(C)N(C)C=CC3=[O+]4)[O+]=C2C=CN1C\n",
      "Removed invalid SMILES at index 19164: c1ccc2c(c1)[SH+][GeH2+]([SH+]c1ccccc1[SH+][GeH2+]1[SH+]c3ccccc3[SH+]1)[SH+]2\n",
      "LENGTH OF LABELS: 22229\n",
      "Graphs done.\n"
     ]
    },
    {
     "name": "stderr",
     "output_type": "stream",
     "text": [
      "/tmp/ipykernel_505735/2927522558.py:69: UserWarning: To copy construct from a tensor, it is recommended to use sourceTensor.clone().detach() or sourceTensor.clone().detach().requires_grad_(True), rather than torch.tensor(sourceTensor).\n",
      "  labels_dictionary = {'labels':torch.tensor(labels)} # dgl expects tensors for metadata (we convert labels to a dictionary with tensor)\n"
     ]
    },
    {
     "name": "stdout",
     "output_type": "stream",
     "text": [
      "Saving the graphs and labels\n",
      "Number of graphs: 22229, Number of labels: 1\n"
     ]
    },
    {
     "name": "stderr",
     "output_type": "stream",
     "text": [
      "/tmp/ipykernel_505735/2927522558.py:97: UserWarning: To copy construct from a tensor, it is recommended to use sourceTensor.clone().detach() or sourceTensor.clone().detach().requires_grad_(True), rather than torch.tensor(sourceTensor).\n",
      "  labels_dict_int[key] = torch.tensor(item, dtype=torch.int)\n"
     ]
    },
    {
     "name": "stdout",
     "output_type": "stream",
     "text": [
      "Graphs and labels saved.\n",
      "<class 'pandas.core.frame.DataFrame'>\n",
      "Converting molecules to graphs...\n",
      "LENGTH OF LABELS: 8818\n",
      "Graphs done.\n"
     ]
    },
    {
     "name": "stderr",
     "output_type": "stream",
     "text": [
      "/tmp/ipykernel_505735/2927522558.py:69: UserWarning: To copy construct from a tensor, it is recommended to use sourceTensor.clone().detach() or sourceTensor.clone().detach().requires_grad_(True), rather than torch.tensor(sourceTensor).\n",
      "  labels_dictionary = {'labels':torch.tensor(labels)} # dgl expects tensors for metadata (we convert labels to a dictionary with tensor)\n"
     ]
    },
    {
     "name": "stdout",
     "output_type": "stream",
     "text": [
      "Saving the graphs and labels\n",
      "Number of graphs: 8818, Number of labels: 1\n"
     ]
    },
    {
     "name": "stderr",
     "output_type": "stream",
     "text": [
      "/tmp/ipykernel_505735/2927522558.py:97: UserWarning: To copy construct from a tensor, it is recommended to use sourceTensor.clone().detach() or sourceTensor.clone().detach().requires_grad_(True), rather than torch.tensor(sourceTensor).\n",
      "  labels_dict_int[key] = torch.tensor(item, dtype=torch.int)\n"
     ]
    },
    {
     "name": "stdout",
     "output_type": "stream",
     "text": [
      "Graphs and labels saved.\n",
      "<class 'pandas.core.frame.DataFrame'>\n",
      "Converting molecules to graphs...\n",
      "Removed invalid SMILES at index 37: O=C1O[Al]23(OC1=O)(OC(=O)C(=O)O2)OC(=O)C(=O)O3\n",
      "Removed invalid SMILES at index 3269: Oc1ccc(C2Oc3cc(O)cc4c3C(=[O+][AlH3-3]35(O4)(Oc4cc(O)cc6c4C(=[O+]3)C(O)C(c3ccc(O)cc3O)O6)Oc3cc(O)cc4c3C(=[O+]5)C(O)C(c3ccc(O)cc3O)O4)C2O)c(O)c1\n",
      "Removed invalid SMILES at index 7215: CC(c1cccs1)=[N+]1NC(N)=[S+][AlH3-]12[OH+]B(c1ccccc1)[OH+]2\n",
      "Removed invalid SMILES at index 7216: CC(c1ccccn1)=[N+]1NC(N)=[S+][AlH3-]12[OH+]B(c1ccccc1)[OH+]2\n",
      "LENGTH OF LABELS: 9511\n",
      "Graphs done.\n"
     ]
    },
    {
     "name": "stderr",
     "output_type": "stream",
     "text": [
      "/tmp/ipykernel_505735/2927522558.py:69: UserWarning: To copy construct from a tensor, it is recommended to use sourceTensor.clone().detach() or sourceTensor.clone().detach().requires_grad_(True), rather than torch.tensor(sourceTensor).\n",
      "  labels_dictionary = {'labels':torch.tensor(labels)} # dgl expects tensors for metadata (we convert labels to a dictionary with tensor)\n"
     ]
    },
    {
     "name": "stdout",
     "output_type": "stream",
     "text": [
      "Saving the graphs and labels\n",
      "Number of graphs: 9511, Number of labels: 1\n"
     ]
    },
    {
     "name": "stderr",
     "output_type": "stream",
     "text": [
      "/tmp/ipykernel_505735/2927522558.py:97: UserWarning: To copy construct from a tensor, it is recommended to use sourceTensor.clone().detach() or sourceTensor.clone().detach().requires_grad_(True), rather than torch.tensor(sourceTensor).\n",
      "  labels_dict_int[key] = torch.tensor(item, dtype=torch.int)\n"
     ]
    },
    {
     "name": "stdout",
     "output_type": "stream",
     "text": [
      "Graphs and labels saved.\n",
      "<class 'pandas.core.frame.DataFrame'>\n",
      "Converting molecules to graphs...\n",
      "Removed invalid SMILES at index 507: Cc1ccc([B-2]2(c3ccc(C)cc3)=NCCO2)cc1\n",
      "Removed invalid SMILES at index 9466: CC1=C2O[AlH3-3]34(OC5=C(C)N(C)C=CC5=[O+]3)(OC3=C(C)N(C)C=CC3=[O+]4)[O+]=C2C=CN1C\n",
      "Removed invalid SMILES at index 16569: CC(c1cccs1)=[N+]1NC(N)=[S+][AlH3-]12[OH+]B(c1ccccc1)[OH+]2\n",
      "Removed invalid SMILES at index 16570: CC(c1ccccn1)=[N+]1NC(N)=[S+][AlH3-]12[OH+]B(c1ccccc1)[OH+]2\n",
      "Removed invalid SMILES at index 19194: c1ccc2c(c1)[SH+][GeH2+]([SH+]c1ccccc1[SH+][GeH2+]1[SH+]c3ccccc3[SH+]1)[SH+]2\n",
      "LENGTH OF LABELS: 22143\n",
      "Graphs done.\n"
     ]
    },
    {
     "name": "stderr",
     "output_type": "stream",
     "text": [
      "/tmp/ipykernel_505735/2927522558.py:69: UserWarning: To copy construct from a tensor, it is recommended to use sourceTensor.clone().detach() or sourceTensor.clone().detach().requires_grad_(True), rather than torch.tensor(sourceTensor).\n",
      "  labels_dictionary = {'labels':torch.tensor(labels)} # dgl expects tensors for metadata (we convert labels to a dictionary with tensor)\n"
     ]
    },
    {
     "name": "stdout",
     "output_type": "stream",
     "text": [
      "Saving the graphs and labels\n",
      "Number of graphs: 22143, Number of labels: 1\n"
     ]
    },
    {
     "name": "stderr",
     "output_type": "stream",
     "text": [
      "/tmp/ipykernel_505735/2927522558.py:97: UserWarning: To copy construct from a tensor, it is recommended to use sourceTensor.clone().detach() or sourceTensor.clone().detach().requires_grad_(True), rather than torch.tensor(sourceTensor).\n",
      "  labels_dict_int[key] = torch.tensor(item, dtype=torch.int)\n"
     ]
    },
    {
     "name": "stdout",
     "output_type": "stream",
     "text": [
      "Graphs and labels saved.\n",
      "<class 'pandas.core.frame.DataFrame'>\n",
      "Converting molecules to graphs...\n",
      "Removed invalid SMILES at index 25: O=C1O[Al]23(OC1=O)(OC(=O)C(=O)O2)OC(=O)C(=O)O3\n",
      "LENGTH OF LABELS: 8814\n",
      "Graphs done.\n"
     ]
    },
    {
     "name": "stderr",
     "output_type": "stream",
     "text": [
      "/tmp/ipykernel_505735/2927522558.py:69: UserWarning: To copy construct from a tensor, it is recommended to use sourceTensor.clone().detach() or sourceTensor.clone().detach().requires_grad_(True), rather than torch.tensor(sourceTensor).\n",
      "  labels_dictionary = {'labels':torch.tensor(labels)} # dgl expects tensors for metadata (we convert labels to a dictionary with tensor)\n"
     ]
    },
    {
     "name": "stdout",
     "output_type": "stream",
     "text": [
      "Saving the graphs and labels\n",
      "Number of graphs: 8814, Number of labels: 1\n"
     ]
    },
    {
     "name": "stderr",
     "output_type": "stream",
     "text": [
      "/tmp/ipykernel_505735/2927522558.py:97: UserWarning: To copy construct from a tensor, it is recommended to use sourceTensor.clone().detach() or sourceTensor.clone().detach().requires_grad_(True), rather than torch.tensor(sourceTensor).\n",
      "  labels_dict_int[key] = torch.tensor(item, dtype=torch.int)\n"
     ]
    },
    {
     "name": "stdout",
     "output_type": "stream",
     "text": [
      "Graphs and labels saved.\n",
      "<class 'pandas.core.frame.DataFrame'>\n",
      "Converting molecules to graphs...\n",
      "Removed invalid SMILES at index 3097: Oc1ccc(C2Oc3cc(O)cc4c3C(=[O+][AlH3-3]35(O4)(Oc4cc(O)cc6c4C(=[O+]3)C(O)C(c3ccc(O)cc3O)O6)Oc3cc(O)cc4c3C(=[O+]5)C(O)C(c3ccc(O)cc3O)O4)C2O)c(O)c1\n",
      "LENGTH OF LABELS: 9601\n",
      "Graphs done.\n"
     ]
    },
    {
     "name": "stderr",
     "output_type": "stream",
     "text": [
      "/tmp/ipykernel_505735/2927522558.py:69: UserWarning: To copy construct from a tensor, it is recommended to use sourceTensor.clone().detach() or sourceTensor.clone().detach().requires_grad_(True), rather than torch.tensor(sourceTensor).\n",
      "  labels_dictionary = {'labels':torch.tensor(labels)} # dgl expects tensors for metadata (we convert labels to a dictionary with tensor)\n"
     ]
    },
    {
     "name": "stdout",
     "output_type": "stream",
     "text": [
      "Saving the graphs and labels\n",
      "Number of graphs: 9601, Number of labels: 1\n"
     ]
    },
    {
     "name": "stderr",
     "output_type": "stream",
     "text": [
      "/tmp/ipykernel_505735/2927522558.py:97: UserWarning: To copy construct from a tensor, it is recommended to use sourceTensor.clone().detach() or sourceTensor.clone().detach().requires_grad_(True), rather than torch.tensor(sourceTensor).\n",
      "  labels_dict_int[key] = torch.tensor(item, dtype=torch.int)\n"
     ]
    },
    {
     "name": "stdout",
     "output_type": "stream",
     "text": [
      "Graphs and labels saved.\n",
      "<class 'pandas.core.frame.DataFrame'>\n",
      "Converting molecules to graphs...\n",
      "Removed invalid SMILES at index 64: O=C1O[Al]23(OC1=O)(OC(=O)C(=O)O2)OC(=O)C(=O)O3\n",
      "Removed invalid SMILES at index 16519: CC(c1cccs1)=[N+]1NC(N)=[S+][AlH3-]12[OH+]B(c1ccccc1)[OH+]2\n",
      "Removed invalid SMILES at index 16520: CC(c1ccccn1)=[N+]1NC(N)=[S+][AlH3-]12[OH+]B(c1ccccc1)[OH+]2\n",
      "Removed invalid SMILES at index 19174: c1ccc2c(c1)[SH+][GeH2+]([SH+]c1ccccc1[SH+][GeH2+]1[SH+]c3ccccc3[SH+]1)[SH+]2\n",
      "LENGTH OF LABELS: 22169\n",
      "Graphs done.\n"
     ]
    },
    {
     "name": "stderr",
     "output_type": "stream",
     "text": [
      "/tmp/ipykernel_505735/2927522558.py:69: UserWarning: To copy construct from a tensor, it is recommended to use sourceTensor.clone().detach() or sourceTensor.clone().detach().requires_grad_(True), rather than torch.tensor(sourceTensor).\n",
      "  labels_dictionary = {'labels':torch.tensor(labels)} # dgl expects tensors for metadata (we convert labels to a dictionary with tensor)\n"
     ]
    },
    {
     "name": "stdout",
     "output_type": "stream",
     "text": [
      "Saving the graphs and labels\n",
      "Number of graphs: 22169, Number of labels: 1\n"
     ]
    },
    {
     "name": "stderr",
     "output_type": "stream",
     "text": [
      "/tmp/ipykernel_505735/2927522558.py:97: UserWarning: To copy construct from a tensor, it is recommended to use sourceTensor.clone().detach() or sourceTensor.clone().detach().requires_grad_(True), rather than torch.tensor(sourceTensor).\n",
      "  labels_dict_int[key] = torch.tensor(item, dtype=torch.int)\n"
     ]
    },
    {
     "name": "stdout",
     "output_type": "stream",
     "text": [
      "Graphs and labels saved.\n",
      "<class 'pandas.core.frame.DataFrame'>\n",
      "Converting molecules to graphs...\n",
      "Removed invalid SMILES at index 2849: Oc1ccc(C2Oc3cc(O)cc4c3C(=[O+][AlH3-3]35(O4)(Oc4cc(O)cc6c4C(=[O+]3)C(O)C(c3ccc(O)cc3O)O6)Oc3cc(O)cc4c3C(=[O+]5)C(O)C(c3ccc(O)cc3O)O4)C2O)c(O)c1\n",
      "Removed invalid SMILES at index 4072: CC1=C2O[AlH3-3]34(OC5=C(C)N(C)C=CC5=[O+]3)(OC3=C(C)N(C)C=CC3=[O+]4)[O+]=C2C=CN1C\n",
      "LENGTH OF LABELS: 8769\n",
      "Graphs done.\n"
     ]
    },
    {
     "name": "stderr",
     "output_type": "stream",
     "text": [
      "/tmp/ipykernel_505735/2927522558.py:69: UserWarning: To copy construct from a tensor, it is recommended to use sourceTensor.clone().detach() or sourceTensor.clone().detach().requires_grad_(True), rather than torch.tensor(sourceTensor).\n",
      "  labels_dictionary = {'labels':torch.tensor(labels)} # dgl expects tensors for metadata (we convert labels to a dictionary with tensor)\n"
     ]
    },
    {
     "name": "stdout",
     "output_type": "stream",
     "text": [
      "Saving the graphs and labels\n",
      "Number of graphs: 8769, Number of labels: 1\n"
     ]
    },
    {
     "name": "stderr",
     "output_type": "stream",
     "text": [
      "/tmp/ipykernel_505735/2927522558.py:97: UserWarning: To copy construct from a tensor, it is recommended to use sourceTensor.clone().detach() or sourceTensor.clone().detach().requires_grad_(True), rather than torch.tensor(sourceTensor).\n",
      "  labels_dict_int[key] = torch.tensor(item, dtype=torch.int)\n"
     ]
    },
    {
     "name": "stdout",
     "output_type": "stream",
     "text": [
      "Graphs and labels saved.\n",
      "<class 'pandas.core.frame.DataFrame'>\n",
      "Converting molecules to graphs...\n",
      "Removed invalid SMILES at index 275: Cc1ccc([B-2]2(c3ccc(C)cc3)=NCCO2)cc1\n",
      "LENGTH OF LABELS: 9620\n",
      "Graphs done.\n",
      "Saving the graphs and labels\n",
      "Number of graphs: 9620, Number of labels: 1\n"
     ]
    },
    {
     "name": "stderr",
     "output_type": "stream",
     "text": [
      "/tmp/ipykernel_505735/2927522558.py:69: UserWarning: To copy construct from a tensor, it is recommended to use sourceTensor.clone().detach() or sourceTensor.clone().detach().requires_grad_(True), rather than torch.tensor(sourceTensor).\n",
      "  labels_dictionary = {'labels':torch.tensor(labels)} # dgl expects tensors for metadata (we convert labels to a dictionary with tensor)\n",
      "/tmp/ipykernel_505735/2927522558.py:97: UserWarning: To copy construct from a tensor, it is recommended to use sourceTensor.clone().detach() or sourceTensor.clone().detach().requires_grad_(True), rather than torch.tensor(sourceTensor).\n",
      "  labels_dict_int[key] = torch.tensor(item, dtype=torch.int)\n"
     ]
    },
    {
     "name": "stdout",
     "output_type": "stream",
     "text": [
      "Graphs and labels saved.\n",
      "<class 'pandas.core.frame.DataFrame'>\n",
      "Converting molecules to graphs...\n",
      "Removed invalid SMILES at index 62: O=C1O[Al]23(OC1=O)(OC(=O)C(=O)O2)OC(=O)C(=O)O3\n",
      "Removed invalid SMILES at index 6328: Oc1ccc(C2Oc3cc(O)cc4c3C(=[O+][AlH3-3]35(O4)(Oc4cc(O)cc6c4C(=[O+]3)C(O)C(c3ccc(O)cc3O)O6)Oc3cc(O)cc4c3C(=[O+]5)C(O)C(c3ccc(O)cc3O)O4)C2O)c(O)c1\n",
      "Removed invalid SMILES at index 9182: CC1=C2O[AlH3-3]34(OC5=C(C)N(C)C=CC5=[O+]3)(OC3=C(C)N(C)C=CC3=[O+]4)[O+]=C2C=CN1C\n",
      "Removed invalid SMILES at index 16060: CC(c1cccs1)=[N+]1NC(N)=[S+][AlH3-]12[OH+]B(c1ccccc1)[OH+]2\n",
      "Removed invalid SMILES at index 16061: CC(c1ccccn1)=[N+]1NC(N)=[S+][AlH3-]12[OH+]B(c1ccccc1)[OH+]2\n",
      "LENGTH OF LABELS: 21466\n",
      "Graphs done.\n"
     ]
    },
    {
     "name": "stderr",
     "output_type": "stream",
     "text": [
      "/tmp/ipykernel_505735/2927522558.py:69: UserWarning: To copy construct from a tensor, it is recommended to use sourceTensor.clone().detach() or sourceTensor.clone().detach().requires_grad_(True), rather than torch.tensor(sourceTensor).\n",
      "  labels_dictionary = {'labels':torch.tensor(labels)} # dgl expects tensors for metadata (we convert labels to a dictionary with tensor)\n"
     ]
    },
    {
     "name": "stdout",
     "output_type": "stream",
     "text": [
      "Saving the graphs and labels\n",
      "Number of graphs: 21466, Number of labels: 1\n"
     ]
    },
    {
     "name": "stderr",
     "output_type": "stream",
     "text": [
      "/tmp/ipykernel_505735/2927522558.py:97: UserWarning: To copy construct from a tensor, it is recommended to use sourceTensor.clone().detach() or sourceTensor.clone().detach().requires_grad_(True), rather than torch.tensor(sourceTensor).\n",
      "  labels_dict_int[key] = torch.tensor(item, dtype=torch.int)\n"
     ]
    },
    {
     "name": "stdout",
     "output_type": "stream",
     "text": [
      "Graphs and labels saved.\n",
      "<class 'pandas.core.frame.DataFrame'>\n",
      "Converting molecules to graphs...\n",
      "Removed invalid SMILES at index 7853: c1ccc2c(c1)[SH+][GeH2+]([SH+]c1ccccc1[SH+][GeH2+]1[SH+]c3ccccc3[SH+]1)[SH+]2\n",
      "LENGTH OF LABELS: 9103\n",
      "Graphs done.\n"
     ]
    },
    {
     "name": "stderr",
     "output_type": "stream",
     "text": [
      "/tmp/ipykernel_505735/2927522558.py:69: UserWarning: To copy construct from a tensor, it is recommended to use sourceTensor.clone().detach() or sourceTensor.clone().detach().requires_grad_(True), rather than torch.tensor(sourceTensor).\n",
      "  labels_dictionary = {'labels':torch.tensor(labels)} # dgl expects tensors for metadata (we convert labels to a dictionary with tensor)\n"
     ]
    },
    {
     "name": "stdout",
     "output_type": "stream",
     "text": [
      "Saving the graphs and labels\n",
      "Number of graphs: 9103, Number of labels: 1\n"
     ]
    },
    {
     "name": "stderr",
     "output_type": "stream",
     "text": [
      "/tmp/ipykernel_505735/2927522558.py:97: UserWarning: To copy construct from a tensor, it is recommended to use sourceTensor.clone().detach() or sourceTensor.clone().detach().requires_grad_(True), rather than torch.tensor(sourceTensor).\n",
      "  labels_dict_int[key] = torch.tensor(item, dtype=torch.int)\n"
     ]
    },
    {
     "name": "stdout",
     "output_type": "stream",
     "text": [
      "Graphs and labels saved.\n",
      "<class 'pandas.core.frame.DataFrame'>\n",
      "Converting molecules to graphs...\n",
      "Removed invalid SMILES at index 275: Cc1ccc([B-2]2(c3ccc(C)cc3)=NCCO2)cc1\n",
      "LENGTH OF LABELS: 9989\n",
      "Graphs done.\n"
     ]
    },
    {
     "name": "stderr",
     "output_type": "stream",
     "text": [
      "/tmp/ipykernel_505735/2927522558.py:69: UserWarning: To copy construct from a tensor, it is recommended to use sourceTensor.clone().detach() or sourceTensor.clone().detach().requires_grad_(True), rather than torch.tensor(sourceTensor).\n",
      "  labels_dictionary = {'labels':torch.tensor(labels)} # dgl expects tensors for metadata (we convert labels to a dictionary with tensor)\n"
     ]
    },
    {
     "name": "stdout",
     "output_type": "stream",
     "text": [
      "Saving the graphs and labels\n",
      "Number of graphs: 9989, Number of labels: 1\n"
     ]
    },
    {
     "name": "stderr",
     "output_type": "stream",
     "text": [
      "/tmp/ipykernel_505735/2927522558.py:97: UserWarning: To copy construct from a tensor, it is recommended to use sourceTensor.clone().detach() or sourceTensor.clone().detach().requires_grad_(True), rather than torch.tensor(sourceTensor).\n",
      "  labels_dict_int[key] = torch.tensor(item, dtype=torch.int)\n"
     ]
    },
    {
     "name": "stdout",
     "output_type": "stream",
     "text": [
      "Graphs and labels saved.\n",
      "<class 'pandas.core.frame.DataFrame'>\n",
      "Converting molecules to graphs...\n",
      "Removed invalid SMILES at index 70: O=C1O[Al]23(OC1=O)(OC(=O)C(=O)O2)OC(=O)C(=O)O3\n",
      "Removed invalid SMILES at index 509: Cc1ccc([B-2]2(c3ccc(C)cc3)=NCCO2)cc1\n",
      "Removed invalid SMILES at index 6900: Oc1ccc(C2Oc3cc(O)cc4c3C(=[O+][AlH3-3]35(O4)(Oc4cc(O)cc6c4C(=[O+]3)C(O)C(c3ccc(O)cc3O)O6)Oc3cc(O)cc4c3C(=[O+]5)C(O)C(c3ccc(O)cc3O)O4)C2O)c(O)c1\n",
      "Removed invalid SMILES at index 9849: CC1=C2O[AlH3-3]34(OC5=C(C)N(C)C=CC5=[O+]3)(OC3=C(C)N(C)C=CC3=[O+]4)[O+]=C2C=CN1C\n",
      "Removed invalid SMILES at index 16829: CC(c1cccs1)=[N+]1NC(N)=[S+][AlH3-]12[OH+]B(c1ccccc1)[OH+]2\n",
      "Removed invalid SMILES at index 16830: CC(c1ccccn1)=[N+]1NC(N)=[S+][AlH3-]12[OH+]B(c1ccccc1)[OH+]2\n",
      "Removed invalid SMILES at index 19441: c1ccc2c(c1)[SH+][GeH2+]([SH+]c1ccccc1[SH+][GeH2+]1[SH+]c3ccccc3[SH+]1)[SH+]2\n",
      "LENGTH OF LABELS: 22218\n",
      "Graphs done.\n"
     ]
    },
    {
     "name": "stderr",
     "output_type": "stream",
     "text": [
      "/tmp/ipykernel_505735/2927522558.py:69: UserWarning: To copy construct from a tensor, it is recommended to use sourceTensor.clone().detach() or sourceTensor.clone().detach().requires_grad_(True), rather than torch.tensor(sourceTensor).\n",
      "  labels_dictionary = {'labels':torch.tensor(labels)} # dgl expects tensors for metadata (we convert labels to a dictionary with tensor)\n"
     ]
    },
    {
     "name": "stdout",
     "output_type": "stream",
     "text": [
      "Saving the graphs and labels\n",
      "Number of graphs: 22218, Number of labels: 1\n"
     ]
    },
    {
     "name": "stderr",
     "output_type": "stream",
     "text": [
      "/tmp/ipykernel_505735/2927522558.py:97: UserWarning: To copy construct from a tensor, it is recommended to use sourceTensor.clone().detach() or sourceTensor.clone().detach().requires_grad_(True), rather than torch.tensor(sourceTensor).\n",
      "  labels_dict_int[key] = torch.tensor(item, dtype=torch.int)\n"
     ]
    },
    {
     "name": "stdout",
     "output_type": "stream",
     "text": [
      "Graphs and labels saved.\n",
      "<class 'pandas.core.frame.DataFrame'>\n",
      "Converting molecules to graphs...\n",
      "LENGTH OF LABELS: 8826\n",
      "Graphs done.\n"
     ]
    },
    {
     "name": "stderr",
     "output_type": "stream",
     "text": [
      "/tmp/ipykernel_505735/2927522558.py:69: UserWarning: To copy construct from a tensor, it is recommended to use sourceTensor.clone().detach() or sourceTensor.clone().detach().requires_grad_(True), rather than torch.tensor(sourceTensor).\n",
      "  labels_dictionary = {'labels':torch.tensor(labels)} # dgl expects tensors for metadata (we convert labels to a dictionary with tensor)\n"
     ]
    },
    {
     "name": "stdout",
     "output_type": "stream",
     "text": [
      "Saving the graphs and labels\n",
      "Number of graphs: 8826, Number of labels: 1\n"
     ]
    },
    {
     "name": "stderr",
     "output_type": "stream",
     "text": [
      "/tmp/ipykernel_505735/2927522558.py:97: UserWarning: To copy construct from a tensor, it is recommended to use sourceTensor.clone().detach() or sourceTensor.clone().detach().requires_grad_(True), rather than torch.tensor(sourceTensor).\n",
      "  labels_dict_int[key] = torch.tensor(item, dtype=torch.int)\n"
     ]
    },
    {
     "name": "stdout",
     "output_type": "stream",
     "text": [
      "Graphs and labels saved.\n",
      "<class 'pandas.core.frame.DataFrame'>\n",
      "Converting molecules to graphs...\n",
      "LENGTH OF LABELS: 9514\n",
      "Graphs done.\n"
     ]
    },
    {
     "name": "stderr",
     "output_type": "stream",
     "text": [
      "/tmp/ipykernel_505735/2927522558.py:69: UserWarning: To copy construct from a tensor, it is recommended to use sourceTensor.clone().detach() or sourceTensor.clone().detach().requires_grad_(True), rather than torch.tensor(sourceTensor).\n",
      "  labels_dictionary = {'labels':torch.tensor(labels)} # dgl expects tensors for metadata (we convert labels to a dictionary with tensor)\n"
     ]
    },
    {
     "name": "stdout",
     "output_type": "stream",
     "text": [
      "Saving the graphs and labels\n",
      "Number of graphs: 9514, Number of labels: 1\n"
     ]
    },
    {
     "name": "stderr",
     "output_type": "stream",
     "text": [
      "/tmp/ipykernel_505735/2927522558.py:97: UserWarning: To copy construct from a tensor, it is recommended to use sourceTensor.clone().detach() or sourceTensor.clone().detach().requires_grad_(True), rather than torch.tensor(sourceTensor).\n",
      "  labels_dict_int[key] = torch.tensor(item, dtype=torch.int)\n"
     ]
    },
    {
     "name": "stdout",
     "output_type": "stream",
     "text": [
      "Graphs and labels saved.\n",
      "<class 'pandas.core.frame.DataFrame'>\n",
      "Converting molecules to graphs...\n",
      "Removed invalid SMILES at index 2356: CC1=C2O[AlH3-3]34(OC5=C(C)N(C)C=CC5=[O+]3)(OC3=C(C)N(C)C=CC3=[O+]4)[O+]=C2C=CN1C\n",
      "LENGTH OF LABELS: 6937\n",
      "Graphs done.\n"
     ]
    },
    {
     "name": "stderr",
     "output_type": "stream",
     "text": [
      "/tmp/ipykernel_505735/2927522558.py:69: UserWarning: To copy construct from a tensor, it is recommended to use sourceTensor.clone().detach() or sourceTensor.clone().detach().requires_grad_(True), rather than torch.tensor(sourceTensor).\n",
      "  labels_dictionary = {'labels':torch.tensor(labels)} # dgl expects tensors for metadata (we convert labels to a dictionary with tensor)\n"
     ]
    },
    {
     "name": "stdout",
     "output_type": "stream",
     "text": [
      "Saving the graphs and labels\n",
      "Number of graphs: 6937, Number of labels: 1\n"
     ]
    },
    {
     "name": "stderr",
     "output_type": "stream",
     "text": [
      "/tmp/ipykernel_505735/2927522558.py:97: UserWarning: To copy construct from a tensor, it is recommended to use sourceTensor.clone().detach() or sourceTensor.clone().detach().requires_grad_(True), rather than torch.tensor(sourceTensor).\n",
      "  labels_dict_int[key] = torch.tensor(item, dtype=torch.int)\n"
     ]
    },
    {
     "name": "stdout",
     "output_type": "stream",
     "text": [
      "Graphs and labels saved.\n",
      "<class 'pandas.core.frame.DataFrame'>\n",
      "Converting molecules to graphs...\n",
      "Removed invalid SMILES at index 9465: c1ccc2c(c1)[SH+][GeH2+]([SH+]c1ccccc1[SH+][GeH2+]1[SH+]c3ccccc3[SH+]1)[SH+]2\n",
      "LENGTH OF LABELS: 10971\n",
      "Graphs done.\n",
      "Saving the graphs and labels\n",
      "Number of graphs: 10971, Number of labels: 1\n"
     ]
    },
    {
     "name": "stderr",
     "output_type": "stream",
     "text": [
      "/tmp/ipykernel_505735/2927522558.py:69: UserWarning: To copy construct from a tensor, it is recommended to use sourceTensor.clone().detach() or sourceTensor.clone().detach().requires_grad_(True), rather than torch.tensor(sourceTensor).\n",
      "  labels_dictionary = {'labels':torch.tensor(labels)} # dgl expects tensors for metadata (we convert labels to a dictionary with tensor)\n",
      "/tmp/ipykernel_505735/2927522558.py:97: UserWarning: To copy construct from a tensor, it is recommended to use sourceTensor.clone().detach() or sourceTensor.clone().detach().requires_grad_(True), rather than torch.tensor(sourceTensor).\n",
      "  labels_dict_int[key] = torch.tensor(item, dtype=torch.int)\n"
     ]
    },
    {
     "name": "stdout",
     "output_type": "stream",
     "text": [
      "Graphs and labels saved.\n",
      "<class 'pandas.core.frame.DataFrame'>\n",
      "Converting molecules to graphs...\n",
      "Removed invalid SMILES at index 90: O=C1O[Al]23(OC1=O)(OC(=O)C(=O)O2)OC(=O)C(=O)O3\n",
      "Removed invalid SMILES at index 612: Cc1ccc([B-2]2(c3ccc(C)cc3)=NCCO2)cc1\n",
      "Removed invalid SMILES at index 7787: Oc1ccc(C2Oc3cc(O)cc4c3C(=[O+][AlH3-3]35(O4)(Oc4cc(O)cc6c4C(=[O+]3)C(O)C(c3ccc(O)cc3O)O6)Oc3cc(O)cc4c3C(=[O+]5)C(O)C(c3ccc(O)cc3O)O4)C2O)c(O)c1\n",
      "Removed invalid SMILES at index 17448: CC(c1cccs1)=[N+]1NC(N)=[S+][AlH3-]12[OH+]B(c1ccccc1)[OH+]2\n",
      "Removed invalid SMILES at index 17449: CC(c1ccccn1)=[N+]1NC(N)=[S+][AlH3-]12[OH+]B(c1ccccc1)[OH+]2\n",
      "LENGTH OF LABELS: 22650\n",
      "Graphs done.\n"
     ]
    },
    {
     "name": "stderr",
     "output_type": "stream",
     "text": [
      "/tmp/ipykernel_505735/2927522558.py:69: UserWarning: To copy construct from a tensor, it is recommended to use sourceTensor.clone().detach() or sourceTensor.clone().detach().requires_grad_(True), rather than torch.tensor(sourceTensor).\n",
      "  labels_dictionary = {'labels':torch.tensor(labels)} # dgl expects tensors for metadata (we convert labels to a dictionary with tensor)\n"
     ]
    },
    {
     "name": "stdout",
     "output_type": "stream",
     "text": [
      "Saving the graphs and labels\n",
      "Number of graphs: 22650, Number of labels: 1\n"
     ]
    },
    {
     "name": "stderr",
     "output_type": "stream",
     "text": [
      "/tmp/ipykernel_505735/2927522558.py:97: UserWarning: To copy construct from a tensor, it is recommended to use sourceTensor.clone().detach() or sourceTensor.clone().detach().requires_grad_(True), rather than torch.tensor(sourceTensor).\n",
      "  labels_dict_int[key] = torch.tensor(item, dtype=torch.int)\n"
     ]
    },
    {
     "name": "stdout",
     "output_type": "stream",
     "text": [
      "Graphs and labels saved.\n",
      "<class 'pandas.core.frame.DataFrame'>\n",
      "Converting molecules to graphs...\n",
      "Removed invalid SMILES at index 2236: CC1=C2O[AlH3-3]34(OC5=C(C)N(C)C=CC5=[O+]3)(OC3=C(C)N(C)C=CC3=[O+]4)[O+]=C2C=CN1C\n",
      "LENGTH OF LABELS: 6607\n",
      "Graphs done.\n"
     ]
    },
    {
     "name": "stderr",
     "output_type": "stream",
     "text": [
      "/tmp/ipykernel_505735/2927522558.py:69: UserWarning: To copy construct from a tensor, it is recommended to use sourceTensor.clone().detach() or sourceTensor.clone().detach().requires_grad_(True), rather than torch.tensor(sourceTensor).\n",
      "  labels_dictionary = {'labels':torch.tensor(labels)} # dgl expects tensors for metadata (we convert labels to a dictionary with tensor)\n"
     ]
    },
    {
     "name": "stdout",
     "output_type": "stream",
     "text": [
      "Saving the graphs and labels\n",
      "Number of graphs: 6607, Number of labels: 1\n"
     ]
    },
    {
     "name": "stderr",
     "output_type": "stream",
     "text": [
      "/tmp/ipykernel_505735/2927522558.py:97: UserWarning: To copy construct from a tensor, it is recommended to use sourceTensor.clone().detach() or sourceTensor.clone().detach().requires_grad_(True), rather than torch.tensor(sourceTensor).\n",
      "  labels_dict_int[key] = torch.tensor(item, dtype=torch.int)\n"
     ]
    },
    {
     "name": "stdout",
     "output_type": "stream",
     "text": [
      "Graphs and labels saved.\n",
      "<class 'pandas.core.frame.DataFrame'>\n",
      "Converting molecules to graphs...\n",
      "Removed invalid SMILES at index 10169: c1ccc2c(c1)[SH+][GeH2+]([SH+]c1ccccc1[SH+][GeH2+]1[SH+]c3ccccc3[SH+]1)[SH+]2\n",
      "LENGTH OF LABELS: 11605\n",
      "Graphs done.\n",
      "Saving the graphs and labels\n",
      "Number of graphs: 11605, Number of labels: 1\n"
     ]
    },
    {
     "name": "stderr",
     "output_type": "stream",
     "text": [
      "/tmp/ipykernel_505735/2927522558.py:69: UserWarning: To copy construct from a tensor, it is recommended to use sourceTensor.clone().detach() or sourceTensor.clone().detach().requires_grad_(True), rather than torch.tensor(sourceTensor).\n",
      "  labels_dictionary = {'labels':torch.tensor(labels)} # dgl expects tensors for metadata (we convert labels to a dictionary with tensor)\n",
      "/tmp/ipykernel_505735/2927522558.py:97: UserWarning: To copy construct from a tensor, it is recommended to use sourceTensor.clone().detach() or sourceTensor.clone().detach().requires_grad_(True), rather than torch.tensor(sourceTensor).\n",
      "  labels_dict_int[key] = torch.tensor(item, dtype=torch.int)\n"
     ]
    },
    {
     "name": "stdout",
     "output_type": "stream",
     "text": [
      "Graphs and labels saved.\n",
      "<class 'pandas.core.frame.DataFrame'>\n",
      "Converting molecules to graphs...\n",
      "Removed invalid SMILES at index 86: O=C1O[Al]23(OC1=O)(OC(=O)C(=O)O2)OC(=O)C(=O)O3\n",
      "Removed invalid SMILES at index 650: Cc1ccc([B-2]2(c3ccc(C)cc3)=NCCO2)cc1\n",
      "Removed invalid SMILES at index 7767: Oc1ccc(C2Oc3cc(O)cc4c3C(=[O+][AlH3-3]35(O4)(Oc4cc(O)cc6c4C(=[O+]3)C(O)C(c3ccc(O)cc3O)O6)Oc3cc(O)cc4c3C(=[O+]5)C(O)C(c3ccc(O)cc3O)O4)C2O)c(O)c1\n",
      "Removed invalid SMILES at index 17025: CC(c1cccs1)=[N+]1NC(N)=[S+][AlH3-]12[OH+]B(c1ccccc1)[OH+]2\n",
      "Removed invalid SMILES at index 17026: CC(c1ccccn1)=[N+]1NC(N)=[S+][AlH3-]12[OH+]B(c1ccccc1)[OH+]2\n",
      "LENGTH OF LABELS: 22346\n",
      "Graphs done.\n"
     ]
    },
    {
     "name": "stderr",
     "output_type": "stream",
     "text": [
      "/tmp/ipykernel_505735/2927522558.py:69: UserWarning: To copy construct from a tensor, it is recommended to use sourceTensor.clone().detach() or sourceTensor.clone().detach().requires_grad_(True), rather than torch.tensor(sourceTensor).\n",
      "  labels_dictionary = {'labels':torch.tensor(labels)} # dgl expects tensors for metadata (we convert labels to a dictionary with tensor)\n"
     ]
    },
    {
     "name": "stdout",
     "output_type": "stream",
     "text": [
      "Saving the graphs and labels\n",
      "Number of graphs: 22346, Number of labels: 1\n"
     ]
    },
    {
     "name": "stderr",
     "output_type": "stream",
     "text": [
      "/tmp/ipykernel_505735/2927522558.py:97: UserWarning: To copy construct from a tensor, it is recommended to use sourceTensor.clone().detach() or sourceTensor.clone().detach().requires_grad_(True), rather than torch.tensor(sourceTensor).\n",
      "  labels_dict_int[key] = torch.tensor(item, dtype=torch.int)\n"
     ]
    },
    {
     "name": "stdout",
     "output_type": "stream",
     "text": [
      "Graphs and labels saved.\n"
     ]
    }
   ],
   "source": [
    "import pandas as pd\n",
    "from rdkit.Chem import PandasTools\n",
    "from rdkit import Chem\n",
    "from sklearn.model_selection import train_test_split\n",
    "import dgl\n",
    "from dgllife.utils import mol_to_bigraph, CanonicalAtomFeaturizer, CanonicalBondFeaturizer\n",
    "from enum import Enum\n",
    "import torch\n",
    "import json\n",
    "\n",
    "\n",
    "\n",
    "def remove_duplicates(df):\n",
    "    indexes_to_remove=[71, 20031, 17054, 28867, 29078, 28112, 25117, 33252, 39561, 39293, 40500, 39604, 40510, 39894, 23457, 1883, 1848, 450, 10499, 5476, 6679, 20046, 14769, 5950, 12216, 22430, 22426, 9034, 9876, 2202, 27142, 1299, 1805, 29622, 25009, 29646, 9218, 17673, 10325, 31053, 24736, 12815, 20952, 27910, 23716, 7245, 1968, 14653, 26318, 25042, 22425, 22432, 2060, 20957, 21664, 8818, 20383, 33539, 5452, 24667, 24674, 4947, 34815, 24611, 11048, 1141, 19526, 11095, 20645, 1973, 4607, 32554, 14255, 13193, 3, 1395, 8835, 6438, 27908, 22703, 27907, 6407, 30873, 23053, 13838, 30935, 13839, 22295, 15075, 1301, 22305, 1300, 26808, 35183, 15033, 16141, 17807, 22785, 11843, 4692, 28596, 14250, 8742, 17059, 23086]\n",
    "    #print(f'Number of indices to remove is: {len(indexes_to_remove)}')\n",
    "    df['IndexNum'] = df['QSPRID'].str.extract(r'_(\\d+)$').astype(int)\n",
    "    df_filtered = df[~df['IndexNum'].isin(indexes_to_remove)].copy()\n",
    "    df_filtered.drop(columns=['IndexNum'], inplace=True)\n",
    "    return df_filtered\n",
    "\n",
    "def remove_invalid_smi(df):\n",
    "    valid_rows = []\n",
    "    for idx, row in df.iterrows():\n",
    "        smiles = row['Drug']\n",
    "        mol = Chem.MolFromSmiles(smiles)\n",
    "        if mol is not None:\n",
    "            valid_rows.append(row)\n",
    "        else:\n",
    "            print(f\"Removed invalid SMILES at index {idx}: {smiles}\")\n",
    "    return pd.DataFrame(valid_rows).reset_index(drop=True)\n",
    "\n",
    "\n",
    "def molecules_to_graph(data_frame):\n",
    "    print(\"Converting molecules to graphs...\")\n",
    "    #smiles_labels = data_frame[['smiles', 'pki']] \n",
    "    chemblid, graphs, labels = [], [], []\n",
    "    data_frame = remove_invalid_smi(data_frame)\n",
    "    for index, row in data_frame.iterrows():\n",
    "        #chemblid = row['molecule_chembl_id']   TODO\n",
    "        #smi = row['smiles']    TODO\n",
    "        smi = row['Drug']\n",
    "        mol = Chem.MolFromSmiles(smi)\n",
    "        #print(\"Number of edges:\", g.number_of_edges())  # Get the number of edges in the graph\n",
    "        #print(\"Number of features:\", len(CanonicalBondFeaturizer(mol)))  # Check the number of features returne\n",
    "\n",
    "        if mol is None:\n",
    "            print(f\"Invalid SMILES at index {index}: {smi}\")\n",
    "            continue  # Skip invalid molecules\n",
    "        \n",
    "        try:\n",
    "            graph = mol_to_bigraph(    # converts RDKit mol object into a DGL graph, bigraph - ensuring undirected conectivity (A->B, B->A)\n",
    "                mol,                   # adding self loops to nodes --> they can use their own features in message passing\n",
    "                node_featurizer=CanonicalAtomFeaturizer(),\n",
    "                edge_featurizer=CanonicalBondFeaturizer(),\n",
    "                explicit_hydrogens=False\n",
    "            )\n",
    "            graph = dgl.add_self_loop(graph)\n",
    "            graphs.append(graph)\n",
    "        except Exception as e:\n",
    "            print(f\"Graph conversion failed at index {index}: {e}\")\n",
    "            continue\n",
    "        #label = row['pki'] TODO\n",
    "        #label = row['pchembl_value_Mean'] \n",
    "        label = row['Y']\n",
    "        labels.append(label)\n",
    "    print(f\"LENGTH OF LABELS: {len(labels)}\")\n",
    "    labels = torch.tensor(labels).unsqueeze(1)  # torch.tensor ... converts python list into pytorch tensor\n",
    "                                                    # unsqueeze(1) ... adds an extra dimension at the position 1 (some models require explicitly the 2nd dimention)\n",
    "    labels_dictionary = {'labels':torch.tensor(labels)} # dgl expects tensors for metadata (we convert labels to a dictionary with tensor)\n",
    "    print(\"Graphs done.\")\n",
    "    \n",
    "    return chemblid, labels_dictionary, graphs\n",
    "\n",
    "\n",
    "def run_script():\n",
    "    #data_frame = pd.read_csv(\"/Users/martinpycha/Desktop/Machine_learning/My_project/A2AR_data/a2ar_val_1\")\n",
    "    for i in range(1, 11):\n",
    "        for set_type in [\"train\", \"val\", \"test\"]:\n",
    "            #data_frame = pd.read_csv(f\"./A2AR/a2ar_{set_type}_{i}\")\n",
    "            data_frame = pd.read_csv(f\"./HIV/hiv_{set_type}_{i}\")\n",
    "            #print(f\"NUMBER OF NAN's is {data_frame.isna().sum().sum()}\")\n",
    "            #print(type(data_frame))\n",
    "            data_frame_class = data_frame\n",
    "            # FOR CLASSIFICATION\n",
    "            #data_frame_class = prepare_for_classification(data_frame)\n",
    "            #print(data_frame_class.info())\n",
    "            #print(data_frame_class.head())\n",
    "            #print(data_frame[\"Y\"].value_counts())\n",
    "            \n",
    "            print(type(data_frame_class))\n",
    "            _, labels_dict, graphs = molecules_to_graph(data_frame_class)\n",
    "            # saving the results\n",
    "            print(\"Saving the graphs and labels\")\n",
    "            \n",
    "            labels_dict_int = {}\n",
    "            for key, item in labels_dict.items():\n",
    "                labels_dict_int[key] = torch.tensor(item, dtype=torch.int)\n",
    "            print(f\"Number of graphs: {len(graphs)}, Number of labels: {len(labels_dict_int)}\")\n",
    "            dgl.save_graphs(f'./HIV_graphs/HIV_graphs_{set_type}{i}.bin', graphs, labels_dict_int)  # graphs... list of graphs, labels_dict ... dictionary containing labels\n",
    "            print(\"Graphs and labels saved.\")\n",
    "\n",
    "def clean_dataset():\n",
    "    for i in range(1, 11):\n",
    "        for set_type in [\"train\", \"val\", \"test\"]:\n",
    "            data_frame = pd.read_csv(f\"./raw_HIV/hiv_{set_type}_{i}\")\n",
    "            print(data_frame.info())\n",
    "            data_frame_clean = remove_duplicates(data_frame)\n",
    "            print(data_frame_clean.info())\n",
    "            data_frame_clean.to_csv(f\"./HIV/hiv_{set_type}_{i}\", index=False)\n",
    "\n",
    "#clean_dataset()\n",
    "run_script()\n",
    "\n",
    "    \n",
    "        \n",
    "        \n",
    "        "
   ]
  },
  {
   "cell_type": "code",
   "execution_count": null,
   "id": "ab7b1827-e6e5-4c8a-a106-109676fed74e",
   "metadata": {},
   "outputs": [],
   "source": []
  }
 ],
 "metadata": {
  "kernelspec": {
   "display_name": "Python 3 (ipykernel)",
   "language": "python",
   "name": "python3"
  },
  "language_info": {
   "codemirror_mode": {
    "name": "ipython",
    "version": 3
   },
   "file_extension": ".py",
   "mimetype": "text/x-python",
   "name": "python",
   "nbconvert_exporter": "python",
   "pygments_lexer": "ipython3",
   "version": "3.10.16"
  }
 },
 "nbformat": 4,
 "nbformat_minor": 5
}
