{
 "cells": [
  {
   "cell_type": "code",
   "execution_count": 1,
   "id": "4f708c3c-f183-425a-8dc7-e2eeb19839eb",
   "metadata": {
    "execution": {
     "iopub.execute_input": "2025-05-05T09:31:24.550817Z",
     "iopub.status.busy": "2025-05-05T09:31:24.550462Z",
     "iopub.status.idle": "2025-05-05T14:47:38.563986Z",
     "shell.execute_reply": "2025-05-05T14:47:38.562547Z"
    },
    "papermill": {
     "duration": 18974.023339,
     "end_time": "2025-05-05T14:47:38.567070",
     "exception": false,
     "start_time": "2025-05-05T09:31:24.543731",
     "status": "completed"
    },
    "tags": []
   },
   "outputs": [
    {
     "name": "stderr",
     "output_type": "stream",
     "text": [
      "/home/ubuntu/miniconda3/envs/gnn_project/lib/python3.10/site-packages/tqdm/auto.py:21: TqdmWarning: IProgress not found. Please update jupyter and ipywidgets. See https://ipywidgets.readthedocs.io/en/stable/user_install.html\n",
      "  from .autonotebook import tqdm as notebook_tqdm\n"
     ]
    },
    {
     "name": "stdout",
     "output_type": "stream",
     "text": [
      "Train: 2407,Val: 811,Test: 864,Val + Train combined: 3218\n",
      "\n",
      "Data loading completed\n",
      "\n"
     ]
    },
    {
     "name": "stdout",
     "output_type": "stream",
     "text": [
      "Hyperparameter optimization...\n",
      "\n"
     ]
    },
    {
     "name": "stderr",
     "output_type": "stream",
     "text": [
      "[I 2025-05-05 09:31:32,951] A new study created in memory with name: no-name-11ff3eb7-1034-43ce-8a56-9924b14770e3\n"
     ]
    },
    {
     "name": "stderr",
     "output_type": "stream",
     "text": [
      "[I 2025-05-05 09:51:08,025] Trial 0 finished with value: 0.6582090430534803 and parameters: {'hidden_dim': 165, 'n_steps': 20, 'dropout_rate': 0.3721493586297726, 'lr': 0.0002481040974867811, 'batch_size': 32, 'n_hidden_layers': 2, 'lr_scheduler': 'StepLR', 'activation': 'RELU', 'step_size': 10, 'gamma_step': 0.8198396753440759}. Best is trial 0 with value: 0.6582090430534803.\n"
     ]
    },
    {
     "name": "stderr",
     "output_type": "stream",
     "text": [
      "[I 2025-05-05 10:01:12,449] Trial 1 finished with value: 0.5358830936826192 and parameters: {'hidden_dim': 153, 'n_steps': 6, 'dropout_rate': 0.13296436629609715, 'lr': 1.6480446427978994e-05, 'batch_size': 32, 'n_hidden_layers': 3, 'lr_scheduler': 'StepLR', 'activation': 'LeakyRELU', 'step_size': 6, 'gamma_step': 0.8113316730507425}. Best is trial 1 with value: 0.5358830936826192.\n"
     ]
    },
    {
     "name": "stderr",
     "output_type": "stream",
     "text": [
      "[I 2025-05-05 10:13:51,621] Trial 2 finished with value: 0.6740082433590522 and parameters: {'hidden_dim': 152, 'n_steps': 12, 'dropout_rate': 0.3112927520238505, 'lr': 1.5339162591163623e-06, 'batch_size': 32, 'n_hidden_layers': 2, 'lr_scheduler': 'ExponentialLR', 'activation': 'RELU', 'gamma_exp': 0.39446359524421337}. Best is trial 1 with value: 0.5358830936826192.\n"
     ]
    },
    {
     "name": "stderr",
     "output_type": "stream",
     "text": [
      "[I 2025-05-05 10:18:05,846] Trial 3 finished with value: 0.8672159484454564 and parameters: {'hidden_dim': 186, 'n_steps': 10, 'dropout_rate': 0.10620867039232357, 'lr': 9.565499215943819e-05, 'batch_size': 128, 'n_hidden_layers': 3, 'lr_scheduler': 'StepLR', 'activation': 'LeakyRELU', 'step_size': 3, 'gamma_step': 0.8445252329976205}. Best is trial 1 with value: 0.5358830936826192.\n"
     ]
    },
    {
     "name": "stderr",
     "output_type": "stream",
     "text": [
      "[I 2025-05-05 10:37:28,333] Trial 4 finished with value: 0.6758130857577691 and parameters: {'hidden_dim': 193, 'n_steps': 19, 'dropout_rate': 0.4431447247864549, 'lr': 0.0002463768595899747, 'batch_size': 32, 'n_hidden_layers': 2, 'lr_scheduler': 'ExponentialLR', 'activation': 'RELU', 'gamma_exp': 0.8769667560402734}. Best is trial 1 with value: 0.5358830936826192.\n"
     ]
    },
    {
     "name": "stderr",
     "output_type": "stream",
     "text": [
      "[I 2025-05-05 10:38:05,183] Trial 5 pruned. \n"
     ]
    },
    {
     "name": "stderr",
     "output_type": "stream",
     "text": [
      "[I 2025-05-05 10:45:01,608] Trial 6 finished with value: 0.6705959668526282 and parameters: {'hidden_dim': 192, 'n_steps': 4, 'dropout_rate': 0.20929105764530284, 'lr': 2.907208890659845e-06, 'batch_size': 32, 'n_hidden_layers': 3, 'lr_scheduler': 'ExponentialLR', 'activation': 'LeakyRELU', 'gamma_exp': 0.7507879310944406}. Best is trial 1 with value: 0.5358830936826192.\n"
     ]
    },
    {
     "name": "stderr",
     "output_type": "stream",
     "text": [
      "[I 2025-05-05 10:45:22,775] Trial 7 pruned. \n"
     ]
    },
    {
     "name": "stderr",
     "output_type": "stream",
     "text": [
      "[I 2025-05-05 10:45:43,744] Trial 8 pruned. \n"
     ]
    },
    {
     "name": "stderr",
     "output_type": "stream",
     "text": [
      "[I 2025-05-05 10:45:49,745] Trial 9 pruned. \n"
     ]
    },
    {
     "name": "stderr",
     "output_type": "stream",
     "text": [
      "[I 2025-05-05 10:45:51,546] Trial 10 pruned. \n"
     ]
    },
    {
     "name": "stderr",
     "output_type": "stream",
     "text": [
      "[I 2025-05-05 10:46:07,491] Trial 11 pruned. \n"
     ]
    },
    {
     "name": "stderr",
     "output_type": "stream",
     "text": [
      "[I 2025-05-05 10:46:25,699] Trial 12 pruned. \n"
     ]
    },
    {
     "name": "stderr",
     "output_type": "stream",
     "text": [
      "[I 2025-05-05 11:11:44,439] Trial 13 finished with value: 0.7442922096412915 and parameters: {'hidden_dim': 178, 'n_steps': 17, 'dropout_rate': 0.2215399327007431, 'lr': 2.100480586383109e-05, 'batch_size': 32, 'n_hidden_layers': 3, 'lr_scheduler': 'StepLR', 'activation': 'LeakyRELU', 'step_size': 8, 'gamma_step': 0.7349335638179425}. Best is trial 1 with value: 0.5358830936826192.\n"
     ]
    },
    {
     "name": "stderr",
     "output_type": "stream",
     "text": [
      "[I 2025-05-05 11:11:46,430] Trial 14 pruned. \n"
     ]
    },
    {
     "name": "stderr",
     "output_type": "stream",
     "text": [
      "[I 2025-05-05 11:12:03,851] Trial 15 pruned. \n"
     ]
    },
    {
     "name": "stderr",
     "output_type": "stream",
     "text": [
      "[I 2025-05-05 11:34:45,032] Trial 16 finished with value: 0.6577743796201853 and parameters: {'hidden_dim': 176, 'n_steps': 9, 'dropout_rate': 0.1572988508234794, 'lr': 7.915615088525045e-06, 'batch_size': 32, 'n_hidden_layers': 5, 'lr_scheduler': 'StepLR', 'activation': 'RELU', 'step_size': 8, 'gamma_step': 0.822244022973048}. Best is trial 1 with value: 0.5358830936826192.\n"
     ]
    },
    {
     "name": "stderr",
     "output_type": "stream",
     "text": [
      "[I 2025-05-05 11:35:19,833] Trial 17 pruned. \n"
     ]
    },
    {
     "name": "stderr",
     "output_type": "stream",
     "text": [
      "[I 2025-05-05 11:35:22,560] Trial 18 pruned. \n"
     ]
    },
    {
     "name": "stderr",
     "output_type": "stream",
     "text": [
      "[I 2025-05-05 11:59:16,337] Trial 19 finished with value: 0.7764218438130158 and parameters: {'hidden_dim': 156, 'n_steps': 8, 'dropout_rate': 0.15993008041121193, 'lr': 1.0461414290160077e-06, 'batch_size': 32, 'n_hidden_layers': 6, 'lr_scheduler': 'StepLR', 'activation': 'RELU', 'step_size': 7, 'gamma_step': 0.8264234903554843}. Best is trial 1 with value: 0.5358830936826192.\n"
     ]
    },
    {
     "name": "stderr",
     "output_type": "stream",
     "text": [
      "[I 2025-05-05 12:00:02,034] Trial 20 pruned. \n"
     ]
    },
    {
     "name": "stderr",
     "output_type": "stream",
     "text": [
      "[I 2025-05-05 12:00:07,690] Trial 21 pruned. \n"
     ]
    },
    {
     "name": "stderr",
     "output_type": "stream",
     "text": [
      "[I 2025-05-05 12:00:33,867] Trial 22 pruned. \n"
     ]
    },
    {
     "name": "stderr",
     "output_type": "stream",
     "text": [
      "[I 2025-05-05 12:00:45,706] Trial 23 pruned. \n"
     ]
    },
    {
     "name": "stderr",
     "output_type": "stream",
     "text": [
      "[I 2025-05-05 12:01:09,459] Trial 24 pruned. \n"
     ]
    },
    {
     "name": "stderr",
     "output_type": "stream",
     "text": [
      "[I 2025-05-05 12:01:25,812] Trial 25 pruned. \n"
     ]
    },
    {
     "name": "stderr",
     "output_type": "stream",
     "text": [
      "[I 2025-05-05 12:01:29,220] Trial 26 pruned. \n"
     ]
    },
    {
     "name": "stderr",
     "output_type": "stream",
     "text": [
      "[I 2025-05-05 12:01:36,284] Trial 27 pruned. \n"
     ]
    },
    {
     "name": "stderr",
     "output_type": "stream",
     "text": [
      "[I 2025-05-05 12:01:47,635] Trial 28 pruned. \n"
     ]
    },
    {
     "name": "stderr",
     "output_type": "stream",
     "text": [
      "[I 2025-05-05 12:01:57,729] Trial 29 pruned. \n"
     ]
    },
    {
     "name": "stderr",
     "output_type": "stream",
     "text": [
      "[I 2025-05-05 12:02:07,208] Trial 30 pruned. \n"
     ]
    },
    {
     "name": "stderr",
     "output_type": "stream",
     "text": [
      "[I 2025-05-05 12:02:12,795] Trial 31 pruned. \n"
     ]
    },
    {
     "name": "stderr",
     "output_type": "stream",
     "text": [
      "[I 2025-05-05 12:02:26,464] Trial 32 pruned. \n"
     ]
    },
    {
     "name": "stderr",
     "output_type": "stream",
     "text": [
      "[I 2025-05-05 12:02:33,790] Trial 33 pruned. \n"
     ]
    },
    {
     "name": "stderr",
     "output_type": "stream",
     "text": [
      "[I 2025-05-05 12:02:46,331] Trial 34 pruned. \n"
     ]
    },
    {
     "name": "stderr",
     "output_type": "stream",
     "text": [
      "[I 2025-05-05 12:05:58,406] Trial 35 pruned. \n"
     ]
    },
    {
     "name": "stderr",
     "output_type": "stream",
     "text": [
      "[I 2025-05-05 12:06:01,539] Trial 36 pruned. \n"
     ]
    },
    {
     "name": "stderr",
     "output_type": "stream",
     "text": [
      "[I 2025-05-05 12:06:18,787] Trial 37 pruned. \n"
     ]
    },
    {
     "name": "stderr",
     "output_type": "stream",
     "text": [
      "[I 2025-05-05 12:06:33,191] Trial 38 pruned. \n"
     ]
    },
    {
     "name": "stderr",
     "output_type": "stream",
     "text": [
      "[I 2025-05-05 12:06:41,564] Trial 39 pruned. \n"
     ]
    },
    {
     "name": "stderr",
     "output_type": "stream",
     "text": [
      "[I 2025-05-05 12:06:45,640] Trial 40 pruned. \n"
     ]
    },
    {
     "name": "stderr",
     "output_type": "stream",
     "text": [
      "[I 2025-05-05 12:07:00,657] Trial 41 pruned. \n"
     ]
    },
    {
     "name": "stderr",
     "output_type": "stream",
     "text": [
      "[I 2025-05-05 12:07:11,251] Trial 42 pruned. \n"
     ]
    },
    {
     "name": "stderr",
     "output_type": "stream",
     "text": [
      "[I 2025-05-05 12:07:16,016] Trial 43 pruned. \n"
     ]
    },
    {
     "name": "stderr",
     "output_type": "stream",
     "text": [
      "[I 2025-05-05 12:18:15,444] Trial 44 finished with value: 0.6562926494158231 and parameters: {'hidden_dim': 191, 'n_steps': 10, 'dropout_rate': 0.28989254695766786, 'lr': 4.909176207083491e-06, 'batch_size': 32, 'n_hidden_layers': 2, 'lr_scheduler': 'ExponentialLR', 'activation': 'RELU', 'gamma_exp': 0.6733423747427972}. Best is trial 1 with value: 0.5358830936826192.\n"
     ]
    },
    {
     "name": "stderr",
     "output_type": "stream",
     "text": [
      "[I 2025-05-05 12:28:08,659] Trial 45 finished with value: 0.6605230535452182 and parameters: {'hidden_dim': 192, 'n_steps': 9, 'dropout_rate': 0.18941601727472177, 'lr': 4.817818889735254e-06, 'batch_size': 32, 'n_hidden_layers': 2, 'lr_scheduler': 'ExponentialLR', 'activation': 'RELU', 'gamma_exp': 0.6705649673905887}. Best is trial 1 with value: 0.5358830936826192.\n"
     ]
    },
    {
     "name": "stderr",
     "output_type": "stream",
     "text": [
      "[I 2025-05-05 12:28:16,228] Trial 46 pruned. \n"
     ]
    },
    {
     "name": "stderr",
     "output_type": "stream",
     "text": [
      "[I 2025-05-05 12:28:25,587] Trial 47 pruned. \n"
     ]
    },
    {
     "name": "stderr",
     "output_type": "stream",
     "text": [
      "[I 2025-05-05 12:28:28,123] Trial 48 pruned. \n"
     ]
    },
    {
     "name": "stderr",
     "output_type": "stream",
     "text": [
      "[I 2025-05-05 12:28:36,366] Trial 49 pruned. \n"
     ]
    },
    {
     "name": "stderr",
     "output_type": "stream",
     "text": [
      "[I 2025-05-05 12:28:47,195] Trial 50 pruned. \n"
     ]
    },
    {
     "name": "stderr",
     "output_type": "stream",
     "text": [
      "[I 2025-05-05 12:29:04,551] Trial 51 pruned. \n"
     ]
    },
    {
     "name": "stderr",
     "output_type": "stream",
     "text": [
      "[I 2025-05-05 12:40:37,724] Trial 52 finished with value: 0.661992161319806 and parameters: {'hidden_dim': 206, 'n_steps': 7, 'dropout_rate': 0.13972537027660414, 'lr': 4.5902147675813945e-06, 'batch_size': 32, 'n_hidden_layers': 3, 'lr_scheduler': 'ExponentialLR', 'activation': 'LeakyRELU', 'gamma_exp': 0.6875116001025106}. Best is trial 1 with value: 0.5358830936826192.\n"
     ]
    },
    {
     "name": "stderr",
     "output_type": "stream",
     "text": [
      "[I 2025-05-05 12:40:46,912] Trial 53 pruned. \n"
     ]
    },
    {
     "name": "stderr",
     "output_type": "stream",
     "text": [
      "[I 2025-05-05 12:40:58,395] Trial 54 pruned. \n"
     ]
    },
    {
     "name": "stderr",
     "output_type": "stream",
     "text": [
      "[I 2025-05-05 12:41:15,600] Trial 55 pruned. \n"
     ]
    },
    {
     "name": "stderr",
     "output_type": "stream",
     "text": [
      "[I 2025-05-05 12:41:21,064] Trial 56 pruned. \n"
     ]
    },
    {
     "name": "stderr",
     "output_type": "stream",
     "text": [
      "[I 2025-05-05 12:41:39,727] Trial 57 pruned. \n"
     ]
    },
    {
     "name": "stderr",
     "output_type": "stream",
     "text": [
      "[I 2025-05-05 12:41:41,506] Trial 58 pruned. \n"
     ]
    },
    {
     "name": "stderr",
     "output_type": "stream",
     "text": [
      "[I 2025-05-05 12:41:51,449] Trial 59 pruned. \n"
     ]
    },
    {
     "name": "stderr",
     "output_type": "stream",
     "text": [
      "[I 2025-05-05 12:42:08,758] Trial 60 pruned. \n"
     ]
    },
    {
     "name": "stderr",
     "output_type": "stream",
     "text": [
      "[I 2025-05-05 12:42:15,593] Trial 61 pruned. \n"
     ]
    },
    {
     "name": "stderr",
     "output_type": "stream",
     "text": [
      "[I 2025-05-05 12:42:27,340] Trial 62 pruned. \n"
     ]
    },
    {
     "name": "stderr",
     "output_type": "stream",
     "text": [
      "[I 2025-05-05 12:42:35,064] Trial 63 pruned. \n"
     ]
    },
    {
     "name": "stderr",
     "output_type": "stream",
     "text": [
      "[I 2025-05-05 12:42:42,806] Trial 64 pruned. \n"
     ]
    },
    {
     "name": "stderr",
     "output_type": "stream",
     "text": [
      "[I 2025-05-05 12:58:12,827] Trial 65 finished with value: 0.5922461765316817 and parameters: {'hidden_dim': 189, 'n_steps': 10, 'dropout_rate': 0.09704158880523936, 'lr': 3.3119030977782654e-06, 'batch_size': 32, 'n_hidden_layers': 3, 'lr_scheduler': 'StepLR', 'activation': 'LeakyRELU', 'step_size': 4, 'gamma_step': 0.8072743965951382}. Best is trial 1 with value: 0.5358830936826192.\n"
     ]
    },
    {
     "name": "stderr",
     "output_type": "stream",
     "text": [
      "[I 2025-05-05 13:14:00,039] Trial 66 finished with value: 0.7064713119314268 and parameters: {'hidden_dim': 189, 'n_steps': 10, 'dropout_rate': 0.09547181422211024, 'lr': 3.186032789149392e-05, 'batch_size': 32, 'n_hidden_layers': 3, 'lr_scheduler': 'StepLR', 'activation': 'LeakyRELU', 'step_size': 3, 'gamma_step': 0.8035106073851466}. Best is trial 1 with value: 0.5358830936826192.\n"
     ]
    },
    {
     "name": "stderr",
     "output_type": "stream",
     "text": [
      "[I 2025-05-05 13:25:56,361] Trial 67 finished with value: 0.6375520355426348 and parameters: {'hidden_dim': 198, 'n_steps': 11, 'dropout_rate': 0.33100907947053465, 'lr': 1.3331453099163803e-06, 'batch_size': 32, 'n_hidden_layers': 2, 'lr_scheduler': 'StepLR', 'activation': 'LeakyRELU', 'step_size': 4, 'gamma_step': 0.833184779163886}. Best is trial 1 with value: 0.5358830936826192.\n"
     ]
    },
    {
     "name": "stderr",
     "output_type": "stream",
     "text": [
      "[I 2025-05-05 13:26:06,381] Trial 68 pruned. \n"
     ]
    },
    {
     "name": "stderr",
     "output_type": "stream",
     "text": [
      "[I 2025-05-05 13:40:59,490] Trial 69 finished with value: 0.6417501935592065 and parameters: {'hidden_dim': 198, 'n_steps': 14, 'dropout_rate': 0.3499123373339173, 'lr': 1.8647941551947926e-06, 'batch_size': 32, 'n_hidden_layers': 2, 'lr_scheduler': 'StepLR', 'activation': 'LeakyRELU', 'step_size': 2, 'gamma_step': 0.8279382746322119}. Best is trial 1 with value: 0.5358830936826192.\n"
     ]
    },
    {
     "name": "stderr",
     "output_type": "stream",
     "text": [
      "[I 2025-05-05 13:41:02,759] Trial 70 pruned. \n"
     ]
    },
    {
     "name": "stderr",
     "output_type": "stream",
     "text": [
      "[I 2025-05-05 13:41:18,352] Trial 71 pruned. \n"
     ]
    },
    {
     "name": "stderr",
     "output_type": "stream",
     "text": [
      "[I 2025-05-05 13:52:46,284] Trial 72 finished with value: 0.6143413827969477 and parameters: {'hidden_dim': 193, 'n_steps': 11, 'dropout_rate': 0.3030593081012825, 'lr': 2.280590211282774e-06, 'batch_size': 32, 'n_hidden_layers': 2, 'lr_scheduler': 'StepLR', 'activation': 'LeakyRELU', 'step_size': 2, 'gamma_step': 0.8230446806733722}. Best is trial 1 with value: 0.5358830936826192.\n"
     ]
    },
    {
     "name": "stderr",
     "output_type": "stream",
     "text": [
      "[I 2025-05-05 13:52:55,926] Trial 73 pruned. \n"
     ]
    },
    {
     "name": "stderr",
     "output_type": "stream",
     "text": [
      "[I 2025-05-05 13:53:05,227] Trial 74 pruned. \n"
     ]
    },
    {
     "name": "stderr",
     "output_type": "stream",
     "text": [
      "[I 2025-05-05 13:53:33,746] Trial 75 pruned. \n"
     ]
    },
    {
     "name": "stderr",
     "output_type": "stream",
     "text": [
      "[I 2025-05-05 13:53:46,296] Trial 76 pruned. \n"
     ]
    },
    {
     "name": "stderr",
     "output_type": "stream",
     "text": [
      "[I 2025-05-05 13:54:07,135] Trial 77 pruned. \n"
     ]
    },
    {
     "name": "stderr",
     "output_type": "stream",
     "text": [
      "[I 2025-05-05 13:54:17,215] Trial 78 pruned. \n"
     ]
    },
    {
     "name": "stderr",
     "output_type": "stream",
     "text": [
      "[I 2025-05-05 13:54:25,610] Trial 79 pruned. \n"
     ]
    },
    {
     "name": "stdout",
     "output_type": "stream",
     "text": [
      "Best hyperparameters are {'hidden_dim': 153, 'n_steps': 6, 'dropout_rate': 0.13296436629609715, 'lr': 1.6480446427978994e-05, 'batch_size': 32, 'n_hidden_layers': 3, 'lr_scheduler': 'StepLR', 'activation': 'LeakyRELU', 'step_size': 6, 'gamma_step': 0.8113316730507425}.\n",
      "\n",
      "Trial #1\n",
      "  Value (Objective): 0.5358830936826192\n",
      "  Params: {'hidden_dim': 153, 'n_steps': 6, 'dropout_rate': 0.13296436629609715, 'lr': 1.6480446427978994e-05, 'batch_size': 32, 'n_hidden_layers': 3, 'lr_scheduler': 'StepLR', 'activation': 'LeakyRELU', 'step_size': 6, 'gamma_step': 0.8113316730507425}\n",
      "\n",
      "Trial #2\n",
      "  Value (Objective): 0.5922461765316817\n",
      "  Params: {'hidden_dim': 189, 'n_steps': 10, 'dropout_rate': 0.09704158880523936, 'lr': 3.3119030977782654e-06, 'batch_size': 32, 'n_hidden_layers': 3, 'lr_scheduler': 'StepLR', 'activation': 'LeakyRELU', 'step_size': 4, 'gamma_step': 0.8072743965951382}\n",
      "\n",
      "Trial #3\n",
      "  Value (Objective): 0.6143413827969477\n",
      "  Params: {'hidden_dim': 193, 'n_steps': 11, 'dropout_rate': 0.3030593081012825, 'lr': 2.280590211282774e-06, 'batch_size': 32, 'n_hidden_layers': 2, 'lr_scheduler': 'StepLR', 'activation': 'LeakyRELU', 'step_size': 2, 'gamma_step': 0.8230446806733722}\n",
      "\n",
      "Trial #4\n",
      "  Value (Objective): 0.6375520355426348\n",
      "  Params: {'hidden_dim': 198, 'n_steps': 11, 'dropout_rate': 0.33100907947053465, 'lr': 1.3331453099163803e-06, 'batch_size': 32, 'n_hidden_layers': 2, 'lr_scheduler': 'StepLR', 'activation': 'LeakyRELU', 'step_size': 4, 'gamma_step': 0.833184779163886}\n",
      "\n",
      "Trial #5\n",
      "  Value (Objective): 0.6417501935592065\n",
      "  Params: {'hidden_dim': 198, 'n_steps': 14, 'dropout_rate': 0.3499123373339173, 'lr': 1.8647941551947926e-06, 'batch_size': 32, 'n_hidden_layers': 2, 'lr_scheduler': 'StepLR', 'activation': 'LeakyRELU', 'step_size': 2, 'gamma_step': 0.8279382746322119}\n",
      "\n",
      "Trial #6\n",
      "  Value (Objective): 0.6562926494158231\n",
      "  Params: {'hidden_dim': 191, 'n_steps': 10, 'dropout_rate': 0.28989254695766786, 'lr': 4.909176207083491e-06, 'batch_size': 32, 'n_hidden_layers': 2, 'lr_scheduler': 'ExponentialLR', 'activation': 'RELU', 'gamma_exp': 0.6733423747427972}\n",
      "\n",
      "Trial #7\n",
      "  Value (Objective): 0.6577743796201853\n",
      "  Params: {'hidden_dim': 176, 'n_steps': 9, 'dropout_rate': 0.1572988508234794, 'lr': 7.915615088525045e-06, 'batch_size': 32, 'n_hidden_layers': 5, 'lr_scheduler': 'StepLR', 'activation': 'RELU', 'step_size': 8, 'gamma_step': 0.822244022973048}\n",
      "\n",
      "Trial #8\n",
      "  Value (Objective): 0.6582090430534803\n",
      "  Params: {'hidden_dim': 165, 'n_steps': 20, 'dropout_rate': 0.3721493586297726, 'lr': 0.0002481040974867811, 'batch_size': 32, 'n_hidden_layers': 2, 'lr_scheduler': 'StepLR', 'activation': 'RELU', 'step_size': 10, 'gamma_step': 0.8198396753440759}\n",
      "\n",
      "Trial #9\n",
      "  Value (Objective): 0.6605230535452182\n",
      "  Params: {'hidden_dim': 192, 'n_steps': 9, 'dropout_rate': 0.18941601727472177, 'lr': 4.817818889735254e-06, 'batch_size': 32, 'n_hidden_layers': 2, 'lr_scheduler': 'ExponentialLR', 'activation': 'RELU', 'gamma_exp': 0.6705649673905887}\n",
      "\n",
      "Trial #10\n",
      "  Value (Objective): 0.661992161319806\n",
      "  Params: {'hidden_dim': 206, 'n_steps': 7, 'dropout_rate': 0.13972537027660414, 'lr': 4.5902147675813945e-06, 'batch_size': 32, 'n_hidden_layers': 3, 'lr_scheduler': 'ExponentialLR', 'activation': 'LeakyRELU', 'gamma_exp': 0.6875116001025106}\n",
      "Hyperparameter optimization done.\n"
     ]
    },
    {
     "name": "stderr",
     "output_type": "stream",
     "text": [
      "/tmp/ipykernel_584609/420339983.py:210: FutureWarning: `torch.cuda.amp.GradScaler(args...)` is deprecated. Please use `torch.amp.GradScaler('cuda', args...)` instead.\n",
      "  scaler = GradScaler()       # initializing the gradient scaler\n",
      "/tmp/ipykernel_584609/420339983.py:220: FutureWarning: `torch.cuda.amp.autocast(args...)` is deprecated. Please use `torch.amp.autocast('cuda', args...)` instead.\n",
      "  with autocast():    # automatically selects the appropriate floating-point precision (to optimize performance - speeds up training, reduces memory usage)\n",
      "/home/ubuntu/miniconda3/envs/gnn_project/lib/python3.10/site-packages/dgl/backend/pytorch/sparse.py:157: FutureWarning: `torch.cuda.amp.autocast_mode._cast(value, dtype)` is deprecated. Please use `torch.amp.autocast_mode._cast(value, 'cuda', dtype)` instead.\n",
      "  return th.cuda.amp.autocast_mode._cast(\n",
      "/home/ubuntu/miniconda3/envs/gnn_project/lib/python3.10/site-packages/dgl/backend/pytorch/sparse.py:148: FutureWarning: `torch.cuda.amp.autocast(args...)` is deprecated. Please use `torch.amp.autocast('cuda', args...)` instead.\n",
      "  return th.cuda.amp.autocast(enabled=False)\n"
     ]
    },
    {
     "name": "stdout",
     "output_type": "stream",
     "text": [
      "\n",
      "Dataloaders done.\n",
      "Retraining using best parameters...\n",
      "Number of available node features (in_feats): 74\n"
     ]
    },
    {
     "name": "stderr",
     "output_type": "stream",
     "text": [
      "/tmp/ipykernel_584609/420339983.py:249: FutureWarning: `torch.cuda.amp.autocast(args...)` is deprecated. Please use `torch.amp.autocast('cuda', args...)` instead.\n",
      "  with autocast():    # automatically selects the appropriate floating-point precision (to optimize performance - speeds up training, reduces memory usage)\n"
     ]
    },
    {
     "name": "stdout",
     "output_type": "stream",
     "text": [
      "Epoch 1/1000 Train loss: 0.6759 Val loss: 0.6790 Val accuracy: 85.82% MCC: -0.007580247059846697\n"
     ]
    },
    {
     "name": "stdout",
     "output_type": "stream",
     "text": [
      "Epoch 5/1000 Train loss: 0.5865 Val loss: 0.6820 Val accuracy: 88.66% MCC: 0.09389856103371493\n"
     ]
    },
    {
     "name": "stdout",
     "output_type": "stream",
     "text": [
      "Epoch 10/1000 Train loss: 0.5237 Val loss: 0.6546 Val accuracy: 85.70% MCC: 0.1677150835680656\n"
     ]
    },
    {
     "name": "stdout",
     "output_type": "stream",
     "text": [
      "Epoch 15/1000 Train loss: 0.4938 Val loss: 0.6326 Val accuracy: 76.94% MCC: 0.15295887860271712\n"
     ]
    },
    {
     "name": "stdout",
     "output_type": "stream",
     "text": [
      "Epoch 20/1000 Train loss: 0.4470 Val loss: 0.6153 Val accuracy: 89.52% MCC: 0.20000487554102223\n"
     ]
    },
    {
     "name": "stdout",
     "output_type": "stream",
     "text": [
      "Epoch 25/1000 Train loss: 0.4165 Val loss: 0.6057 Val accuracy: 82.74% MCC: 0.1697752418930486\n"
     ]
    },
    {
     "name": "stdout",
     "output_type": "stream",
     "text": [
      "Epoch 30/1000 Train loss: 0.4357 Val loss: 0.5886 Val accuracy: 87.92% MCC: 0.19434634879395377\n"
     ]
    },
    {
     "name": "stdout",
     "output_type": "stream",
     "text": [
      "Epoch 35/1000 Train loss: 0.3998 Val loss: 0.5550 Val accuracy: 80.52% MCC: 0.19409994356484433\n"
     ]
    },
    {
     "name": "stdout",
     "output_type": "stream",
     "text": [
      "Epoch 40/1000 Train loss: 0.3711 Val loss: 0.5846 Val accuracy: 85.33% MCC: 0.179836886311337\n"
     ]
    },
    {
     "name": "stdout",
     "output_type": "stream",
     "text": [
      "Epoch 45/1000 Train loss: 0.3595 Val loss: 0.5816 Val accuracy: 88.78% MCC: 0.24080683841634204\n"
     ]
    },
    {
     "name": "stdout",
     "output_type": "stream",
     "text": [
      "Epoch 50/1000 Train loss: 0.3464 Val loss: 0.6135 Val accuracy: 84.46% MCC: 0.18646029386363913\n"
     ]
    },
    {
     "name": "stdout",
     "output_type": "stream",
     "text": [
      "Epoch 55/1000 Train loss: 0.3393 Val loss: 0.6024 Val accuracy: 87.18% MCC: 0.167862516748091\n"
     ]
    },
    {
     "name": "stdout",
     "output_type": "stream",
     "text": [
      "Epoch 60/1000 Train loss: 0.3425 Val loss: 0.5371 Val accuracy: 86.81% MCC: 0.24508145744472518\n"
     ]
    },
    {
     "name": "stdout",
     "output_type": "stream",
     "text": [
      "Epoch 65/1000 Train loss: 0.3375 Val loss: 0.5771 Val accuracy: 87.79% MCC: 0.20961729257309258\n"
     ]
    },
    {
     "name": "stdout",
     "output_type": "stream",
     "text": [
      "Epoch 70/1000 Train loss: 0.3053 Val loss: 0.5895 Val accuracy: 89.40% MCC: 0.2159810977263213\n"
     ]
    },
    {
     "name": "stdout",
     "output_type": "stream",
     "text": [
      "Epoch 75/1000 Train loss: 0.3165 Val loss: 0.6291 Val accuracy: 86.68% MCC: 0.1953444145139168\n"
     ]
    },
    {
     "name": "stdout",
     "output_type": "stream",
     "text": [
      "Epoch 80/1000 Train loss: 0.3085 Val loss: 0.5810 Val accuracy: 86.56% MCC: 0.21007675631614336\n"
     ]
    },
    {
     "name": "stdout",
     "output_type": "stream",
     "text": [
      "Epoch 85/1000 Train loss: 0.3213 Val loss: 0.5729 Val accuracy: 86.07% MCC: 0.18805906230625177\n"
     ]
    },
    {
     "name": "stdout",
     "output_type": "stream",
     "text": [
      "Epoch 90/1000 Train loss: 0.3104 Val loss: 0.5967 Val accuracy: 86.68% MCC: 0.22764303328057373\n"
     ]
    },
    {
     "name": "stdout",
     "output_type": "stream",
     "text": [
      "Epoch 95/1000 Train loss: 0.3102 Val loss: 0.5359 Val accuracy: 86.93% MCC: 0.24672307668596286\n"
     ]
    },
    {
     "name": "stdout",
     "output_type": "stream",
     "text": [
      "Epoch 100/1000 Train loss: 0.3096 Val loss: 0.6049 Val accuracy: 87.05% MCC: 0.21631298316645517\n"
     ]
    },
    {
     "name": "stdout",
     "output_type": "stream",
     "text": [
      "Epoch 105/1000 Train loss: 0.3000 Val loss: 0.5563 Val accuracy: 87.05% MCC: 0.21631298316645517\n"
     ]
    },
    {
     "name": "stdout",
     "output_type": "stream",
     "text": [
      "Epoch 110/1000 Train loss: 0.2998 Val loss: 0.6318 Val accuracy: 87.67% MCC: 0.2079498256652588\n"
     ]
    },
    {
     "name": "stdout",
     "output_type": "stream",
     "text": [
      "Epoch 115/1000 Train loss: 0.2987 Val loss: 0.6043 Val accuracy: 87.92% MCC: 0.22799348012384268\n"
     ]
    },
    {
     "name": "stdout",
     "output_type": "stream",
     "text": [
      "Epoch 120/1000 Train loss: 0.3041 Val loss: 0.5509 Val accuracy: 88.29% MCC: 0.233334201477519\n"
     ]
    },
    {
     "name": "stdout",
     "output_type": "stream",
     "text": [
      "Epoch 125/1000 Train loss: 0.3162 Val loss: 0.5855 Val accuracy: 85.94% MCC: 0.2184908049813951\n"
     ]
    },
    {
     "name": "stdout",
     "output_type": "stream",
     "text": [
      "Epoch 130/1000 Train loss: 0.3098 Val loss: 0.6135 Val accuracy: 87.05% MCC: 0.21631298316645517\n"
     ]
    },
    {
     "name": "stdout",
     "output_type": "stream",
     "text": [
      "Epoch 135/1000 Train loss: 0.3091 Val loss: 0.5551 Val accuracy: 87.05% MCC: 0.21631298316645517\n"
     ]
    },
    {
     "name": "stdout",
     "output_type": "stream",
     "text": [
      "Epoch 140/1000 Train loss: 0.3127 Val loss: 0.5434 Val accuracy: 85.33% MCC: 0.19567403864965124\n"
     ]
    },
    {
     "name": "stdout",
     "output_type": "stream",
     "text": [
      "Epoch 145/1000 Train loss: 0.3209 Val loss: 0.6025 Val accuracy: 87.05% MCC: 0.1999258370579504\n"
     ]
    },
    {
     "name": "stdout",
     "output_type": "stream",
     "text": [
      "Epoch 150/1000 Train loss: 0.3039 Val loss: 0.6147 Val accuracy: 86.19% MCC: 0.2055869846605621\n"
     ]
    },
    {
     "name": "stdout",
     "output_type": "stream",
     "text": [
      "Epoch 155/1000 Train loss: 0.3145 Val loss: 0.5587 Val accuracy: 86.56% MCC: 0.22607399239856737\n"
     ]
    },
    {
     "name": "stdout",
     "output_type": "stream",
     "text": [
      "Epoch 160/1000 Train loss: 0.3046 Val loss: 0.5350 Val accuracy: 86.44% MCC: 0.24026922055892538\n"
     ]
    },
    {
     "name": "stdout",
     "output_type": "stream",
     "text": [
      "Epoch 165/1000 Train loss: 0.3078 Val loss: 0.5598 Val accuracy: 87.05% MCC: 0.23246220729426034\n"
     ]
    },
    {
     "name": "stdout",
     "output_type": "stream",
     "text": [
      "Epoch 170/1000 Train loss: 0.2997 Val loss: 0.6259 Val accuracy: 87.05% MCC: 0.1999258370579504\n"
     ]
    },
    {
     "name": "stdout",
     "output_type": "stream",
     "text": [
      "Epoch 175/1000 Train loss: 0.3039 Val loss: 0.5965 Val accuracy: 88.04% MCC: 0.22974988663713547\n"
     ]
    },
    {
     "name": "stdout",
     "output_type": "stream",
     "text": [
      "Epoch 180/1000 Train loss: 0.3061 Val loss: 0.5949 Val accuracy: 87.30% MCC: 0.20307481487070303\n"
     ]
    },
    {
     "name": "stdout",
     "output_type": "stream",
     "text": [
      "Epoch 185/1000 Train loss: 0.2961 Val loss: 0.5972 Val accuracy: 86.44% MCC: 0.1923797335165046\n"
     ]
    },
    {
     "name": "stdout",
     "output_type": "stream",
     "text": [
      "Epoch 190/1000 Train loss: 0.2847 Val loss: 0.5742 Val accuracy: 86.31% MCC: 0.20706652735240957\n"
     ]
    },
    {
     "name": "stdout",
     "output_type": "stream",
     "text": [
      "Epoch 195/1000 Train loss: 0.3145 Val loss: 0.5518 Val accuracy: 87.92% MCC: 0.2444192999052692\n"
     ]
    },
    {
     "name": "stdout",
     "output_type": "stream",
     "text": [
      "Epoch 200/1000 Train loss: 0.2956 Val loss: 0.5755 Val accuracy: 87.92% MCC: 0.22799348012384268\n"
     ]
    },
    {
     "name": "stdout",
     "output_type": "stream",
     "text": [
      "Epoch 205/1000 Train loss: 0.2983 Val loss: 0.5860 Val accuracy: 86.56% MCC: 0.21007675631614336\n"
     ]
    },
    {
     "name": "stdout",
     "output_type": "stream",
     "text": [
      "Epoch 210/1000 Train loss: 0.3159 Val loss: 0.5601 Val accuracy: 87.05% MCC: 0.21631298316645517\n"
     ]
    },
    {
     "name": "stdout",
     "output_type": "stream",
     "text": [
      "Epoch 215/1000 Train loss: 0.3095 Val loss: 0.5916 Val accuracy: 86.56% MCC: 0.1938533909691231\n"
     ]
    },
    {
     "name": "stdout",
     "output_type": "stream",
     "text": [
      "Epoch 220/1000 Train loss: 0.3069 Val loss: 0.5445 Val accuracy: 87.18% MCC: 0.21791947820872543\n"
     ]
    },
    {
     "name": "stdout",
     "output_type": "stream",
     "text": [
      "Epoch 225/1000 Train loss: 0.2898 Val loss: 0.6152 Val accuracy: 86.56% MCC: 0.17739344254571304\n"
     ]
    },
    {
     "name": "stdout",
     "output_type": "stream",
     "text": [
      "Epoch 230/1000 Train loss: 0.2968 Val loss: 0.5533 Val accuracy: 87.79% MCC: 0.1927042417570106\n"
     ]
    },
    {
     "name": "stdout",
     "output_type": "stream",
     "text": [
      "Epoch 235/1000 Train loss: 0.3085 Val loss: 0.5803 Val accuracy: 86.44% MCC: 0.1923797335165046\n"
     ]
    },
    {
     "name": "stdout",
     "output_type": "stream",
     "text": [
      "Epoch 240/1000 Train loss: 0.2857 Val loss: 0.5828 Val accuracy: 86.93% MCC: 0.2147259070721241\n"
     ]
    },
    {
     "name": "stdout",
     "output_type": "stream",
     "text": [
      "Early stopping triggered at epoch 242\n",
      "The best epoch was 162\n",
      "Training done.\n",
      "Final training...\n"
     ]
    },
    {
     "name": "stdout",
     "output_type": "stream",
     "text": [
      "Training done.\n",
      "Evaluating on test_dataset\n"
     ]
    },
    {
     "data": {
      "image/png": "[encoded data removed]",
      "text/plain": [
       "<Figure size 800x600 with 1 Axes>"
      ]
     },
     "metadata": {},
     "output_type": "display_data"
    },
    {
     "name": "stdout",
     "output_type": "stream",
     "text": [
      "Test Loss: 0.3788184838162528\n",
      "Accuracy: 0.9143518518518519, Precision: 0.9896907216494846, Recall: 0.920863309352518, F1-Score: 0.9540372670807453, MCC: 0.39598594089442324, ROC-AUC: 0.9025979216626699\n",
      "Evaluation done.\n"
     ]
    },
    {
     "data": {
      "text/plain": [
       "<Figure size 640x480 with 0 Axes>"
      ]
     },
     "metadata": {},
     "output_type": "display_data"
    },
    {
     "data": {
      "image/png": "[encoded data removed]",
      "text/plain": [
       "<Figure size 640x480 with 2 Axes>"
      ]
     },
     "metadata": {},
     "output_type": "display_data"
    }
   ],
   "source": [
    "import math\n",
    "import os\n",
    "#import subprocess  # ???\n",
    "os.environ[\"TORCHDYNAMO_DISABLE\"] = \"1\"\n",
    "os.environ[\"PYTORCH_CUDA_ALLOC_CONF\"] = \"expandable_segments:True\"\n",
    "os.environ[\"CUBLAS_WORKSPACE_CONFIG\"] = \":4096:8\"\n",
    "\n",
    "\n",
    "#env = os.environ.copy()\n",
    "#os.environ[\"TORCHDYNAMO_DISABLE\"] = \"1\"\n",
    "#os.environ[\"PYTORCH_CUDA_ALLOC_CONF\"] = \"expandable_segments:True\"\n",
    "#env[\"CUBLAS_WORKSPACE_CONFIG\"] = \":4096:8\"\n",
    "#\n",
    "#subprocess.run([\"python\", \"GGNN_gama.ipynb\"], env=env)\n",
    "\n",
    "\n",
    "import torch\n",
    "torch.use_deterministic_algorithms(True)\n",
    "torch.cuda.empty_cache()\n",
    "import torch.nn as nn\n",
    "import torch.optim as optim\n",
    "from torch.cuda.amp import GradScaler, autocast\n",
    "import torch.nn.functional as F\n",
    "from torch.optim.lr_scheduler import ExponentialLR, StepLR, ReduceLROnPlateau, CosineAnnealingLR\n",
    "torch._dynamo.config.suppress_errors = True\n",
    "import random\n",
    "\n",
    "import json\n",
    "import sys\n",
    "\n",
    "import dgl\n",
    "from dgl.nn import GatedGraphConv, GlobalAttentionPooling\n",
    "from dgl.dataloading import GraphDataLoader\n",
    "import numpy as np\n",
    "\n",
    "import matplotlib.pyplot as plt\n",
    "\n",
    "from sklearn.metrics import *\n",
    "from sklearn.model_selection import train_test_split\n",
    "\n",
    "import pandas as pd\n",
    "\n",
    "import optuna\n",
    "from optuna.pruners import MedianPruner\n",
    "\n",
    "# ---------------------------------------------------------\n",
    "# Version, where: \n",
    "#   - MCC is used in Early stopping instead of Accuracy\n",
    "# ---------------------------------------------------------\n",
    "class GGNN(nn.Module):\n",
    "    def __init__(\n",
    "        self, \n",
    "        in_feats,   # input feature dimensions (anotation size)\n",
    "        out_feats,  # the same thing as hidden_dim - number of dimentions of hi+1\n",
    "        n_steps,    # number of recurrent steps (in case of GRU mechanism (recurence))\n",
    "        n_etypes,   # number of edge types\n",
    "        n_cls=2,    # number of classes\n",
    "        bias=True,  # whether to add learnable bias to the output\n",
    "        n_hidden_layers=2,    # the number of hidden layers the neural network should have excluding the dropout and final layers \n",
    "        dropout_rate=0.5, # the dropout rate \n",
    "        activation='RELU'\n",
    "        ):\n",
    "        super(GGNN, self).__init__()\n",
    "        self.n_hidden_layers = n_hidden_layers\n",
    "        self.dropout = nn.Dropout(dropout_rate) # dropout layer\n",
    "        self.in_feats = in_feats\n",
    "        self.out_feats = out_feats\n",
    "        self.layers = nn.ModuleList()\n",
    "        self.activation = activation\n",
    "        for i in range(n_hidden_layers):\n",
    "            if i == 0:\n",
    "                set_in_feats = self.in_feats\n",
    "            else:\n",
    "                set_in_feats = self.out_feats\n",
    "            layer = GatedGraphConv(\n",
    "                in_feats=set_in_feats,\n",
    "                out_feats=out_feats,\n",
    "                n_steps=n_steps,\n",
    "                n_etypes=n_etypes\n",
    "            )\n",
    "            self.layers.append(layer)\n",
    "        pooling_gate_nn = nn.Linear(self.out_feats, 1)\n",
    "        self.pooling = GlobalAttentionPooling(pooling_gate_nn)           # global attention pooling (attention mechanism)\n",
    "            # --> aggregating the features into a single graph-level representation\n",
    "            # gate mechanism determines the importance of each node\n",
    "        self.output_layer = nn.Linear(self.out_feats, n_cls)\n",
    "        self.loss_fn = nn.CrossEntropyLoss()\n",
    "    def forward(self, graph, labels):\n",
    "        #feat = self.dropout(labels)\n",
    "        if (self.activation == 'RELU'):\n",
    "            h = F.relu(self.layers[0](graph, labels))\n",
    "        elif (self.activation == 'LeakyRELU'):\n",
    "            h = F.leaky_relu(self.layers[0](graph, labels), negative_slope=0.01)\n",
    "        #h = F.relu(self.layers[0](graph, labels))\n",
    "        h = self.dropout(h)\n",
    "        for i in range(self.n_hidden_layers):\n",
    "            # print(f\"SHAPE OF h IS: {graph.ndata['h'].size()}\")\n",
    "            # print(f\"NUM NODES: {graph.num_nodes()} \")\n",
    "            if i == 0:\n",
    "                continue\n",
    "            else:\n",
    "                if (self.activation == 'RELU'):\n",
    "                    h = F.relu(self.layers[i](graph, h))\n",
    "                elif (self.activation == 'LeakyRELU'):\n",
    "                    h = F.leaky_relu(self.layers[i](graph, h), negative_slope=0.01)\n",
    "                if i < self.n_hidden_layers - 1:\n",
    "                    h = self.dropout(h)\n",
    "        h = self.pooling(graph, h)\n",
    "        h = self.output_layer(h)\n",
    "        return h\n",
    "    def reset_parameters(self):\n",
    "        for layer in self.children():\n",
    "            if hasattr(layer, 'reset_parameters'):\n",
    "                layer.reset_parameters()\n",
    "    \n",
    "class EarlyStopping():\n",
    "    # implementing early stopping mechanism, but there is no printing method implemented\n",
    "    \"\"\"Early stops the training if neither validation loss nor validation\n",
    "    accuracy improves after their respective patience levels.\n",
    "\n",
    "    Parameters\n",
    "    ----------\n",
    "    patience_loss : int\n",
    "        How long to wait after last time validation loss improved.\n",
    "    patience_accuracy : int\n",
    "        How long to wait after last time validation accuracy improved.\n",
    "    verbose : bool\n",
    "        If True, prints a message for each validation metric improvement.\n",
    "    delta_loss : float\n",
    "        Minimum change in the validation loss to qualify as an improvement.\n",
    "    delta_accuracy : float\n",
    "        Minimum change in the validation accuracy to qualify as an improvement.\n",
    "    path : str\n",
    "        The file path where the model will be saved.\n",
    "    print_freq : int\n",
    "        The frequency at which to print messages during training.\n",
    "\n",
    "        - taken from Jozef's master's thesis\n",
    "    \"\"\"\n",
    "    def __init__(\n",
    "        self,\n",
    "        patience_loss=10,\n",
    "        patience_mcc=10,\n",
    "        verbose=True,\n",
    "        delta_loss=0.001,\n",
    "        delta_mcc=0.001,\n",
    "    ):\n",
    "        self.patience_loss = patience_loss\n",
    "        self.patience_mcc = patience_mcc\n",
    "        self.verbose = verbose\n",
    "        self.loss_counter = 0\n",
    "        self.mcc_counter = 0\n",
    "        self.best_loss = np.inf\n",
    "        self.best_mcc = -1                  # stores best MCC so fa so far\n",
    "        self.early_stop = False             # bool indicating whether training should stop\n",
    "        self.delta_loss = 0.001\n",
    "        self.delta_mcc = 0.001\n",
    "        self.best_epoch = 0\n",
    "    # in this method, we are monitoring both the validation loss and accuracy\n",
    "    def __call__(self, val_loss, val_acc, val_mcc, model, epoch):   # earlier the method was called '__step__'\n",
    "        improved_loss = False\n",
    "        improved_mcc = False\n",
    "\n",
    "        if val_loss < self.best_loss - self.delta_loss:     # True only if val_loss improves beyond best_loss - delta_loss (treshold)\n",
    "            self.best_loss = val_loss                           # delta_loss is a small treshold, which ought to prevent fluctuations\n",
    "            self.loss_counter = 0                               # in the documentation implementation, there is a strict comparison without taking into account the fluctuations\n",
    "            improved_loss = True\n",
    "        else:\n",
    "            self.loss_counter += 1\n",
    "\n",
    "        if val_mcc > self.best_mcc + self.delta_mcc: # True if val_accuracy improves bexond best_accuracy + delta_accuracy (treshold)\n",
    "            self.best_mcc = val_mcc\n",
    "            self.mcc_counter = 0\n",
    "            improved_mcc = True\n",
    "        else:\n",
    "            self.mcc_counter += 1\n",
    "\n",
    "        if improved_loss or improved_mcc:              # if one of the metrics improves, we save the state as a checkpoint\n",
    "            self.save_checkpoint(model, val_loss, val_mcc, val_acc)\n",
    "            self.best_epoch = epoch\n",
    "\n",
    "        if self.loss_counter >= self.patience_loss and self.mcc_counter >= self.patience_mcc: #\n",
    "            self.early_stop = True\n",
    "            if self.verbose:\n",
    "                print(\"Early stopping triggered.\")\n",
    "\n",
    "    def save_checkpoint(self, model, val_loss, val_mcc, val_acc):   # we save the model when either the accuracy or loss improves\n",
    "        torch.save(model.state_dict(), \"ggnn_G_checkpoint.pt\")\n",
    "        if self.verbose:\n",
    "            print(f\"Checkpoint saved, mcc: {val_mcc}, loss: {val_loss}, accuracy: {val_acc}\")\n",
    "\n",
    "class Training:\n",
    "    def __init__(self, device):\n",
    "        self.device = device\n",
    "\n",
    "    def train_and_evaluate(\n",
    "        self,\n",
    "        model,\n",
    "        train_loader,\n",
    "        val_loader,\n",
    "        optimizer,\n",
    "        criterion,\n",
    "        early_stopping,\n",
    "        num_epochs,\n",
    "        # plot_curves=False,   for plotting curves\n",
    "        accumulation_steps=2,\n",
    "        scheduler=\"None\"\n",
    "    ):\n",
    "        train_losses, val_losses = [], []\n",
    "        scaler = GradScaler()       # initializing the gradient scaler\n",
    "        for epoch in range(num_epochs):\n",
    "            model.train()\n",
    "            train_loss = 0.0\n",
    "            optimizer.zero_grad     # we initialize the gradients to zero, so that the gradients from the previous batch do not accumulate\n",
    "            for batch_idx, (batched_graph, labels) in enumerate(train_loader):  # train_loader ... data loader probiding batches of data\n",
    "                batched_graph, labels = batched_graph.to(self.device), labels.to(self.device)   # self.device ... typically CPU or GPU\n",
    "                                                                                                # - by moving the data over there we ensure that both the data and the model are on the same device\n",
    "                                                                                                # that ensures no errors and consistency\n",
    "                batched_graph.ndata['h'] = batched_graph.ndata['h'].float().to(self.device) # Move node features to device - by bot TODO TODO TODO\n",
    "                with autocast():    # automatically selects the appropriate floating-point precision (to optimize performance - speeds up training, reduces memory usage)\n",
    "                    logits = model(batched_graph, batched_graph.ndata['h'].float()) # rund the model inside the autocast() context\n",
    "                    loss = criterion(logits, labels) / accumulation_steps   # we are using the gradient accumulation, because the batch size is too big to fit in memory\n",
    "                    # therefore we accumulate gradients over multiple batches before we update the weight --> loss is scaled down by the number of accumulation steps\n",
    "                scaler.scale(loss).backward()   # scaling the loss, preventing very small gradients from becoming zero (common issue in mixed precission training (autocast)\n",
    "                                                # .backward - computing the gradient using backpropagation\n",
    "                train_loss += loss.item() * accumulation_steps  # .item() ... converts loss from tensor to a python float\n",
    "                # we multiply by accumulation_steps to scale it back (we scaled down/divided earlier)\n",
    "                if (batch_idx + 1) % accumulation_steps == 0 or batch_idx == len(train_loader) - 1: # accumulating gradients for multiple batches before updatiing the model\n",
    "                # update does not happen after every batch\n",
    "                    scaler.step(optimizer)  # applying the scaled gradients to update model parameters\n",
    "                    scaler.update()         # ... updates the scaling factor for the next iteration\n",
    "                    # dynamically adjusts the scaling value to mantain stable gradients - if gradients too small, increases the scale and vice versa\n",
    "                    optimizer.zero_grad()   # initializing gradients to zero - clearing the gradients before the next batch\n",
    "\n",
    "            train_loss = train_loss/len(train_loader)   # getting the average loss per batch\n",
    "            train_losses.append(train_loss)\n",
    "\n",
    "            validation_loss = 0.0\n",
    "            validation_accuraccy = 0.0\n",
    "            num_val_correct = 0         # number of correctly predicted samples\n",
    "            num_total = 0               # total number of samples\n",
    "            TP, TN, FP, FN = 0, 0, 0, 0\n",
    "            if val_loader is not None:  # val_loader ... validation dataset, we check, whether it is not null --> then there would be no validation\n",
    "                                     # --> validation results are consistent and unaffected by randomness\n",
    "                with torch.no_grad():   # we prevent pytorch from storing gradients during validation --> saves memory and improves performance\n",
    "                    for batched_graph, labels in val_loader:        # iterates over mini-batches of validation data\n",
    "                        batched_graph, labels = batched_graph.to(self.device), labels.to(self.device)   # we move the input and labels to the correct device (CPU, GPU)\n",
    "                        batched_graph.ndata['h'] = batched_graph.ndata['h'].to(self.device) # TODO TODO TODO - chatova práce\n",
    "                        with autocast():    # automatically selects the appropriate floating-point precision (to optimize performance - speeds up training, reduces memory usage)\n",
    "                            logits = model(batched_graph, batched_graph.ndata['h'].float())\n",
    "                            # graph structure (batched_graph) is passed on to the model, node features (batched_graph.ndata['h']) serve as input data\n",
    "                                # --> The GNN layers aggregate information from neighboring nodes\n",
    "                                # final layer outputs predictions (logits) for node/graph classification\n",
    "                            loss = criterion(logits, labels)    # we compute the loss\n",
    "                        validation_loss += loss             # accumulating loss over all batches\n",
    "                        _, predicted = torch.max(logits.data, 1)    # getting the predicted class (highest probability)\n",
    "                        num_total += labels.size(0)             # updating the total number of samples\n",
    "                        num_val_correct += (predicted == labels).sum().item()   # adds up the number of correct predictions\n",
    "                        TP += ((predicted == 1) & (labels == 1)).sum().item()\n",
    "                        TN += ((predicted == 0) & (labels == 0)).sum().item()\n",
    "                        FP += ((predicted == 1) & (labels == 0)).sum().item()\n",
    "                        FN += ((predicted == 0) & (labels == 1)).sum().item()\n",
    "                    #print(f\"PRINTING THE RATES... TP: {TP}, TN: {TN}, FP: {FP}, FN: {FN}\")\n",
    "                    num = TP * TN - FP * FN\n",
    "                    den = math.sqrt((TP + FP) * (TP + FN) * (TN + FP) * (TN + FN))\n",
    "                    validation_mcc = num / den if den > 0 else 0\n",
    "                    validation_loss = validation_loss/len(val_loader)   # we get the average loss\n",
    "                    val_losses.append(validation_loss)\n",
    "                    validation_accuraccy = num_val_correct/num_total    # saving for early stopping\n",
    "                    if early_stopping:  # checking if early stopping is not None\n",
    "                        early_stopping(validation_loss, validation_accuraccy, validation_mcc, model, epoch + 1)\n",
    "                        if early_stopping.early_stop:\n",
    "                            print(f\"Early stopping triggered at epoch {epoch + 1}\")\n",
    "                            break\n",
    "                    #if (epoch + 1) % 5 == 0 or epoch == 0:\n",
    "                    if (epoch + 1) % 5 == 0 or epoch == 0:\n",
    "                        print(f'Epoch {epoch + 1}/{num_epochs} '\n",
    "                              f'Train loss: {train_loss:.4f} '\n",
    "                              f'Val loss: {validation_loss:.4f} '\n",
    "                              f'Val accuracy: {100 * validation_accuraccy:.2f}% '\n",
    "                              f'MCC: {validation_mcc}')\n",
    "                        \n",
    "\n",
    "            if isinstance(scheduler, torch.optim.lr_scheduler.ReduceLROnPlateau):\n",
    "                scheduler.step(validation_loss)\n",
    "            elif scheduler is not None:  # using the scheduler\n",
    "                scheduler.step()\n",
    "                # plotting of curves might be implemented here (TODO)\n",
    "        # there the plot curves method might be implemented (another TODO possibility)\n",
    "    def evaluate_on_test(self, model, test_loader, criterion, run_id=1):\n",
    "        model.eval()    # we put model into the evaluation model (ensuring that gradients won't be computed)\n",
    "        test_loss = 0.0\n",
    "        all_preds = []        # storing all predicted labels\n",
    "        all_labels = []       # storing all labels (true labels)\n",
    "        all_proba = []\n",
    "        with torch.no_grad():       # disabling calculations of gradient\n",
    "            for batched_graph, labels in test_loader:       # iterates over mini-batches of validation data\n",
    "                batched_graph, labels = batched_graph.to(self.device), labels.to(self.device)       # we move the input and labels to the correct device (CPU, GPU)\n",
    "                logits = model(batched_graph, batched_graph.ndata['h'].float())\n",
    "                loss = criterion(logits, labels)\n",
    "                test_loss += loss.item()\n",
    "                preds = torch.argmax(logits, dim=1)\n",
    "                all_preds.extend(preds.cpu().numpy()) # moving predictions and labels to CPU and converting them to NumPy arrays\n",
    "                #all_labels.extend(preds.cpu().numpy()) # (they get stored in all_pred ad all_labels variables)\n",
    "                all_labels.extend(labels.cpu().numpy())\n",
    "                all_proba.extend(torch.softmax(logits, dim=1)[:, 1].cpu().numpy()) \n",
    "        test_loss = test_loss/len(test_loader)  # averages the total loss over all test batches\n",
    "        # calculating evaluation metrics:\n",
    "        accuracy = accuracy_score(all_labels, all_preds)\n",
    "        precision = precision_score(all_labels, all_preds)\n",
    "        recall = recall_score(all_labels, all_preds)\n",
    "        f1 = f1_score(all_labels, all_preds)\n",
    "        roc_auc = roc_auc_score(all_labels, all_preds)\n",
    "        matthews_corr = matthews_corrcoef(all_labels, all_preds)\n",
    "        # Compute ROC curve ---------\n",
    "        fpr, tpr, _ = roc_curve(all_labels, all_proba)\n",
    "        roc_auc = auc(fpr, tpr)\n",
    "        # Plot ROC Curve --------\n",
    "        plt.figure(figsize=(8, 6))\n",
    "        plt.plot(fpr, tpr, color='blue', label=f'ROC Curve (AUC = {roc_auc:.2f})')\n",
    "        plt.plot([0, 1], [0, 1], color='gray', linestyle='--')  # Random classifier\n",
    "        plt.xlabel('False Positive Rate')\n",
    "        plt.ylabel('True Positive Rate')\n",
    "        plt.title('ROC Curve')\n",
    "        plt.legend(loc='lower right')\n",
    "        plt.show()\n",
    "        plt.savefig(\"ggnn_G_plot.png\")\n",
    "        # confusion matrix\n",
    "        conf_mat = confusion_matrix(all_labels, all_preds)\n",
    "        disp = ConfusionMatrixDisplay(confusion_matrix=conf_mat)\n",
    "        disp.plot(cmap='Blues')\n",
    "        plt.savefig(\"conf_mat.png\")\n",
    "        # possible to save here (TODO) ?\n",
    "        results_dataFrame = pd.DataFrame({\n",
    "            'Test Loss': [test_loss],\n",
    "            'Accuracy': [accuracy],\n",
    "            'Precision': [precision],\n",
    "            'Recall': [recall],\n",
    "            'F1-Score': [f1],\n",
    "            'MCC': [matthews_corr],\n",
    "            'ROC-AUC': [roc_auc]\n",
    "        })\n",
    "        results_dataFrame.to_csv('test_results_GGNN_G.csv')  # possible to adjust settings\n",
    "        print(f\"Test Loss: {test_loss}\")\n",
    "        print(f\"Accuracy: {accuracy}, Precision: {precision}, Recall: {recall}, F1-Score: {f1}, MCC: {matthews_corr}, ROC-AUC: {roc_auc}\")\n",
    "        \n",
    "def collate(samples):   # converts individual graph samples into a single batch for training\n",
    "                        # input ... samples - a list of tuples, where each tuple contains (graph, label)\n",
    "                        # graph ... dgl graph object, label ... a target label\n",
    "    graphs, labels = map(list, zip(*samples))   # unpacking graphs and labels from the list of tuples and converting them into separate lists\n",
    "    batched_graph = dgl.batch(graphs)           # batching the graphs (sdružování grafů)\n",
    "    labels = torch.tensor(labels, dtype=torch.long) # converting list of labels into a PyTorch tensor\n",
    "    return batched_graph, labels\n",
    "                        # batched graph ... single batched graph combining individual graphs\n",
    "                        # labels ... tensor of labels for the batch\n",
    "\n",
    "class Hyperparameter_optimizer:     # optuna ... library for automatic hyperparameter tuning, selecting the best hyperparameters based on validation loss\n",
    "    def __init__(\n",
    "        self,\n",
    "        device,                     # GPU/CPU\n",
    "        subset_train_graphs,        # training data (graphs + labels)\n",
    "        subset_train_labels,\n",
    "        subset_val_graphs,          # validation data (graphs + labels)\n",
    "        subset_val_labels,\n",
    "        num_trials,                 # number of trials for optimization\n",
    "        num_epochs,                  # number of training epochs per trial\n",
    "        random_state\n",
    "    ):\n",
    "        self.device = device        # setting all of the parameters of the class\n",
    "        self.subset_train_graphs = subset_train_graphs\n",
    "        self.subset_train_labels = subset_train_labels\n",
    "        self.subset_val_graphs = subset_val_graphs\n",
    "        self.subset_val_labels = subset_val_labels\n",
    "        self.num_trials = num_trials\n",
    "        self.num_epochs = num_epochs\n",
    "        self.random_state = random_state\n",
    "    def objective(self, trial):     # sample hyperparameters, optuna is doing a \"smart\" selection of hyperparameters, which are most likely to give the best result\n",
    "        # optuna does not try all the combinations, since that would simply take too long\n",
    "        in_feats = 74,\n",
    "        #original: \n",
    "        #hidden_dim = trial.suggest_int('hidden_dim', 74, 256)#256) #, 512) #256)\n",
    "        hidden_dim = trial.suggest_int('hidden_dim', 139, 208)#256) #, 512) #256)    +-1\n",
    "\n",
    "        n_steps = trial.suggest_int('n_steps', 3, 20)\n",
    "\n",
    "        dropout_rate = trial.suggest_float('dropout_rate', 0.053, 0.489)\n",
    "        \n",
    "        lr = trial.suggest_float('lr', 1e-6, 1e-2, log=True)\n",
    "        # original\n",
    "        batch_size = trial.suggest_categorical('batch_size', [32, 128])\n",
    "        #original: \n",
    "        n_hidden_layers = trial.suggest_int('n_hidden_layers', 2, 6)\n",
    "        # original: \n",
    "        lr_scheduler = trial.suggest_categorical('lr_scheduler', ['StepLR', 'ExponentialLR'])\n",
    "\n",
    "        activation = trial.suggest_categorical('activation', ['RELU', 'LeakyRELU'])\n",
    "\n",
    "        \n",
    "        model = GGNN(              # initializing model with sampled hyperparameters\n",
    "            in_feats=74,    # same dimension as the label dimension\n",
    "            out_feats=hidden_dim,\n",
    "            n_steps=n_steps,\n",
    "            dropout_rate=dropout_rate,\n",
    "            n_etypes=1,\n",
    "            n_cls=2,\n",
    "            n_hidden_layers=n_hidden_layers,   # set differently?? TODO TODO TODO\n",
    "            activation = activation\n",
    "        #)      TODO TODO TODO - this is where the model is moved to the device (written by bot)\n",
    "        ).to(self.device)\n",
    "        \n",
    "        class_counts = np.bincount(self.subset_train_labels)\n",
    "        class_counts[class_counts == 0] = 1 # in some class has class count == 0 \n",
    "        class_weights = 1.0 / class_counts# if class_counts != 0 else 1.0\n",
    "        class_weights = torch.tensor(class_weights, dtype=torch.float32).to(self.device)\n",
    "        optimizer = optim.Adam(model.parameters(), lr=lr)   # using Adam optimizer\n",
    "        #criterion = nn.CrossEntropyLoss().to(self.device)   # criterion for the classification task\n",
    "        criterion = nn.CrossEntropyLoss(weight=class_weights).to(self.device)   # criterion for the classification task\n",
    "        \n",
    "        scheduler_obj = None\n",
    "        if lr_scheduler == 'None':\n",
    "            scheduler_obj = None\n",
    "        elif lr_scheduler == 'StepLR':\n",
    "            #original: \n",
    "            step_size = trial.suggest_int('step_size', 2, 10)\n",
    "            #step_size = trial.suggest_int('step_size', 4, 7)\n",
    "            #step_size = trial.suggest_int('step_size', 5, 15)\n",
    "            # original: gamma_step = trial.suggest_float('gamma_step', 0.01, 0.99)\n",
    "            gamma_step = trial.suggest_float('gamma_step', 0.67, 0.85)\n",
    "            #gamma_step = trial.suggest_float('gamma_step', 0.64, 0.72)\n",
    "            scheduler_obj = optim.lr_scheduler.StepLR(optimizer, step_size=step_size, gamma=gamma_step)\n",
    "        elif lr_scheduler == 'ExponentialLR':\n",
    "            gamma_exp = trial.suggest_float('gamma_exp', 0.33, 0.99)\n",
    "            #gamma_exp = trial.suggest_float('gamma_exp', 0.16, 0.34)\n",
    "            scheduler_obj = optim.lr_scheduler.ExponentialLR(optimizer, gamma=gamma_exp)\n",
    "        elif lr_scheduler == 'ReduceLROnPlateau':\n",
    "            patience = trial.suggest_int(\"patience\", 5, 15)\n",
    "            factor = trial.suggest_float('factor', 0.1, 0.90)\n",
    "            scheduler_obj = optim.lr_scheduler.ReduceLROnPlateau(optimizer, mode='min', patience=patience, factor=factor)\n",
    "        elif lr_scheduler == 'CosineAnnealingLR':\n",
    "            num_ep = trial.suggest_int('num_ep', 30, 100)\n",
    "            schedule_obj = optim.lr_scheduler.CosineAnnealingLR(optimizer, T_max=num_ep)\n",
    "            \n",
    "        # creating Dataloaders for training and validation - batches graphs and labels for training & validation\n",
    "            # Dataloaders in dgl ... handles graphs instead of regular tensors, creates mini-batches for efficient training, allows parallel processing, ...\n",
    "                                    # schuffles training data to prevent bias\n",
    "        train_loader = GraphDataLoader(\n",
    "            list(zip(self.subset_train_graphs, self.subset_train_labels)),\n",
    "            batch_size=batch_size,\n",
    "            shuffle=True,\n",
    "            collate_fn=collate,         # custom function for combining graphs into batches\n",
    "            num_workers=0)                            # debugging TODO TODO TODO\n",
    "            #num_workers=8)  # debugging TODO TODO TODO\n",
    "        val_loader = GraphDataLoader(\n",
    "            list(zip(self.subset_val_graphs, self.subset_val_labels)),\n",
    "            batch_size=batch_size,\n",
    "            shuffle=False,              # we do not want to schuffle the data - we want them fixed for consistency\n",
    "            collate_fn=collate,\n",
    "            num_workers=0)\n",
    "            #num_workers=8)\n",
    "\n",
    "        model.train()                   # we set the model into the training mode, but do not do the training itself --> therefore the following function\n",
    "        for epoch in range(self.num_epochs):    # training the model\n",
    "            for batched_graph, labels in train_loader:\n",
    "                batched_graph, labels = batched_graph.to(self.device), labels.to(self.device)   # moving graphs and labels into the device CPU/GPU\n",
    "                batched_graph.ndata['h'] = batched_graph.ndata['h'].to(self.device) # TODO TODO TODO - chatova práce\n",
    "                optimizer.zero_grad()\n",
    "                logits = model(batched_graph, batched_graph.ndata['h'].float())     # this line calls the model's forward pass using two inputs\n",
    "                        # batched graph ... graph structure containing connectivity information\n",
    "                        # second argument ... node features extracted from the graph, converted to floating point numbers\n",
    "                loss = criterion(logits, labels)\n",
    "                loss.backward()     # we calculated loss and we backpropagate the gradients\n",
    "                optimizer.step()\n",
    "\n",
    "            model.eval()\n",
    "            val_loss = 0.0\n",
    "            with torch.no_grad():\n",
    "                for batched_graph, labels in val_loader:\n",
    "                    batched_graph, labels = batched_graph.to(self.device), labels.to(self.device)\n",
    "                    batched_graph.ndata['h'] = batched_graph.ndata['h'].to(self.device) # TODO TODO TODO - chatova práce\n",
    "                    optimizer.zero_grad()\n",
    "                    logits = model(batched_graph, batched_graph.ndata['h'].float())\n",
    "                    loss = criterion(logits, labels)\n",
    "                    val_loss += loss.item()\n",
    "            val_loss = val_loss/len(val_loader)\n",
    "            trial.report(val_loss, epoch)       # we use this line to report the current validation loss at a given epoch for the ongoing trial\n",
    "                                                    # optuna is collecting these intermediates results, optuna can then stop the non-promising trials early\n",
    "            if isinstance(scheduler_obj, torch.optim.lr_scheduler.ReduceLROnPlateau):\n",
    "                scheduler_obj.step(val_loss)\n",
    "            elif scheduler_obj is not None:  # using the scheduler\n",
    "                scheduler_obj.step()\n",
    "            if trial.should_prune():            # asking optuna, if trial should be pruned (\"ended\")\n",
    "                raise optuna.TrialPruned()  # TODO TODO\n",
    "        return val_loss\n",
    "\n",
    "    def optimize(self):     # running the whole hyperparameter optimization using optuna\n",
    "        sampler = optuna.samplers.TPESampler(seed=self.random_state)\n",
    "        study = optuna.create_study(direction='minimize', pruner=MedianPruner(), sampler=sampler)\n",
    "        #study = optuna.create_study(direction='minimize', pruner=MedianPruner())    # creating study, telling optuna that the objective funciton should be minimized\n",
    "            # Medianpruner ... stops unpromising trials based on the median performance so far\n",
    "        study.optimize(self.objective, n_trials=self.num_trials, n_jobs=1)  # running optimization process, specifies, how many different sets of hyperparameters (different trials) to try\n",
    "        best_hyperparameters = study.best_trial.params\n",
    "        with open(f'ggnn_best_hyperparams.json', 'w') as f:    # saving the trials into a JSON file\n",
    "            json.dump(best_hyperparameters, f)\n",
    "        print(f\"Best hyperparameters are {best_hyperparameters}.\")  # printing the best hyperparameters\n",
    "        top_trials = sorted(study.trials, key=lambda t: t.value)[:10]\n",
    "\n",
    "        for i, trial in enumerate(top_trials, 1):\n",
    "            print(f\"\\nTrial #{i}\")\n",
    "            print(f\"  Value (Objective): {trial.value}\")\n",
    "            print(f\"  Params: {trial.params}\")\n",
    "\n",
    "\n",
    "\n",
    "\n",
    "def data_loading(address_train, address_val, address_test, RANDOM_STATE, part=1):\n",
    "    train_graphs, train_labels_dictionary = dgl.load_graphs(address_train)\n",
    "    train_labels = train_labels_dictionary['labels']\n",
    "    train_labels = train_labels.squeeze()\n",
    "    train_labels = train_labels.numpy()\n",
    "\n",
    "    val_graphs, val_labels_dictionary = dgl.load_graphs(address_val)\n",
    "    val_labels = val_labels_dictionary['labels']\n",
    "    val_labels = val_labels.squeeze()\n",
    "    val_labels = val_labels.numpy()\n",
    "\n",
    "    test_graphs, test_labels_dictionary = dgl.load_graphs(address_test)\n",
    "    test_labels = test_labels_dictionary['labels']\n",
    "    test_labels = test_labels.squeeze()\n",
    "    test_labels = test_labels.numpy()\n",
    "\n",
    "    subset_train_indices = np.random.choice(\n",
    "        len(train_graphs), size=int(len(train_graphs) * 0.2), replace=False # we choose 20% of the training graphs\n",
    "    )   # replace=False ensures that no index is selected more than once\n",
    "\n",
    "    subset_train_graphs = [train_graphs[i] for i in subset_train_indices] # we store the corresponding graphs\n",
    "    subset_train_labels = train_labels[subset_train_indices]    # we store the corresponding labels\n",
    "\n",
    "    subset_val_indices = np.random.choice(\n",
    "        len(val_graphs), size=int(len(val_graphs) * 0.2), replace=False\n",
    "    )\n",
    "    subset_val_graphs = [train_graphs[i] for i in subset_val_indices]\n",
    "    subset_val_labels = val_labels[subset_val_indices]\n",
    "\n",
    "    combined_train_graphs = train_graphs + val_graphs # + ... list concatenation, two lists are merged into one\n",
    "    combined_train_labels = np.concatenate((train_labels, val_labels))  # two arrays merged into one\n",
    "\n",
    "    graphs = combined_train_graphs + test_graphs\n",
    "    labels_numpy = np.concatenate((combined_train_labels, test_labels))\n",
    "\n",
    "    print(\n",
    "        f'Train: {len(train_graphs)},'\n",
    "        f'Val: {len(val_graphs)},'\n",
    "        f'Test: {len(test_graphs)},'\n",
    "        f'Val + Train combined: {len(combined_train_graphs)}'\n",
    "    )\n",
    "    print(\"\\nData loading completed\\n\")\n",
    "    sys.stdout.flush()\n",
    "    return {\n",
    "        \"graphs\": (graphs, labels_numpy),\n",
    "        \"train\": (train_graphs, train_labels),\n",
    "        \"val\": (val_graphs, val_labels),\n",
    "        \"test\": (test_graphs, test_labels),\n",
    "        \"subset_train\": (subset_train_graphs, subset_train_labels),\n",
    "        \"subset_val\": (subset_val_graphs, subset_val_labels),\n",
    "        \"combined_train\": (combined_train_graphs, combined_train_labels),\n",
    "    }\n",
    "    \n",
    "'''\n",
    "def data_loading(address, RANDOM_STATE, part=1):\n",
    "    graphs, labels_dictionary = dgl.load_graphs(address)\n",
    "    labels_tensor = labels_dictionary['labels']\n",
    "    labels_tensor = labels_tensor.squeeze()     # removing the dimensions of size 1 (reducing the size of the tensor without losing any of the underlying data)           \n",
    "                                                  # after squeezing, it becomes [batch_size]\n",
    "    labels_numpy = labels_tensor.numpy()    # we convert tensor to numpy array for compatibility with sklearn\n",
    "    num_samples = len(labels_numpy)\n",
    "    half_indices = np.random.choice(num_samples, size=num_samples//part, replace=False)\n",
    "    labels_numpy = labels_numpy[half_indices]\n",
    "    graphs = [graphs[i] for i in half_indices]\n",
    "    train_indices, test_indices, train_labels, test_labels = train_test_split(\n",
    "        range(len(labels_numpy)), labels_numpy, test_size=0.2, stratify=labels_numpy, random_state=RANDOM_STATE\n",
    "    )\n",
    "    train_indices, val_indices, train_labels, val_labels = train_test_split(\n",
    "        train_indices, train_labels, test_size=0.2, stratify=train_labels, random_state=RANDOM_STATE\n",
    "    )\n",
    "    # in order to make the hyperparameter tuning faster, smaller subset is used in order to speed up the process\n",
    "    # we select the graphs according to the corresponding indices\n",
    "    train_graphs = [graphs[i] for i in train_indices]\n",
    "    val_graphs = [graphs[i] for i in val_indices]\n",
    "    test_graphs = [graphs[i] for i in test_indices]\n",
    "    # we randomly select indices from the train_graph dataset\n",
    "    subset_train_indices = np.random.choice(\n",
    "        len(train_graphs), size=int(len(train_graphs) * 0.2), replace=False # we choose 20% of the training graphs\n",
    "    )   # replace=False ensures that no index is selected more than once\n",
    "\n",
    "    subset_train_graphs = [graphs[i] for i in subset_train_indices] # we store the corresponding graphs\n",
    "    subset_train_labels = train_labels[subset_train_indices]    # we store the corresponding labels\n",
    "\n",
    "    subset_val_indices = np.random.choice(\n",
    "        len(val_graphs), size=int(len(val_graphs) * 0.2), replace=False\n",
    "    )\n",
    "    subset_val_graphs = [graphs[i] for i in subset_val_indices]\n",
    "    subset_val_labels = val_labels[subset_val_indices]\n",
    "\n",
    "    combined_train_graphs = train_graphs + val_graphs # + ... list concatenation, two lists are merged into one\n",
    "    combined_train_labels = np.concatenate((train_labels, val_labels))  # two arrays merged into one\n",
    "    \n",
    "    print(\n",
    "        f'Train: {len(train_graphs)},'\n",
    "        f'Val: {len(val_graphs)},'\n",
    "        f'Test: {len(test_graphs)},'\n",
    "        f'Val + Train combined: {len(combined_train_graphs)}'\n",
    "    )\n",
    "    print(\"\\nData loading completed\\n\")\n",
    "    sys.stdout.flush()\n",
    "    return {\n",
    "        \"graphs\": (graphs, labels_numpy),\n",
    "        \"train\": (train_graphs, train_labels),\n",
    "        \"val\": (val_graphs, val_labels),\n",
    "        \"test\": (test_graphs, test_labels),\n",
    "        \"subset_train\": (subset_train_graphs, subset_train_labels),\n",
    "        \"subset_val\": (subset_val_graphs, subset_val_labels),\n",
    "        \"combined_train\": (combined_train_graphs, combined_train_labels),\n",
    "    }\n",
    "'''\n",
    "\n",
    "\n",
    "\n",
    "\n",
    "\n",
    "\n",
    "def main_train_loop():\n",
    "    device = torch.device(\"cuda\" if torch.cuda.is_available() else \"cpu\") # TODO ?? what is cuda??\n",
    "    RANDOM_STATE = 42\n",
    "    # setting the random state:\n",
    "    random.seed(RANDOM_STATE)\n",
    "    np.random.seed(RANDOM_STATE)\n",
    "    torch.manual_seed(RANDOM_STATE)\n",
    "    torch.cuda.manual_seed_all(RANDOM_STATE)\n",
    "    torch.backends.cudnn.deterministic = True\n",
    "    torch.backends.cudnn.benchmark = False\n",
    "    torch.use_deterministic_algorithms(True)\n",
    "    os.environ[\"PYTHONHASHSEED\"] = str(RANDOM_STATE)\n",
    "\n",
    "    \n",
    "    num_trials = 80\n",
    "    num_epochs = 80\n",
    "    tune_hyperparams = True\n",
    "    split_num = 1\n",
    "    \n",
    "    data = data_loading(f\"A2AR_graphs/a2ar_graphs_train{split_num}.bin\", \n",
    "                        f\"A2AR_graphs/a2ar_graphs_val{split_num}.bin\",\n",
    "                        f\"A2AR_graphs/a2ar_graphs_test{split_num}.bin\", RANDOM_STATE, part=1)\n",
    "    graphs,_ = data[\"graphs\"]\n",
    "    train_graphs, train_labels = data[\"train\"]\n",
    "    val_graphs, val_labels = data[\"val\"]\n",
    "    test_graphs, test_labels = data[\"test\"]\n",
    "    subset_train_graphs, subset_train_labels = data[\"subset_train\"]\n",
    "    subset_val_graphs, subset_val_labels = data[\"subset_val\"]\n",
    "    combined_train_graphs, combined_train_labels = data[\"combined_train\"]\n",
    "\n",
    "    print('Hyperparameter optimization...\\n')\n",
    "    sys.stdout.flush()\n",
    "\n",
    "    # TODO TODO TODO - vynechání braní jen 20% - můžeme v malém datasetu vybrat hodně malou část\n",
    "    #optimizer = Hyperparameter_optimizer(\n",
    "    #    device,\n",
    "    #    subset_train_graphs,\n",
    "    #    subset_train_labels,\n",
    "    #    subset_val_graphs,\n",
    "    #    subset_val_labels,\n",
    "    #    #num_trials=200,\n",
    "    #    num_trials=num_trials,\n",
    "    #    #num_epochs=100)   # TODO TODO TODO DEBUGGING\n",
    "    #    num_epochs=num_epochs)\n",
    "    if tune_hyperparams:\n",
    "        optimizer = Hyperparameter_optimizer(\n",
    "            device,\n",
    "            subset_train_graphs = train_graphs,\n",
    "            subset_train_labels = train_labels,\n",
    "            subset_val_graphs = val_graphs,\n",
    "            subset_val_labels = val_labels,\n",
    "            #num_trials=200,\n",
    "            num_trials=num_trials,\n",
    "            #num_epochs=100)   # TODO TODO TODO DEBUGGING\n",
    "            num_epochs=num_epochs,\n",
    "            random_state=RANDOM_STATE)\n",
    "\n",
    "        optimizer.optimize()\n",
    "    \n",
    "        print(\"Hyperparameter optimization done.\")\n",
    "        sys.stdout.flush()\n",
    "        print(\"\")\n",
    "\n",
    "    # we load the data using GraphDataLoader\n",
    "    with open(f'ggnn_best_hyperparams.json', 'r') as f:\n",
    "        best_hyperparameters = json.load(f)     # we load the best hyperparameters\n",
    "    #best_hyperparameters = {'hidden_dim': 233, 'n_steps': 30, 'dropout_rate': 0.341169915720463, 'lr': 0.0003658031949171658, 'batch_size': 128}\n",
    "    #best_hyperparameters = {'hidden_dim': 185, 'n_steps': 9, 'dropout_rate': 0.11182682561406088,\n",
    "    #                        'lr': 5.6871274586807215e-05, 'batch_size': 32, 'n_hidden_layers': 5,\n",
    "    #                        'lr_scheduler': 'StepLR', 'step_size': 10, 'gamma_step': 0.8877947930603478, \n",
    "    #                       'activation': 'RELU'}\n",
    "    \n",
    "    train_loader = GraphDataLoader(\n",
    "        list(zip(train_graphs, train_labels)),\n",
    "        batch_size=best_hyperparameters['batch_size'],\n",
    "        shuffle=True,\n",
    "        collate_fn=collate,\n",
    "        num_workers=0)\n",
    "        #num_workers=8)\n",
    "    val_loader = GraphDataLoader(\n",
    "        list(zip(val_graphs, val_labels)),\n",
    "        batch_size=best_hyperparameters['batch_size'],\n",
    "        shuffle=False,\n",
    "        collate_fn=collate,\n",
    "        num_workers=0)\n",
    "        #num_workers=8)\n",
    "    test_loader = GraphDataLoader(\n",
    "        list(zip(test_graphs, test_labels)),\n",
    "        batch_size=best_hyperparameters['batch_size'],\n",
    "        shuffle=False,\n",
    "        collate_fn=collate,\n",
    "        num_workers=0)\n",
    "        #num_workers=8)\n",
    "    combined_test_val_loader = GraphDataLoader(\n",
    "        list(\n",
    "            zip(\n",
    "                combined_train_graphs, combined_train_labels\n",
    "            )),\n",
    "        batch_size=best_hyperparameters['batch_size'],\n",
    "        shuffle=True,\n",
    "        collate_fn=collate,\n",
    "        num_workers=0)\n",
    "        #num_workers=8)\n",
    "    print(\"Dataloaders done.\")\n",
    "    print(\"Retraining using best parameters...\")\n",
    "    print(f\"Number of available node features (in_feats): {graphs[0].ndata['h'].shape[1]}\")  # Check available node features\n",
    "    model = GGNN(              # initializing model with sampled hyperparameters\n",
    "        in_feats=74,    # adjusting according to the dataset TODO TODO TODO !!!\n",
    "        out_feats=best_hyperparameters['hidden_dim'],\n",
    "        n_steps=best_hyperparameters['n_steps'],\n",
    "        dropout_rate=best_hyperparameters['dropout_rate'],\n",
    "        n_etypes=1,\n",
    "        n_cls=2,\n",
    "        n_hidden_layers=best_hyperparameters['n_hidden_layers'],\n",
    "        #n_hidden_layers=6,\n",
    "        activation = best_hyperparameters['activation']\n",
    "    ).to(device)\n",
    "    model.reset_parameters()    # reseting the parameters of the model before retraining\n",
    "\n",
    "    class_counts = np.bincount(combined_train_labels)\n",
    "    class_counts[class_counts == 0] = 1 # in some class has class count == 0 \n",
    "    class_weights = 1.0 / class_counts #if class_counts != 0 else 1.0\n",
    "    class_weights = torch.tensor(class_weights, dtype=torch.float32).to(device)\n",
    "\n",
    "    optimizer = optim.Adam(model.parameters(), lr=best_hyperparameters['lr'])\n",
    "    #criterion = nn.CrossEntropyLoss().to(device)   # criterion for the classification task\n",
    "    criterion = nn.CrossEntropyLoss(weight=class_weights).to(device)   # criterion for the classification task\n",
    "\n",
    "    lr_scheduler = None\n",
    "    if best_hyperparameters['lr_scheduler'] == 'None':\n",
    "        lr_scheduler = None\n",
    "    elif best_hyperparameters['lr_scheduler'] == 'StepLR':\n",
    "        lr_scheduler = optim.lr_scheduler.StepLR(optimizer, best_hyperparameters['step_size'], best_hyperparameters['gamma_step'])\n",
    "    elif best_hyperparameters['lr_scheduler'] == 'ExponentialLR':\n",
    "         lr_scheduler = optim.lr_scheduler.ExponentialLR(optimizer, best_hyperparameters['gamma_exp'])\n",
    "    elif best_hyperparameters['lr_scheduler'] == 'ReduceLROnPlateau':\n",
    "        lr_scheduler = optim.lr_scheduler.ReduceLROnPlateau(optimizer, mode='min', factor=best_hyperparameters['factor'], patience=best_hyperparameters['patience'])\n",
    "    elif best_hyperparameters['lr_scheduler'] == 'CosineAnnealingLR':\n",
    "        lr_scheduler = optim.lr_scheduler.CosineAnnealingLR(optimizer, best_hyperparameters['num_ep'])\n",
    "\n",
    "    #early_stopping = EarlyStopping(patience_loss=20, patience_mcc=20, verbose=False, delta_loss=0.001, delta_mcc=0.001)# - PUVODNI SETTING!\n",
    "    early_stopping = EarlyStopping(patience_loss=80, patience_mcc=80, verbose=False, delta_loss=0.001, delta_mcc=0.001)\n",
    "    training = Training(device)\n",
    "    training.train_and_evaluate(\n",
    "        model,\n",
    "        train_loader,\n",
    "        val_loader,\n",
    "        optimizer,\n",
    "        criterion,\n",
    "        early_stopping,                # Number of epochs TODO TODO TODO ... this one WAS 300, for debugging purposes 5\n",
    "        1000,\n",
    "        scheduler=lr_scheduler\n",
    "    )\n",
    "    optimal_epoch = early_stopping.best_epoch\n",
    "    print(f\"The best epoch was {optimal_epoch}\") \n",
    "    model.reset_parameters()    # before we train the model on test + val dataset, we reset all the parameters\n",
    "    print(\"Training done.\")\n",
    "    print(\"Final training...\")\n",
    "\n",
    "    class_counts = np.bincount(combined_train_labels)\n",
    "    class_counts[class_counts == 0] = 1 # in some class has class count == 0 \n",
    "    class_weights = 1.0 / class_counts #if class_counts != 0 else 1.0\n",
    "    class_weights = torch.tensor(class_weights, dtype=torch.float32).to(device)\n",
    "\n",
    "    optimizer = optim.Adam(model.parameters(), lr=best_hyperparameters['lr'])\n",
    "\n",
    "    lr_scheduler = None\n",
    "    if best_hyperparameters['lr_scheduler'] == 'None':\n",
    "        lr_scheduler = None\n",
    "    elif best_hyperparameters['lr_scheduler'] == 'StepLR':\n",
    "        lr_scheduler = optim.lr_scheduler.StepLR(optimizer, best_hyperparameters['step_size'], best_hyperparameters['gamma_step'])\n",
    "    elif best_hyperparameters['lr_scheduler'] == 'ExponentialLR':\n",
    "         lr_scheduler = optim.lr_scheduler.ExponentialLR(optimizer, best_hyperparameters['gamma_exp'])\n",
    "    elif best_hyperparameters['lr_scheduler'] == 'ReduceLROnPlateau':\n",
    "        lr_scheduler = optim.lr_scheduler.ReduceLROnPlateau(optimizer, mode='min', factor=best_hyperparameters['factor'], patience=best_hyperparameters['patience'])\n",
    "    elif best_hyperparameters['lr_scheduler'] == 'CosineAnnealingLR':\n",
    "        lr_scheduler = optim.lr_scheduler.CosineAnnealingLR(optimizer, best_hyperparameters['num_ep'])\n",
    "\n",
    "    #criterion = nn.CrossEntropyLoss().to(device)   # criterion for the classification task\n",
    "    criterion = nn.CrossEntropyLoss(weight=class_weights).to(device)   # criterion for the classification task\n",
    "    \n",
    "    training.train_and_evaluate(\n",
    "        model,\n",
    "        combined_test_val_loader,\n",
    "        None,\n",
    "        optimizer,\n",
    "        criterion,\n",
    "        None,\n",
    "        optimal_epoch,\n",
    "        scheduler=lr_scheduler\n",
    "    )\n",
    "    torch.save(model.state_dict(), f'ggnn_G_model.pt')\n",
    "    print(\"Training done.\")\n",
    "    print(\"Evaluating on test_dataset\")\n",
    "    training.evaluate_on_test(model, test_loader, criterion)\n",
    "    print(\"Evaluation done.\")\n",
    "\n",
    "if __name__ == \"__main__\":\n",
    "    # This ensures that multiprocessing works safely when used with PyTorch DataLoader\n",
    "    import multiprocessing\n",
    "    multiprocessing.set_start_method('spawn', force=True)  # Ensure spawn method is used for safe process spawning\n",
    "\n",
    "    main_train_loop()\n"
   ]
  },
  {
   "cell_type": "code",
   "execution_count": null,
   "id": "200587a1-579c-4a3f-b4aa-ed610766b7bb",
   "metadata": {
    "papermill": {
     "duration": 0.016591,
     "end_time": "2025-05-05T14:47:38.607968",
     "exception": false,
     "start_time": "2025-05-05T14:47:38.591377",
     "status": "completed"
    },
    "tags": []
   },
   "outputs": [],
   "source": []
  }
 ],
 "metadata": {
  "kernelspec": {
   "display_name": "Python 3 (ipykernel)",
   "language": "python",
   "name": "python3"
  },
  "language_info": {
   "codemirror_mode": {
    "name": "ipython",
    "version": 3
   },
   "file_extension": ".py",
   "mimetype": "text/x-python",
   "name": "python",
   "nbconvert_exporter": "python",
   "pygments_lexer": "ipython3",
   "version": "3.10.16"
  },
  "papermill": {
   "default_parameters": {},
   "duration": 18978.361161,
   "end_time": "2025-05-05T14:47:41.690231",
   "environment_variables": {},
   "exception": null,
   "input_path": "GGNN_model.ipynb",
   "output_path": "run_out_A2AR/GGNN_tune2_out1.ipynb",
   "parameters": {},
   "start_time": "2025-05-05T09:31:23.329070",
   "version": "2.6.0"
  }
 },
 "nbformat": 4,
 "nbformat_minor": 5
}